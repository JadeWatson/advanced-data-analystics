{
 "cells": [
  {
   "cell_type": "markdown",
   "source": [
    "## CMPE 351 Assignment 2: Image Classification using CNNs"
   ],
   "metadata": {
    "collapsed": false
   }
  },
  {
   "cell_type": "markdown",
   "source": [
    "### Data Understanding and Exploration"
   ],
   "metadata": {
    "collapsed": false
   }
  },
  {
   "cell_type": "code",
   "execution_count": 1,
   "outputs": [
    {
     "name": "stdout",
     "output_type": "stream",
     "text": [
      "['.idea', '351_Assignment_2.pdf', 'Assignment2.ipynb', 'images', 'JadeWatsonAssignment2.ipynb', 'JadeWatsonAssignment2.pdf', 'JadeWatsonAssignment2jw.ipynb', 'Prof Tian', 'test', 'test.csv', 'test_label', 'train', 'train.csv', 'train_label']\n"
     ]
    }
   ],
   "source": [
    "import pandas as pd\n",
    "import os # accessing directory structure\n",
    "\n",
    "# Folder containing Dataset\n",
    "datasetPath = r\"C:/Users/Jade Watson/Documents/CMPE 351/Assignment2//\"\n",
    "print(os.listdir(datasetPath))"
   ],
   "metadata": {
    "collapsed": false,
    "pycharm": {
     "name": "#%%\n"
    }
   }
  },
  {
   "cell_type": "code",
   "execution_count": 2,
   "outputs": [
    {
     "data": {
      "text/plain": "   imageid       label                            productname\n0    46908  Bottomwear          Peter England Men White Jeans\n1     7394       Shoes        Red Tape Men Black Formal Shoes\n2    33055     Topwear         U.S.Polo Assn. Men Check Shirt\n3    30525   Innerwear      Lovable Cotton Essensuals Red Bra\n4     4336       Shoes    Fila Men's Leonard White Black Shoe\n5    55366      Others   Revlon Mocha Express Nail Polish 343\n6    11874       Shoes  Franco Leone Men Casual Black Sandals\n7    32771     Topwear       Batman Men Printed White T-shirt\n8     6377       Shoes     Numero Uno Men's Brown Canvas Shoe\n9    50622   Innerwear             Chromozome Men White Brief",
      "text/html": "<div>\n<style scoped>\n    .dataframe tbody tr th:only-of-type {\n        vertical-align: middle;\n    }\n\n    .dataframe tbody tr th {\n        vertical-align: top;\n    }\n\n    .dataframe thead th {\n        text-align: right;\n    }\n</style>\n<table border=\"1\" class=\"dataframe\">\n  <thead>\n    <tr style=\"text-align: right;\">\n      <th></th>\n      <th>imageid</th>\n      <th>label</th>\n      <th>productname</th>\n    </tr>\n  </thead>\n  <tbody>\n    <tr>\n      <th>0</th>\n      <td>46908</td>\n      <td>Bottomwear</td>\n      <td>Peter England Men White Jeans</td>\n    </tr>\n    <tr>\n      <th>1</th>\n      <td>7394</td>\n      <td>Shoes</td>\n      <td>Red Tape Men Black Formal Shoes</td>\n    </tr>\n    <tr>\n      <th>2</th>\n      <td>33055</td>\n      <td>Topwear</td>\n      <td>U.S.Polo Assn. Men Check Shirt</td>\n    </tr>\n    <tr>\n      <th>3</th>\n      <td>30525</td>\n      <td>Innerwear</td>\n      <td>Lovable Cotton Essensuals Red Bra</td>\n    </tr>\n    <tr>\n      <th>4</th>\n      <td>4336</td>\n      <td>Shoes</td>\n      <td>Fila Men's Leonard White Black Shoe</td>\n    </tr>\n    <tr>\n      <th>5</th>\n      <td>55366</td>\n      <td>Others</td>\n      <td>Revlon Mocha Express Nail Polish 343</td>\n    </tr>\n    <tr>\n      <th>6</th>\n      <td>11874</td>\n      <td>Shoes</td>\n      <td>Franco Leone Men Casual Black Sandals</td>\n    </tr>\n    <tr>\n      <th>7</th>\n      <td>32771</td>\n      <td>Topwear</td>\n      <td>Batman Men Printed White T-shirt</td>\n    </tr>\n    <tr>\n      <th>8</th>\n      <td>6377</td>\n      <td>Shoes</td>\n      <td>Numero Uno Men's Brown Canvas Shoe</td>\n    </tr>\n    <tr>\n      <th>9</th>\n      <td>50622</td>\n      <td>Innerwear</td>\n      <td>Chromozome Men White Brief</td>\n    </tr>\n  </tbody>\n</table>\n</div>"
     },
     "execution_count": 2,
     "metadata": {},
     "output_type": "execute_result"
    }
   ],
   "source": [
    "# Style Dataframe\n",
    "df = pd.read_csv(datasetPath + \"train.csv\", delimiter='\\t')\n",
    "df = df.sample(frac=1).reset_index(drop=True)\n",
    "df.head(10)"
   ],
   "metadata": {
    "collapsed": false,
    "pycharm": {
     "name": "#%%\n"
    }
   }
  },
  {
   "cell_type": "markdown",
   "source": [
    "We can see that the dataset contains a variety of different clothing images. Specifically, I wish to focus on the subCategory Column. The 13 subcategories defined for the training set are topwear, bottomwear, innerwear, bags, watches, jewellery, eyewear, wallets, shoes, sandal, makeup, fragrance, and other. I wish to classify the dataset images into their appropriate subcategory using a CNN."
   ],
   "metadata": {
    "collapsed": false
   }
  },
  {
   "cell_type": "markdown",
   "source": [
    "#### Split Images Into Test and Training Folders"
   ],
   "metadata": {
    "collapsed": false
   }
  },
  {
   "cell_type": "code",
   "execution_count": 3,
   "outputs": [
    {
     "name": "stdout",
     "output_type": "stream",
     "text": [
      "[WinError 183] Cannot create a file when that file already exists: './train/'\n"
     ]
    }
   ],
   "source": [
    "trainFolder = './train/'\n",
    "try:\n",
    "    os.mkdir(trainFolder)\n",
    "except OSError as error:\n",
    "    print(error)"
   ],
   "metadata": {
    "collapsed": false,
    "pycharm": {
     "name": "#%%\n"
    }
   }
  },
  {
   "cell_type": "code",
   "execution_count": 4,
   "outputs": [
    {
     "name": "stdout",
     "output_type": "stream",
     "text": [
      "[WinError 183] Cannot create a file when that file already exists: './test/'\n"
     ]
    }
   ],
   "source": [
    "testFolder = './test/'\n",
    "try:\n",
    "    os.mkdir(testFolder)\n",
    "except OSError as error:\n",
    "    print(error)"
   ],
   "metadata": {
    "collapsed": false,
    "pycharm": {
     "name": "#%%\n"
    }
   }
  },
  {
   "cell_type": "code",
   "execution_count": null,
   "outputs": [],
   "source": [
    "from PIL import Image # used for loading images\n",
    "\n",
    "for img in os.listdir(\"./images/\"):\n",
    "    imgFile = Image.open('./images/' + img)\n",
    "    imgName = img.split('.')[0] # removes the .jpeg in images\n",
    "    if imgName in df.imageid:\n",
    "        imgFile.save(\"./train/\" + img)\n",
    "    else:\n",
    "        imgFile.save(\"./test/\" + img)"
   ],
   "metadata": {
    "collapsed": false,
    "pycharm": {
     "name": "#%%\n",
     "is_executing": true
    }
   }
  },
  {
   "cell_type": "markdown",
   "source": [
    "The dataset of images have been split into their respective training and testing folders and are now ready to be formatted to be imported to the Keras model."
   ],
   "metadata": {
    "collapsed": false
   }
  },
  {
   "cell_type": "markdown",
   "source": [
    "### Preparing Labels"
   ],
   "metadata": {
    "collapsed": false,
    "pycharm": {
     "name": "#%% md\n"
    }
   }
  },
  {
   "cell_type": "code",
   "execution_count": 13,
   "outputs": [
    {
     "name": "stdout",
     "output_type": "stream",
     "text": [
      "[WinError 183] Cannot create a file when that file already exists: './test_label'\n"
     ]
    }
   ],
   "source": [
    "testLabelFolder = './test_label'\n",
    "try:\n",
    "    os.mkdir(testLabelFolder)\n",
    "except OSError as error:\n",
    "    print(error)"
   ],
   "metadata": {
    "collapsed": false,
    "pycharm": {
     "name": "#%%\n"
    }
   }
  },
  {
   "cell_type": "code",
   "execution_count": 14,
   "outputs": [
    {
     "name": "stdout",
     "output_type": "stream",
     "text": [
      "[WinError 183] Cannot create a file when that file already exists: './train_label'\n"
     ]
    }
   ],
   "source": [
    "trainLabelFolder = './train_label'\n",
    "try:\n",
    "    os.mkdir(trainLabelFolder)\n",
    "except OSError as error:\n",
    "    print(error)"
   ],
   "metadata": {
    "collapsed": false,
    "pycharm": {
     "name": "#%%\n"
    }
   }
  },
  {
   "cell_type": "code",
   "execution_count": 3,
   "outputs": [],
   "source": [
    "# train dictionary for imageid: label\n",
    "labeling_train_dict = {}\n",
    "f = open(datasetPath + 'train.csv', \"r\")\n",
    "fileContents = f.read()\n",
    "fileContents = fileContents.split('\\n')\n",
    "# Loop through the training csv to match id with its label in respective dictionaries\n",
    "for i in range(1, len(fileContents)-1):\n",
    "    fileContents[i] = fileContents[i].split('\\t')\n",
    "    labeling_train_dict[fileContents[i][0]] = fileContents[i][1]"
   ],
   "metadata": {
    "collapsed": false,
    "pycharm": {
     "name": "#%%\n"
    }
   }
  },
  {
   "cell_type": "code",
   "execution_count": 4,
   "outputs": [],
   "source": [
    "# Build a counting dictionary for each product type to assign labels to images\n",
    "labels = labeling_train_dict.values()\n",
    "label_set = set(labels)\n",
    "counting_train_dict = {}\n",
    "for i in label_set:\n",
    "    counting_train_dict[i] = 0\n",
    "\n",
    "train_ids = labeling_train_dict.keys()"
   ],
   "metadata": {
    "collapsed": false,
    "pycharm": {
     "name": "#%%\n"
    }
   }
  },
  {
   "cell_type": "code",
   "execution_count": 19,
   "outputs": [],
   "source": [
    "import numpy as np\n",
    "import imageio # used for writing images\n",
    "\n",
    "for img in os.listdir('./train'):\n",
    "    # converts '123456.jpg' --> '123456'\n",
    "    imgName = img.split('.')[0]\n",
    "    label = labeling_train_dict[str(imgName)]\n",
    "    counting_train_dict[label] += 1\n",
    "    path = os.path.join('./train', img)\n",
    "    # Name based on how many of each product label has already been counted ('Shoes-1, Shoes-2, ...)\n",
    "    saveName = './train_label/' + label + '-' + str(counting_train_dict[label]) + '.jpg'\n",
    "    image_data = np.array(Image.open(path))\n",
    "    #create new image files with the names \"\"\n",
    "    imageio.imwrite(saveName, image_data)"
   ],
   "metadata": {
    "collapsed": false,
    "pycharm": {
     "name": "#%%\n"
    }
   }
  },
  {
   "cell_type": "code",
   "execution_count": 5,
   "outputs": [],
   "source": [
    "# test dictionary for imageid: label\n",
    "labeling_test_dict = {}\n",
    "f = open(datasetPath + 'test.csv', \"r\")\n",
    "fileContents = f.read()\n",
    "fileContents = fileContents.split('\\n')\n",
    "# Loop through the training csv (not including the header row)\n",
    "# Match id to its label and product name in respective dictionaries\n",
    "for i in range(1, len(fileContents)-1):\n",
    "    fileContents[i] = fileContents[i].split('\\t')\n",
    "    labeling_test_dict[fileContents[i][0]] = fileContents[i][1]"
   ],
   "metadata": {
    "collapsed": false,
    "pycharm": {
     "name": "#%%\n"
    }
   }
  },
  {
   "cell_type": "code",
   "execution_count": 6,
   "outputs": [],
   "source": [
    "# Build a counting dictionary for each product type to assign labels to images\n",
    "labels = labeling_test_dict.values()\n",
    "label_set = set(labels)\n",
    "counting_test_dict = {}\n",
    "for i in label_set:\n",
    "    counting_test_dict[i] = 0\n",
    "\n",
    "train_ids = labeling_test_dict.keys()"
   ],
   "metadata": {
    "collapsed": false,
    "pycharm": {
     "name": "#%%\n"
    }
   }
  },
  {
   "cell_type": "code",
   "execution_count": 25,
   "outputs": [],
   "source": [
    "import numpy as np\n",
    "import imageio # used for writing images\n",
    "\n",
    "for img in os.listdir('./test'):\n",
    "    # converts '123456.jpg' --> '123456'\n",
    "    imgName = img.split('.')[0]\n",
    "    label = labeling_test_dict[str(imgName)]\n",
    "    counting_test_dict[label] += 1\n",
    "    path = os.path.join('./test', img)\n",
    "    # Name based on how many of each product label has already been counted ('Shoes-1, Shoes-2, ...)\n",
    "    saveName = './test_label/' + label + '-' + str(counting_test_dict[label]) + '.jpg'\n",
    "    image_data = np.array(Image.open(path))\n",
    "    #create new image files with the names \"\"\n",
    "    imageio.imwrite(saveName, image_data)"
   ],
   "metadata": {
    "collapsed": false,
    "pycharm": {
     "name": "#%%\n"
    }
   }
  },
  {
   "cell_type": "markdown",
   "source": [
    "### One Hot Encoding Categorical Categories"
   ],
   "metadata": {
    "collapsed": false
   }
  },
  {
   "cell_type": "code",
   "execution_count": 3,
   "outputs": [],
   "source": [
    "def label_img(name):\n",
    "    word_label = name.split('-')[0]\n",
    "    if word_label == 'Topwear' : return np.array([1, 0, 0, 0, 0, 0, 0, 0, 0, 0, 0, 0, 0])\n",
    "    elif word_label == 'Bottomwear' : return np.array([0, 1, 0, 0, 0, 0, 0, 0, 0, 0, 0, 0, 0])\n",
    "    elif word_label == 'Innerwear' : return np.array([0, 0, 1, 0, 0, 0, 0, 0, 0, 0, 0, 0, 0])\n",
    "    elif word_label == 'Bags' : return np.array([0, 0, 0, 1, 0, 0, 0, 0, 0, 0, 0, 0, 0])\n",
    "    elif word_label == 'Watches' : return np.array([0, 0, 0, 0, 1, 0, 0, 0, 0, 0, 0, 0, 0])\n",
    "    elif word_label == 'Jewellery' : return np.array([0, 0, 0, 0, 0, 1, 0, 0, 0, 0, 0, 0, 0])\n",
    "    elif word_label == 'Eyewear' : return np.array([0, 0, 0, 0, 0, 0, 1, 0, 0, 0, 0, 0, 0])\n",
    "    elif word_label == 'Wallets' : return np.array([0, 0, 0, 0, 0, 0, 0, 1, 0, 0, 0, 0, 0])\n",
    "    elif word_label == 'Shoes' : return np.array([0, 0, 0, 0, 0, 0, 0, 0, 1, 0, 0, 0, 0])\n",
    "    elif word_label == 'Sandal' : return np.array([0, 0, 0, 0, 0, 0, 0, 0, 0, 1, 0, 0, 0])\n",
    "    elif word_label == 'Makeup' : return np.array([0, 0, 0, 0, 0, 0, 0, 0, 0, 0, 1, 0, 0])\n",
    "    elif word_label == 'Fragrance' : return np.array([0, 0, 0, 0, 0, 0, 0, 0, 0, 0, 0, 1, 0])\n",
    "    elif word_label == 'Others' : return np.array([0, 0, 0, 0, 0, 0, 0, 0, 0, 0, 0, 0, 1])"
   ],
   "metadata": {
    "collapsed": false,
    "pycharm": {
     "name": "#%%\n"
    }
   }
  },
  {
   "cell_type": "markdown",
   "source": [
    "### Format Images"
   ],
   "metadata": {
    "collapsed": false,
    "pycharm": {
     "name": "#%% md\n"
    }
   }
  },
  {
   "cell_type": "code",
   "execution_count": 4,
   "outputs": [],
   "source": [
    "DIR = './train_label'"
   ],
   "metadata": {
    "collapsed": false,
    "pycharm": {
     "name": "#%%\n"
    }
   }
  },
  {
   "cell_type": "code",
   "execution_count": 7,
   "outputs": [
    {
     "name": "stdout",
     "output_type": "stream",
     "text": [
      "Average Height: 79.99710689646646\n",
      "Max Height: 80\n",
      "Min Height: 60\n",
      "\n",
      "\n",
      "Average Width: 59.99814544645286\n",
      "Max Width: 60\n",
      "Min Width: 53\n"
     ]
    }
   ],
   "source": [
    "from PIL import Image\n",
    "import numpy as np\n",
    "import os\n",
    "from random import shuffle\n",
    "import matplotlib.pyplot as plt\n",
    "\n",
    "# function used to determine the format to be inputted to a keras model\n",
    "def get_size_statistics():\n",
    "    heights = []\n",
    "    widths = []\n",
    "    img_count = 0\n",
    "    for img in os.listdir(DIR):\n",
    "        path = os.path.join(DIR, img)\n",
    "        if \"DS_Store\" not in path:\n",
    "            data = np.array(Image.open(path))\n",
    "            heights.append(data.shape[0])\n",
    "            widths.append(data.shape[1])\n",
    "            img_count += 1\n",
    "    avg_height = sum(heights) / len(heights)\n",
    "    avg_width = sum(widths) / len(widths)\n",
    "    print(\"Average Height: \" + str(avg_height))\n",
    "    print(\"Max Height: \" + str(max(heights)))\n",
    "    print(\"Min Height: \" + str(min(heights)))\n",
    "    print('\\n')\n",
    "    print(\"Average Width: \" + str(avg_width))\n",
    "    print(\"Max Width: \" + str(max(widths)))\n",
    "    print(\"Min Width: \" + str(min(widths)))\n",
    "\n",
    "get_size_statistics()"
   ],
   "metadata": {
    "collapsed": false,
    "pycharm": {
     "name": "#%%\n"
    }
   }
  },
  {
   "cell_type": "markdown",
   "source": [
    "It is evident that the average height is 80 and the average width is 60. Thus, we want to resize all the images to 80x60."
   ],
   "metadata": {
    "collapsed": false
   }
  },
  {
   "cell_type": "code",
   "execution_count": 8,
   "outputs": [],
   "source": [
    "imgHeight = 80\n",
    "imgWidth = 60\n",
    "\n",
    "def load_training_data():\n",
    "    train_data = []\n",
    "    for img in os.listdir(DIR):\n",
    "        label = label_img(img)\n",
    "        path = os.path.join(DIR, img)\n",
    "        if \"DS_Store\" not in path:\n",
    "            img = Image.open(path)\n",
    "            img = img.convert('L')\n",
    "            img = img.resize((imgHeight, imgWidth), Image.ANTIALIAS)\n",
    "            train_data.append([np.array(img), label])\n",
    "\n",
    "    shuffle(train_data)\n",
    "    return train_data"
   ],
   "metadata": {
    "collapsed": false,
    "pycharm": {
     "name": "#%%\n"
    }
   }
  },
  {
   "cell_type": "code",
   "execution_count": 9,
   "outputs": [
    {
     "data": {
      "text/plain": "<matplotlib.image.AxesImage at 0x20ef9d2ab20>"
     },
     "execution_count": 9,
     "metadata": {},
     "output_type": "execute_result"
    },
    {
     "data": {
      "text/plain": "<Figure size 432x288 with 1 Axes>",
      "image/png": "[encoded data removed]"
     },
     "metadata": {
      "needs_background": "light"
     },
     "output_type": "display_data"
    }
   ],
   "source": [
    "train_data = load_training_data()\n",
    "plt.imshow(train_data[54][0], cmap='gist_gray')"
   ],
   "metadata": {
    "collapsed": false,
    "pycharm": {
     "name": "#%%\n"
    }
   }
  },
  {
   "cell_type": "code",
   "execution_count": 10,
   "outputs": [],
   "source": [
    "trainImages = np.array([i[0] for i in train_data]).reshape(-1, imgHeight, imgWidth, 1)\n",
    "trainLabels = np.array([i[1] for i in train_data])"
   ],
   "metadata": {
    "collapsed": false,
    "pycharm": {
     "name": "#%%\n"
    }
   }
  },
  {
   "cell_type": "code",
   "execution_count": 11,
   "outputs": [
    {
     "name": "stdout",
     "output_type": "stream",
     "text": [
      "(40441, 80, 60, 1)\n",
      "(40441, 13)\n"
     ]
    }
   ],
   "source": [
    "print(trainImages.shape)\n",
    "print(trainLabels.shape)"
   ],
   "metadata": {
    "collapsed": false,
    "pycharm": {
     "name": "#%%\n"
    }
   }
  },
  {
   "cell_type": "markdown",
   "source": [
    "### Create CNN"
   ],
   "metadata": {
    "collapsed": false,
    "pycharm": {
     "name": "#%% md\n"
    }
   }
  },
  {
   "cell_type": "code",
   "execution_count": 12,
   "outputs": [],
   "source": [
    "from keras.models import Sequential\n",
    "from keras.layers import Dense, Dropout, Flatten\n",
    "from keras.layers import Conv2D, MaxPooling2D\n",
    "from keras.layers import BatchNormalization\n",
    "import numpy as np"
   ],
   "metadata": {
    "collapsed": false,
    "pycharm": {
     "name": "#%%\n"
    }
   }
  },
  {
   "cell_type": "code",
   "execution_count": 16,
   "outputs": [],
   "source": [
    "model = Sequential()\n",
    "model.add(Conv2D(32, kernel_size = (3, 3), activation='relu', input_shape=(imgHeight, imgWidth, 1)))\n",
    "model.add(MaxPooling2D(pool_size=(2,2)))\n",
    "\n",
    "model.add(Conv2D(64, kernel_size=(3,3), activation='relu'))\n",
    "model.add(MaxPooling2D(pool_size=(2,2)))\n",
    "\n",
    "model.add(Flatten())\n",
    "model.add(Dense(13, activation = 'softmax'))"
   ],
   "metadata": {
    "collapsed": false,
    "pycharm": {
     "name": "#%%\n"
    }
   }
  },
  {
   "cell_type": "code",
   "execution_count": 17,
   "outputs": [],
   "source": [
    "model.compile(loss='categorical_crossentropy', optimizer='adam', metrics = ['accuracy'])"
   ],
   "metadata": {
    "collapsed": false,
    "pycharm": {
     "name": "#%%\n"
    }
   }
  },
  {
   "cell_type": "code",
   "execution_count": 18,
   "outputs": [
    {
     "name": "stdout",
     "output_type": "stream",
     "text": [
      "Epoch 1/5\n",
      "809/809 [==============================] - 232s 283ms/step - loss: 2.6601 - accuracy: 0.7730\n",
      "Epoch 2/5\n",
      "809/809 [==============================] - 204s 252ms/step - loss: 0.6294 - accuracy: 0.8075\n",
      "Epoch 3/5\n",
      "809/809 [==============================] - 209s 259ms/step - loss: 0.5908 - accuracy: 0.8192\n",
      "Epoch 4/5\n",
      "809/809 [==============================] - 230s 284ms/step - loss: 0.5555 - accuracy: 0.8289\n",
      "Epoch 5/5\n",
      "809/809 [==============================] - 173s 214ms/step - loss: 0.4998 - accuracy: 0.8455\n"
     ]
    }
   ],
   "source": [
    "model.fit(trainImages, trainLabels, batch_size = 50, epochs = 5, verbose = 1)\n",
    "validation_data = (trainImages,trainLabels)"
   ],
   "metadata": {
    "collapsed": false,
    "pycharm": {
     "name": "#%%\n"
    }
   }
  },
  {
   "cell_type": "code",
   "execution_count": 19,
   "outputs": [
    {
     "data": {
      "text/plain": "<matplotlib.image.AxesImage at 0x2a7ad98c0d0>"
     },
     "execution_count": 19,
     "metadata": {},
     "output_type": "execute_result"
    },
    {
     "data": {
      "text/plain": "<Figure size 432x288 with 1 Axes>",
      "image/png": "[encoded data removed]"
     },
     "metadata": {
      "needs_background": "light"
     },
     "output_type": "display_data"
    }
   ],
   "source": [
    "# Test on Test Set\n",
    "TEST_DIR = './test_label'\n",
    "def load_test_data():\n",
    "    test_data = []\n",
    "    for img in os.listdir(TEST_DIR):\n",
    "        label = label_img(img)\n",
    "        path = os.path.join(TEST_DIR, img)\n",
    "        if \"DS_Store\" not in path:\n",
    "            img = Image.open(path)\n",
    "            img = img.convert('L')\n",
    "            img = img.resize((imgHeight, imgWidth), Image.ANTIALIAS)\n",
    "            test_data.append([np.array(img), label])\n",
    "    shuffle(test_data)\n",
    "    return test_data\n",
    "\n",
    "test_data = load_test_data()\n",
    "plt.imshow(test_data[10][0], cmap = 'gist_gray')"
   ],
   "metadata": {
    "collapsed": false,
    "pycharm": {
     "name": "#%%\n"
    }
   }
  },
  {
   "cell_type": "code",
   "execution_count": 25,
   "outputs": [
    {
     "name": "stdout",
     "output_type": "stream",
     "text": [
      "Simple CNN accuracy on test:\n",
      "84.0250015258789\n"
     ]
    }
   ],
   "source": [
    "testImages = np.array([i[0] for i in test_data]).reshape(-1, imgHeight, imgWidth, 1)\n",
    "testLabels = np.array([i[1] for i in test_data])\n",
    "\n",
    "loss, acc = model.evaluate(testImages, testLabels, verbose = 0)\n",
    "print(\"Simple CNN accuracy on test:\")\n",
    "print(acc * 100)"
   ],
   "metadata": {
    "collapsed": false,
    "pycharm": {
     "name": "#%%\n"
    }
   }
  },
  {
   "cell_type": "code",
   "execution_count": 21,
   "outputs": [
    {
     "name": "stdout",
     "output_type": "stream",
     "text": [
      "Model: \"sequential\"\n",
      "_________________________________________________________________\n",
      " Layer (type)                Output Shape              Param #   \n",
      "=================================================================\n",
      " conv2d (Conv2D)             (None, 78, 58, 32)        320       \n",
      "                                                                 \n",
      " max_pooling2d (MaxPooling2D  (None, 39, 29, 32)       0         \n",
      " )                                                               \n",
      "                                                                 \n",
      " conv2d_1 (Conv2D)           (None, 37, 27, 64)        18496     \n",
      "                                                                 \n",
      " max_pooling2d_1 (MaxPooling  (None, 18, 13, 64)       0         \n",
      " 2D)                                                             \n",
      "                                                                 \n",
      " flatten (Flatten)           (None, 14976)             0         \n",
      "                                                                 \n",
      " dense (Dense)               (None, 13)                194701    \n",
      "                                                                 \n",
      "=================================================================\n",
      "Total params: 213,517\n",
      "Trainable params: 213,517\n",
      "Non-trainable params: 0\n",
      "_________________________________________________________________\n"
     ]
    }
   ],
   "source": [
    "model.summary()"
   ],
   "metadata": {
    "collapsed": false,
    "pycharm": {
     "name": "#%%\n"
    }
   }
  },
  {
   "cell_type": "code",
   "execution_count": 23,
   "outputs": [
    {
     "name": "stdout",
     "output_type": "stream",
     "text": [
      "Simple CNN accuracy on training:\n",
      "85.32429933547974\n"
     ]
    }
   ],
   "source": [
    "# Accuracy on training data\n",
    "train_data = load_training_data()\n",
    "trainImages = np.array([i[0] for i in train_data]).reshape(-1, imgHeight, imgWidth, 1)\n",
    "trainLabels = np.array([i[1] for i in train_data])\n",
    "\n",
    "loss, acc = model.evaluate(trainImages, trainLabels, verbose = 0)\n",
    "print(\"Simple CNN accuracy on training:\")\n",
    "print(acc * 100)"
   ],
   "metadata": {
    "collapsed": false,
    "pycharm": {
     "name": "#%%\n"
    }
   }
  },
  {
   "cell_type": "markdown",
   "source": [
    "### Improved Image Classification"
   ],
   "metadata": {
    "collapsed": false,
    "pycharm": {
     "name": "#%% md\n"
    }
   }
  },
  {
   "cell_type": "markdown",
   "source": [
    "#### Method 1: Tuning of the parameters"
   ],
   "metadata": {
    "collapsed": false,
    "pycharm": {
     "name": "#%% md\n"
    }
   }
  },
  {
   "cell_type": "code",
   "execution_count": 13,
   "outputs": [],
   "source": [
    "model = Sequential()\n",
    "\n",
    "model.add(Conv2D(32, kernel_size = (3, 3), activation='relu', input_shape=(imgHeight, imgWidth, 1)))\n",
    "model.add(MaxPooling2D(pool_size=(2,2)))\n",
    "model.add(BatchNormalization())\n",
    "\n",
    "model.add(Conv2D(64, kernel_size=(3,3), activation='relu'))\n",
    "model.add(MaxPooling2D(pool_size=(2,2)))\n",
    "model.add(BatchNormalization())\n",
    "model.add(Dropout(0.2))\n",
    "\n",
    "model.add(Conv2D(96, kernel_size=(3,3), activation='relu'))\n",
    "model.add(MaxPooling2D(pool_size=(2,2)))\n",
    "model.add(BatchNormalization())\n",
    "model.add(Dropout(0.2))\n",
    "\n",
    "model.add(Conv2D(128, kernel_size=(3,3), activation='relu'))\n",
    "model.add(MaxPooling2D(pool_size=(2,2)))\n",
    "model.add(BatchNormalization())\n",
    "model.add(Dropout(0.2))\n",
    "\n",
    "model.add(Flatten())\n",
    "model.add(Dense(128, activation='relu'))\n",
    "model.add(Dropout(0.3))\n",
    "model.add(Dense(13, activation = 'sigmoid'))"
   ],
   "metadata": {
    "collapsed": false,
    "pycharm": {
     "name": "#%%\n"
    }
   }
  },
  {
   "cell_type": "code",
   "execution_count": 14,
   "outputs": [],
   "source": [
    "model.compile(loss='categorical_crossentropy', optimizer='adam', metrics = ['accuracy'])"
   ],
   "metadata": {
    "collapsed": false,
    "pycharm": {
     "name": "#%%\n"
    }
   }
  },
  {
   "cell_type": "code",
   "execution_count": 15,
   "outputs": [
    {
     "name": "stdout",
     "output_type": "stream",
     "text": [
      "Epoch 1/5\n",
      "809/809 [==============================] - 233s 285ms/step - loss: 0.6366 - accuracy: 0.8041\n",
      "Epoch 2/5\n",
      "809/809 [==============================] - 251s 311ms/step - loss: 0.3798 - accuracy: 0.8832\n",
      "Epoch 3/5\n",
      "809/809 [==============================] - 251s 310ms/step - loss: 0.3182 - accuracy: 0.8998\n",
      "Epoch 4/5\n",
      "809/809 [==============================] - 170s 210ms/step - loss: 0.2808 - accuracy: 0.9127\n",
      "Epoch 5/5\n",
      "809/809 [==============================] - 178s 220ms/step - loss: 0.2564 - accuracy: 0.9180\n"
     ]
    }
   ],
   "source": [
    "model.fit(trainImages, trainLabels, batch_size = 50, epochs = 5, verbose = 1)\n",
    "validation_data = (trainImages,trainLabels)"
   ],
   "metadata": {
    "collapsed": false,
    "pycharm": {
     "name": "#%%\n"
    }
   }
  },
  {
   "cell_type": "code",
   "execution_count": 16,
   "outputs": [
    {
     "data": {
      "text/plain": "<matplotlib.image.AxesImage at 0x20e9e6cffd0>"
     },
     "execution_count": 16,
     "metadata": {},
     "output_type": "execute_result"
    },
    {
     "data": {
      "text/plain": "<Figure size 432x288 with 1 Axes>",
      "image/png": "[encoded data removed]"
     },
     "metadata": {
      "needs_background": "light"
     },
     "output_type": "display_data"
    }
   ],
   "source": [
    "# Test on Test Set\n",
    "TEST_DIR = './test_label'\n",
    "def load_test_data():\n",
    "    test_data = []\n",
    "    for img in os.listdir(TEST_DIR):\n",
    "        label = label_img(img)\n",
    "        path = os.path.join(TEST_DIR, img)\n",
    "        if \"DS_Store\" not in path:\n",
    "            img = Image.open(path)\n",
    "            img = img.convert('L')\n",
    "            img = img.resize((imgHeight, imgWidth), Image.ANTIALIAS)\n",
    "            test_data.append([np.array(img), label])\n",
    "    shuffle(test_data)\n",
    "    return test_data\n",
    "\n",
    "test_data = load_test_data()\n",
    "plt.imshow(test_data[10][0], cmap = 'gist_gray')"
   ],
   "metadata": {
    "collapsed": false,
    "pycharm": {
     "name": "#%%\n"
    }
   }
  },
  {
   "cell_type": "code",
   "execution_count": 17,
   "outputs": [
    {
     "name": "stdout",
     "output_type": "stream",
     "text": [
      "89.0999972820282\n"
     ]
    }
   ],
   "source": [
    "testImages = np.array([i[0] for i in test_data]).reshape(-1, imgHeight, imgWidth, 1)\n",
    "testLabels = np.array([i[1] for i in test_data])\n",
    "\n",
    "loss, acc = model.evaluate(testImages, testLabels, verbose = 0)\n",
    "print(acc * 100)"
   ],
   "metadata": {
    "collapsed": false,
    "pycharm": {
     "name": "#%%\n"
    }
   }
  },
  {
   "cell_type": "code",
   "execution_count": 18,
   "outputs": [
    {
     "name": "stdout",
     "output_type": "stream",
     "text": [
      "Model: \"sequential\"\n",
      "_________________________________________________________________\n",
      " Layer (type)                Output Shape              Param #   \n",
      "=================================================================\n",
      " conv2d (Conv2D)             (None, 78, 58, 32)        320       \n",
      "                                                                 \n",
      " max_pooling2d (MaxPooling2D  (None, 39, 29, 32)       0         \n",
      " )                                                               \n",
      "                                                                 \n",
      " batch_normalization (BatchN  (None, 39, 29, 32)       128       \n",
      " ormalization)                                                   \n",
      "                                                                 \n",
      " conv2d_1 (Conv2D)           (None, 37, 27, 64)        18496     \n",
      "                                                                 \n",
      " max_pooling2d_1 (MaxPooling  (None, 18, 13, 64)       0         \n",
      " 2D)                                                             \n",
      "                                                                 \n",
      " batch_normalization_1 (Batc  (None, 18, 13, 64)       256       \n",
      " hNormalization)                                                 \n",
      "                                                                 \n",
      " dropout (Dropout)           (None, 18, 13, 64)        0         \n",
      "                                                                 \n",
      " conv2d_2 (Conv2D)           (None, 16, 11, 96)        55392     \n",
      "                                                                 \n",
      " max_pooling2d_2 (MaxPooling  (None, 8, 5, 96)         0         \n",
      " 2D)                                                             \n",
      "                                                                 \n",
      " batch_normalization_2 (Batc  (None, 8, 5, 96)         384       \n",
      " hNormalization)                                                 \n",
      "                                                                 \n",
      " dropout_1 (Dropout)         (None, 8, 5, 96)          0         \n",
      "                                                                 \n",
      " conv2d_3 (Conv2D)           (None, 6, 3, 128)         110720    \n",
      "                                                                 \n",
      " max_pooling2d_3 (MaxPooling  (None, 3, 1, 128)        0         \n",
      " 2D)                                                             \n",
      "                                                                 \n",
      " batch_normalization_3 (Batc  (None, 3, 1, 128)        512       \n",
      " hNormalization)                                                 \n",
      "                                                                 \n",
      " dropout_2 (Dropout)         (None, 3, 1, 128)         0         \n",
      "                                                                 \n",
      " flatten (Flatten)           (None, 384)               0         \n",
      "                                                                 \n",
      " dense (Dense)               (None, 128)               49280     \n",
      "                                                                 \n",
      " dropout_3 (Dropout)         (None, 128)               0         \n",
      "                                                                 \n",
      " dense_1 (Dense)             (None, 13)                1677      \n",
      "                                                                 \n",
      "=================================================================\n",
      "Total params: 237,165\n",
      "Trainable params: 236,525\n",
      "Non-trainable params: 640\n",
      "_________________________________________________________________\n"
     ]
    }
   ],
   "source": [
    "model.summary()"
   ],
   "metadata": {
    "collapsed": false,
    "pycharm": {
     "name": "#%%\n"
    }
   }
  },
  {
   "cell_type": "markdown",
   "source": [
    "### Method 2: Data Augmentation"
   ],
   "metadata": {
    "collapsed": false,
    "pycharm": {
     "name": "#%% md\n"
    }
   }
  },
  {
   "cell_type": "code",
   "execution_count": 65,
   "outputs": [],
   "source": [
    "imgHeight = 80\n",
    "imgWidth = 60\n",
    "\n",
    "def load_training_data():\n",
    "    train_data = []\n",
    "    for img in os.listdir(DIR):\n",
    "        label = label_img(img)\n",
    "        path = os.path.join(DIR, img)\n",
    "        img = Image.open(path)\n",
    "        img = img.convert('L')\n",
    "        img = img.resize((imgHeight, imgWidth), Image.ANTIALIAS)\n",
    "        train_data.append([np.array(img), label])\n",
    "        # Basic Data Augmentation - Horizontal Flipping\n",
    "        flip_img = Image.open(path)\n",
    "        flip_img = flip_img.convert('L')\n",
    "        flip_img = flip_img.resize((imgHeight, imgWidth), Image.ANTIALIAS)\n",
    "        flip_img = np.array(flip_img)\n",
    "        flip_img = np.fliplr(flip_img)\n",
    "        train_data.append([flip_img, label])\n",
    "    shuffle(train_data)\n",
    "    return train_data"
   ],
   "metadata": {
    "collapsed": false,
    "pycharm": {
     "name": "#%%\n"
    }
   }
  },
  {
   "cell_type": "code",
   "execution_count": 66,
   "outputs": [
    {
     "data": {
      "text/plain": "<matplotlib.image.AxesImage at 0x1ebd80d1fa0>"
     },
     "execution_count": 66,
     "metadata": {},
     "output_type": "execute_result"
    },
    {
     "data": {
      "text/plain": "<Figure size 432x288 with 1 Axes>",
      "image/png": "[encoded data removed]"
     },
     "metadata": {
      "needs_background": "light"
     },
     "output_type": "display_data"
    }
   ],
   "source": [
    "train_data = load_training_data()\n",
    "plt.imshow(train_data[54][0], cmap='gist_gray')"
   ],
   "metadata": {
    "collapsed": false,
    "pycharm": {
     "name": "#%%\n"
    }
   }
  },
  {
   "cell_type": "code",
   "execution_count": 67,
   "outputs": [],
   "source": [
    "trainImages = np.array([i[0] for i in train_data]).reshape(-1, imgHeight, imgWidth, 1)\n",
    "trainLabels = np.array([i[1] for i in train_data])"
   ],
   "metadata": {
    "collapsed": false,
    "pycharm": {
     "name": "#%%\n"
    }
   }
  },
  {
   "cell_type": "code",
   "execution_count": 68,
   "outputs": [],
   "source": [
    "model = Sequential()\n",
    "model.add(Conv2D(32, kernel_size = (3, 3), activation='relu', input_shape=(imgHeight, imgWidth, 1)))\n",
    "model.add(MaxPooling2D(pool_size=(2,2)))\n",
    "\n",
    "model.add(Conv2D(64, kernel_size=(3,3), activation='relu'))\n",
    "model.add(MaxPooling2D(pool_size=(2,2)))\n",
    "\n",
    "model.add(Flatten())\n",
    "model.add(Dense(13, activation = 'softmax'))"
   ],
   "metadata": {
    "collapsed": false,
    "pycharm": {
     "name": "#%%\n"
    }
   }
  },
  {
   "cell_type": "code",
   "execution_count": 69,
   "outputs": [],
   "source": [
    "model.compile(loss='binary_crossentropy', optimizer='adam', metrics = ['accuracy'])"
   ],
   "metadata": {
    "collapsed": false,
    "pycharm": {
     "name": "#%%\n"
    }
   }
  },
  {
   "cell_type": "code",
   "execution_count": 70,
   "outputs": [
    {
     "name": "stdout",
     "output_type": "stream",
     "text": [
      "Epoch 1/5\n",
      "1618/1618 [==============================] - 296s 182ms/step - loss: 0.1549 - accuracy: 0.7833\n",
      "Epoch 2/5\n",
      "1618/1618 [==============================] - 310s 192ms/step - loss: 0.0754 - accuracy: 0.8454\n",
      "Epoch 3/5\n",
      "1618/1618 [==============================] - 307s 190ms/step - loss: 0.0615 - accuracy: 0.8771\n",
      "Epoch 4/5\n",
      "1618/1618 [==============================] - 305s 188ms/step - loss: 0.0524 - accuracy: 0.8961\n",
      "Epoch 5/5\n",
      "1618/1618 [==============================] - 306s 189ms/step - loss: 0.0476 - accuracy: 0.9076\n"
     ]
    }
   ],
   "source": [
    "model.fit(trainImages, trainLabels, batch_size = 50, epochs = 5, verbose = 1)\n",
    "validation_data = (trainImages,trainLabels)"
   ],
   "metadata": {
    "collapsed": false,
    "pycharm": {
     "name": "#%%\n"
    }
   }
  },
  {
   "cell_type": "code",
   "execution_count": 71,
   "outputs": [
    {
     "data": {
      "text/plain": "<matplotlib.image.AxesImage at 0x1ebd94a8670>"
     },
     "execution_count": 71,
     "metadata": {},
     "output_type": "execute_result"
    },
    {
     "data": {
      "text/plain": "<Figure size 432x288 with 1 Axes>",
      "image/png": "[encoded data removed]"
     },
     "metadata": {
      "needs_background": "light"
     },
     "output_type": "display_data"
    }
   ],
   "source": [
    "# Test on Test Set\n",
    "TEST_DIR = './test_label'\n",
    "def load_test_data():\n",
    "    test_data = []\n",
    "    for img in os.listdir(TEST_DIR):\n",
    "        label = label_img(img)\n",
    "        path = os.path.join(TEST_DIR, img)\n",
    "        if \"DS_Store\" not in path:\n",
    "            img = Image.open(path)\n",
    "            img = img.convert('L')\n",
    "            img = img.resize((imgHeight, imgWidth), Image.ANTIALIAS)\n",
    "            test_data.append([np.array(img), label])\n",
    "    shuffle(test_data)\n",
    "    return test_data\n",
    "\n",
    "test_data = load_test_data()\n",
    "plt.imshow(test_data[10][0], cmap = 'gist_gray')"
   ],
   "metadata": {
    "collapsed": false,
    "pycharm": {
     "name": "#%%\n"
    }
   }
  },
  {
   "cell_type": "code",
   "execution_count": 72,
   "outputs": [
    {
     "name": "stdout",
     "output_type": "stream",
     "text": [
      "90.20000100135803\n"
     ]
    }
   ],
   "source": [
    "testImages = np.array([i[0] for i in test_data]).reshape(-1, imgHeight, imgWidth, 1)\n",
    "testLabels = np.array([i[1] for i in test_data])\n",
    "\n",
    "loss, acc = model.evaluate(testImages, testLabels, verbose = 0)\n",
    "print(acc * 100)"
   ],
   "metadata": {
    "collapsed": false,
    "pycharm": {
     "name": "#%%\n"
    }
   }
  }
 ],
 "metadata": {
  "kernelspec": {
   "display_name": "Python 3",
   "language": "python",
   "name": "python3"
  },
  "language_info": {
   "codemirror_mode": {
    "name": "ipython",
    "version": 2
   },
   "file_extension": ".py",
   "mimetype": "text/x-python",
   "name": "python",
   "nbconvert_exporter": "python",
   "pygments_lexer": "ipython2",
   "version": "2.7.6"
  }
 },
 "nbformat": 4,
 "nbformat_minor": 0
}