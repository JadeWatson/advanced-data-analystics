{
 "cells": [
  {
   "cell_type": "markdown",
   "metadata": {
    "collapsed": true,
    "pycharm": {
     "name": "#%% md\n"
    }
   },
   "source": [
    "# CMPE351 Assignment 1: New York City (NYC) Housing Sales Data Analysis"
   ]
  },
  {
   "cell_type": "markdown",
   "source": [
    "### Importing Libraries and Filtering Dataset"
   ],
   "metadata": {
    "collapsed": false,
    "pycharm": {
     "name": "#%% md\n"
    }
   }
  },
  {
   "cell_type": "markdown",
   "source": [
    "Note that I answer the the Assignment questions out of order because I provide my analysis as I write my code. Each answer is labelled as per instructions."
   ],
   "metadata": {
    "collapsed": false
   }
  },
  {
   "cell_type": "code",
   "execution_count": 1,
   "outputs": [],
   "source": [
    "import pandas as pd\n",
    "import numpy as np\n",
    "import matplotlib.pyplot as plt\n",
    "%matplotlib inline\n",
    "import seaborn as sns\n",
    "import warnings\n",
    "warnings.filterwarnings('ignore')\n",
    "\n",
    "from sklearn.model_selection import train_test_split\n",
    "from sklearn.preprocessing import StandardScaler\n",
    "\n",
    "from sklearn.ensemble import RandomForestRegressor\n",
    "from sklearn.linear_model import Ridge\n",
    "\n",
    "from sklearn.metrics import mean_squared_error"
   ],
   "metadata": {
    "collapsed": false,
    "pycharm": {
     "name": "#%%\n"
    }
   }
  },
  {
   "cell_type": "code",
   "execution_count": 2,
   "outputs": [],
   "source": [
    "# Root folder for the sales data\n",
    "rootFolder = r'C:\\Users\\Jade Watson\\Documents\\JetBrains\\Assignment1\\Assignment1-dataset\\\\'\n",
    "\n",
    "# Read each csv file as a dataframe\n",
    "# Note that all numeric values with thousands contain commas which are removed using thousands\n",
    "# Bronx Dataframes\n",
    "bronx20df = pd.read_csv(rootFolder +'2020_bronx.csv',thousands= ',')\n",
    "#Manhattan Dataframes\n",
    "manh20df = pd.read_csv(rootFolder +'2020_manhattan.csv',thousands= ',')"
   ],
   "metadata": {
    "collapsed": false,
    "pycharm": {
     "name": "#%%\n"
    }
   }
  },
  {
   "cell_type": "code",
   "execution_count": 3,
   "outputs": [],
   "source": [
    "# Two selected boroughs (Bronx and Manhattan) 2020 data will be combined for further analysis\n",
    "selectedBorough1Data = bronx20df\n",
    "selectedBorough2Data = manh20df\n",
    "\n",
    "# Retain Borough numbers of each dataset for identification later on\n",
    "selectedBorough1Number = selectedBorough1Data.iat[1, 0]\n",
    "selectedBorough2Number = selectedBorough2Data.iat[1, 0]\n",
    "\n",
    "# Combine borough data\n",
    "totalData = pd.concat([selectedBorough1Data, selectedBorough2Data])"
   ],
   "metadata": {
    "collapsed": false,
    "pycharm": {
     "name": "#%%\n"
    }
   }
  },
  {
   "cell_type": "markdown",
   "source": [
    "### Data Inspection and Visualization"
   ],
   "metadata": {
    "collapsed": false,
    "pycharm": {
     "name": "#%% md\n"
    }
   }
  },
  {
   "cell_type": "code",
   "execution_count": 4,
   "outputs": [
    {
     "data": {
      "text/plain": "(25912, 21)"
     },
     "execution_count": 4,
     "metadata": {},
     "output_type": "execute_result"
    }
   ],
   "source": [
    "# shape of dataset\n",
    "totalData.shape"
   ],
   "metadata": {
    "collapsed": false,
    "pycharm": {
     "name": "#%%\n"
    }
   }
  },
  {
   "cell_type": "markdown",
   "source": [
    "Note 8150 records are from the Bronx and the remaining 17762 records are from Manhattan."
   ],
   "metadata": {
    "collapsed": false
   }
  },
  {
   "cell_type": "code",
   "execution_count": 5,
   "outputs": [
    {
     "data": {
      "text/plain": "   BOROUGH NEIGHBORHOOD  BUILDING CLASS CATEGORY TAX CLASS AT PRESENT   BLOCK  \\\n0      2.0     BATHGATE  01 ONE FAMILY DWELLINGS                    1  3029.0   \n1      2.0     BATHGATE  01 ONE FAMILY DWELLINGS                    1  3030.0   \n2      2.0     BATHGATE  01 ONE FAMILY DWELLINGS                    1  3030.0   \n3      2.0     BATHGATE  01 ONE FAMILY DWELLINGS                    1  3030.0   \n4      2.0     BATHGATE  01 ONE FAMILY DWELLINGS                    1  3039.0   \n\n    LOT  EASE-MENT BUILDING CLASS AT PRESENT              ADDRESS  \\\n0  36.0        NaN                        A5  418 EAST 180 STREET   \n1  65.0        NaN                        A1     4455 PARK AVENUE   \n2  67.0        NaN                        A1     4451 PARK AVENUE   \n3  67.0        NaN                        A1     4451 PARK AVENUE   \n4  29.0        NaN                        A9  2327 WASHINGTON AVE   \n\n  APARTMENT NUMBER  ...  RESIDENTIAL UNITS  COMMERCIAL UNITS  TOTAL UNITS  \\\n0              NaN  ...                1.0               0.0          1.0   \n1              NaN  ...                1.0               0.0          1.0   \n2              NaN  ...                1.0               0.0          1.0   \n3              NaN  ...                1.0               0.0          1.0   \n4              NaN  ...                1.0               0.0          1.0   \n\n   LAND SQUARE FEET  GROSS SQUARE FEET  YEAR BUILT  TAX CLASS AT TIME OF SALE  \\\n0            1568.0             1526.0      1899.0                        1.0   \n1            1622.0             1587.0      1899.0                        1.0   \n2            1646.0             1495.0      1899.0                        1.0   \n3            1646.0             1495.0      1899.0                        1.0   \n4            1095.0             1260.0      1910.0                        1.0   \n\n   BUILDING CLASS AT TIME OF SALE  SALE PRICE    SALE DATE  \n0                              A5          0.0  2020-07-09  \n1                              A1     458000.0  2020-01-31  \n2                              A1     275000.0  2020-03-16  \n3                              A1     475000.0  2020-07-23  \n4                              A9     165000.0  2020-03-02  \n\n[5 rows x 21 columns]",
      "text/html": "<div>\n<style scoped>\n    .dataframe tbody tr th:only-of-type {\n        vertical-align: middle;\n    }\n\n    .dataframe tbody tr th {\n        vertical-align: top;\n    }\n\n    .dataframe thead th {\n        text-align: right;\n    }\n</style>\n<table border=\"1\" class=\"dataframe\">\n  <thead>\n    <tr style=\"text-align: right;\">\n      <th></th>\n      <th>BOROUGH</th>\n      <th>NEIGHBORHOOD</th>\n      <th>BUILDING CLASS CATEGORY</th>\n      <th>TAX CLASS AT PRESENT</th>\n      <th>BLOCK</th>\n      <th>LOT</th>\n      <th>EASE-MENT</th>\n      <th>BUILDING CLASS AT PRESENT</th>\n      <th>ADDRESS</th>\n      <th>APARTMENT NUMBER</th>\n      <th>...</th>\n      <th>RESIDENTIAL UNITS</th>\n      <th>COMMERCIAL UNITS</th>\n      <th>TOTAL UNITS</th>\n      <th>LAND SQUARE FEET</th>\n      <th>GROSS SQUARE FEET</th>\n      <th>YEAR BUILT</th>\n      <th>TAX CLASS AT TIME OF SALE</th>\n      <th>BUILDING CLASS AT TIME OF SALE</th>\n      <th>SALE PRICE</th>\n      <th>SALE DATE</th>\n    </tr>\n  </thead>\n  <tbody>\n    <tr>\n      <th>0</th>\n      <td>2.0</td>\n      <td>BATHGATE</td>\n      <td>01 ONE FAMILY DWELLINGS</td>\n      <td>1</td>\n      <td>3029.0</td>\n      <td>36.0</td>\n      <td>NaN</td>\n      <td>A5</td>\n      <td>418 EAST 180 STREET</td>\n      <td>NaN</td>\n      <td>...</td>\n      <td>1.0</td>\n      <td>0.0</td>\n      <td>1.0</td>\n      <td>1568.0</td>\n      <td>1526.0</td>\n      <td>1899.0</td>\n      <td>1.0</td>\n      <td>A5</td>\n      <td>0.0</td>\n      <td>2020-07-09</td>\n    </tr>\n    <tr>\n      <th>1</th>\n      <td>2.0</td>\n      <td>BATHGATE</td>\n      <td>01 ONE FAMILY DWELLINGS</td>\n      <td>1</td>\n      <td>3030.0</td>\n      <td>65.0</td>\n      <td>NaN</td>\n      <td>A1</td>\n      <td>4455 PARK AVENUE</td>\n      <td>NaN</td>\n      <td>...</td>\n      <td>1.0</td>\n      <td>0.0</td>\n      <td>1.0</td>\n      <td>1622.0</td>\n      <td>1587.0</td>\n      <td>1899.0</td>\n      <td>1.0</td>\n      <td>A1</td>\n      <td>458000.0</td>\n      <td>2020-01-31</td>\n    </tr>\n    <tr>\n      <th>2</th>\n      <td>2.0</td>\n      <td>BATHGATE</td>\n      <td>01 ONE FAMILY DWELLINGS</td>\n      <td>1</td>\n      <td>3030.0</td>\n      <td>67.0</td>\n      <td>NaN</td>\n      <td>A1</td>\n      <td>4451 PARK AVENUE</td>\n      <td>NaN</td>\n      <td>...</td>\n      <td>1.0</td>\n      <td>0.0</td>\n      <td>1.0</td>\n      <td>1646.0</td>\n      <td>1495.0</td>\n      <td>1899.0</td>\n      <td>1.0</td>\n      <td>A1</td>\n      <td>275000.0</td>\n      <td>2020-03-16</td>\n    </tr>\n    <tr>\n      <th>3</th>\n      <td>2.0</td>\n      <td>BATHGATE</td>\n      <td>01 ONE FAMILY DWELLINGS</td>\n      <td>1</td>\n      <td>3030.0</td>\n      <td>67.0</td>\n      <td>NaN</td>\n      <td>A1</td>\n      <td>4451 PARK AVENUE</td>\n      <td>NaN</td>\n      <td>...</td>\n      <td>1.0</td>\n      <td>0.0</td>\n      <td>1.0</td>\n      <td>1646.0</td>\n      <td>1495.0</td>\n      <td>1899.0</td>\n      <td>1.0</td>\n      <td>A1</td>\n      <td>475000.0</td>\n      <td>2020-07-23</td>\n    </tr>\n    <tr>\n      <th>4</th>\n      <td>2.0</td>\n      <td>BATHGATE</td>\n      <td>01 ONE FAMILY DWELLINGS</td>\n      <td>1</td>\n      <td>3039.0</td>\n      <td>29.0</td>\n      <td>NaN</td>\n      <td>A9</td>\n      <td>2327 WASHINGTON AVE</td>\n      <td>NaN</td>\n      <td>...</td>\n      <td>1.0</td>\n      <td>0.0</td>\n      <td>1.0</td>\n      <td>1095.0</td>\n      <td>1260.0</td>\n      <td>1910.0</td>\n      <td>1.0</td>\n      <td>A9</td>\n      <td>165000.0</td>\n      <td>2020-03-02</td>\n    </tr>\n  </tbody>\n</table>\n<p>5 rows × 21 columns</p>\n</div>"
     },
     "execution_count": 5,
     "metadata": {},
     "output_type": "execute_result"
    }
   ],
   "source": [
    "# Data preview\n",
    "totalData.head()"
   ],
   "metadata": {
    "collapsed": false,
    "pycharm": {
     "name": "#%%\n"
    }
   }
  },
  {
   "cell_type": "code",
   "execution_count": 6,
   "outputs": [
    {
     "data": {
      "text/plain": "       BOROUGH NEIGHBORHOOD BUILDING CLASS CATEGORY TAX CLASS AT PRESENT  \\\n17757      NaN          NaN                     NaN                  NaN   \n17758      NaN          NaN                     NaN                  NaN   \n17759      NaN          NaN                     NaN                  NaN   \n17760      NaN          NaN                     NaN                  NaN   \n17761      NaN          NaN                     NaN                  NaN   \n\n       BLOCK  LOT  EASE-MENT BUILDING CLASS AT PRESENT ADDRESS  \\\n17757    NaN  NaN        NaN                       NaN     NaN   \n17758    NaN  NaN        NaN                       NaN     NaN   \n17759    NaN  NaN        NaN                       NaN     NaN   \n17760    NaN  NaN        NaN                       NaN     NaN   \n17761    NaN  NaN        NaN                       NaN     NaN   \n\n      APARTMENT NUMBER  ...  RESIDENTIAL UNITS  COMMERCIAL UNITS  TOTAL UNITS  \\\n17757              NaN  ...                NaN               NaN          NaN   \n17758              NaN  ...                NaN               NaN          NaN   \n17759              NaN  ...                NaN               NaN          NaN   \n17760              NaN  ...                NaN               NaN          NaN   \n17761              NaN  ...                NaN               NaN          NaN   \n\n       LAND SQUARE FEET  GROSS SQUARE FEET  YEAR BUILT  \\\n17757               NaN                NaN         NaN   \n17758               NaN                NaN         NaN   \n17759               NaN                NaN         NaN   \n17760               NaN                NaN         NaN   \n17761               NaN                NaN         NaN   \n\n       TAX CLASS AT TIME OF SALE  BUILDING CLASS AT TIME OF SALE  SALE PRICE   \\\n17757                        NaN                             NaN          NaN   \n17758                        NaN                             NaN          NaN   \n17759                        NaN                             NaN          NaN   \n17760                        NaN                             NaN          NaN   \n17761                        NaN                             NaN          NaN   \n\n       SALE DATE  \n17757        NaN  \n17758        NaN  \n17759        NaN  \n17760        NaN  \n17761        NaN  \n\n[5 rows x 21 columns]",
      "text/html": "<div>\n<style scoped>\n    .dataframe tbody tr th:only-of-type {\n        vertical-align: middle;\n    }\n\n    .dataframe tbody tr th {\n        vertical-align: top;\n    }\n\n    .dataframe thead th {\n        text-align: right;\n    }\n</style>\n<table border=\"1\" class=\"dataframe\">\n  <thead>\n    <tr style=\"text-align: right;\">\n      <th></th>\n      <th>BOROUGH</th>\n      <th>NEIGHBORHOOD</th>\n      <th>BUILDING CLASS CATEGORY</th>\n      <th>TAX CLASS AT PRESENT</th>\n      <th>BLOCK</th>\n      <th>LOT</th>\n      <th>EASE-MENT</th>\n      <th>BUILDING CLASS AT PRESENT</th>\n      <th>ADDRESS</th>\n      <th>APARTMENT NUMBER</th>\n      <th>...</th>\n      <th>RESIDENTIAL UNITS</th>\n      <th>COMMERCIAL UNITS</th>\n      <th>TOTAL UNITS</th>\n      <th>LAND SQUARE FEET</th>\n      <th>GROSS SQUARE FEET</th>\n      <th>YEAR BUILT</th>\n      <th>TAX CLASS AT TIME OF SALE</th>\n      <th>BUILDING CLASS AT TIME OF SALE</th>\n      <th>SALE PRICE</th>\n      <th>SALE DATE</th>\n    </tr>\n  </thead>\n  <tbody>\n    <tr>\n      <th>17757</th>\n      <td>NaN</td>\n      <td>NaN</td>\n      <td>NaN</td>\n      <td>NaN</td>\n      <td>NaN</td>\n      <td>NaN</td>\n      <td>NaN</td>\n      <td>NaN</td>\n      <td>NaN</td>\n      <td>NaN</td>\n      <td>...</td>\n      <td>NaN</td>\n      <td>NaN</td>\n      <td>NaN</td>\n      <td>NaN</td>\n      <td>NaN</td>\n      <td>NaN</td>\n      <td>NaN</td>\n      <td>NaN</td>\n      <td>NaN</td>\n      <td>NaN</td>\n    </tr>\n    <tr>\n      <th>17758</th>\n      <td>NaN</td>\n      <td>NaN</td>\n      <td>NaN</td>\n      <td>NaN</td>\n      <td>NaN</td>\n      <td>NaN</td>\n      <td>NaN</td>\n      <td>NaN</td>\n      <td>NaN</td>\n      <td>NaN</td>\n      <td>...</td>\n      <td>NaN</td>\n      <td>NaN</td>\n      <td>NaN</td>\n      <td>NaN</td>\n      <td>NaN</td>\n      <td>NaN</td>\n      <td>NaN</td>\n      <td>NaN</td>\n      <td>NaN</td>\n      <td>NaN</td>\n    </tr>\n    <tr>\n      <th>17759</th>\n      <td>NaN</td>\n      <td>NaN</td>\n      <td>NaN</td>\n      <td>NaN</td>\n      <td>NaN</td>\n      <td>NaN</td>\n      <td>NaN</td>\n      <td>NaN</td>\n      <td>NaN</td>\n      <td>NaN</td>\n      <td>...</td>\n      <td>NaN</td>\n      <td>NaN</td>\n      <td>NaN</td>\n      <td>NaN</td>\n      <td>NaN</td>\n      <td>NaN</td>\n      <td>NaN</td>\n      <td>NaN</td>\n      <td>NaN</td>\n      <td>NaN</td>\n    </tr>\n    <tr>\n      <th>17760</th>\n      <td>NaN</td>\n      <td>NaN</td>\n      <td>NaN</td>\n      <td>NaN</td>\n      <td>NaN</td>\n      <td>NaN</td>\n      <td>NaN</td>\n      <td>NaN</td>\n      <td>NaN</td>\n      <td>NaN</td>\n      <td>...</td>\n      <td>NaN</td>\n      <td>NaN</td>\n      <td>NaN</td>\n      <td>NaN</td>\n      <td>NaN</td>\n      <td>NaN</td>\n      <td>NaN</td>\n      <td>NaN</td>\n      <td>NaN</td>\n      <td>NaN</td>\n    </tr>\n    <tr>\n      <th>17761</th>\n      <td>NaN</td>\n      <td>NaN</td>\n      <td>NaN</td>\n      <td>NaN</td>\n      <td>NaN</td>\n      <td>NaN</td>\n      <td>NaN</td>\n      <td>NaN</td>\n      <td>NaN</td>\n      <td>NaN</td>\n      <td>...</td>\n      <td>NaN</td>\n      <td>NaN</td>\n      <td>NaN</td>\n      <td>NaN</td>\n      <td>NaN</td>\n      <td>NaN</td>\n      <td>NaN</td>\n      <td>NaN</td>\n      <td>NaN</td>\n      <td>NaN</td>\n    </tr>\n  </tbody>\n</table>\n<p>5 rows × 21 columns</p>\n</div>"
     },
     "execution_count": 6,
     "metadata": {},
     "output_type": "execute_result"
    }
   ],
   "source": [
    "totalData.tail()"
   ],
   "metadata": {
    "collapsed": false,
    "pycharm": {
     "name": "#%%\n"
    }
   }
  },
  {
   "cell_type": "code",
   "execution_count": 7,
   "outputs": [],
   "source": [
    "# Delete columns and rows with all null values.\n",
    "del totalData['EASE-MENT']\n",
    "totalData = totalData.dropna(axis = 0, inplace = False,how = 'all')"
   ],
   "metadata": {
    "collapsed": false,
    "pycharm": {
     "name": "#%%\n"
    }
   }
  },
  {
   "cell_type": "code",
   "execution_count": 8,
   "outputs": [
    {
     "data": {
      "text/plain": "(18022, 20)"
     },
     "execution_count": 8,
     "metadata": {},
     "output_type": "execute_result"
    }
   ],
   "source": [
    "# Checking to see if columns and rows were removed\n",
    "totalData.shape"
   ],
   "metadata": {
    "collapsed": false,
    "pycharm": {
     "name": "#%%\n"
    }
   }
  },
  {
   "cell_type": "code",
   "execution_count": 9,
   "outputs": [
    {
     "data": {
      "text/plain": "15"
     },
     "execution_count": 9,
     "metadata": {},
     "output_type": "execute_result"
    }
   ],
   "source": [
    "# Check for duplicates\n",
    "sum(totalData.duplicated(totalData.columns))"
   ],
   "metadata": {
    "collapsed": false,
    "pycharm": {
     "name": "#%%\n"
    }
   }
  },
  {
   "cell_type": "code",
   "execution_count": 10,
   "outputs": [
    {
     "data": {
      "text/plain": "0"
     },
     "execution_count": 10,
     "metadata": {},
     "output_type": "execute_result"
    }
   ],
   "source": [
    "# Remove duplicates\n",
    "totalData = totalData.drop_duplicates(totalData.columns, keep='last')\n",
    "sum(totalData.duplicated(totalData.columns))"
   ],
   "metadata": {
    "collapsed": false,
    "pycharm": {
     "name": "#%%\n"
    }
   }
  },
  {
   "cell_type": "code",
   "execution_count": 11,
   "outputs": [
    {
     "name": "stdout",
     "output_type": "stream",
     "text": [
      "<class 'pandas.core.frame.DataFrame'>\n",
      "Int64Index: 18007 entries, 0 to 11965\n",
      "Data columns (total 20 columns):\n",
      " #   Column                          Non-Null Count  Dtype  \n",
      "---  ------                          --------------  -----  \n",
      " 0   BOROUGH                         18007 non-null  float64\n",
      " 1   NEIGHBORHOOD                    18007 non-null  object \n",
      " 2   BUILDING CLASS CATEGORY         18007 non-null  object \n",
      " 3   TAX CLASS AT PRESENT            18004 non-null  object \n",
      " 4   BLOCK                           18007 non-null  float64\n",
      " 5   LOT                             18007 non-null  float64\n",
      " 6   BUILDING CLASS AT PRESENT       18004 non-null  object \n",
      " 7   ADDRESS                         18007 non-null  object \n",
      " 8   APARTMENT NUMBER                6204 non-null   object \n",
      " 9   ZIP CODE                        18007 non-null  float64\n",
      " 10  RESIDENTIAL UNITS               11268 non-null  float64\n",
      " 11  COMMERCIAL UNITS                5949 non-null   float64\n",
      " 12  TOTAL UNITS                     11696 non-null  float64\n",
      " 13  LAND SQUARE FEET                5521 non-null   float64\n",
      " 14  GROSS SQUARE FEET               5521 non-null   float64\n",
      " 15  YEAR BUILT                      16128 non-null  float64\n",
      " 16  TAX CLASS AT TIME OF SALE       18007 non-null  float64\n",
      " 17  BUILDING CLASS AT TIME OF SALE  18007 non-null  object \n",
      " 18   SALE PRICE                     18007 non-null  float64\n",
      " 19  SALE DATE                       18007 non-null  object \n",
      "dtypes: float64(12), object(8)\n",
      "memory usage: 2.9+ MB\n"
     ]
    }
   ],
   "source": [
    "# Description of columns\n",
    "totalData.info()"
   ],
   "metadata": {
    "collapsed": false,
    "pycharm": {
     "name": "#%%\n"
    }
   }
  },
  {
   "cell_type": "markdown",
   "source": [
    "Transform columns to a more appropriate data type. This is determined from the glossary provided with the dataset."
   ],
   "metadata": {
    "collapsed": false,
    "pycharm": {
     "name": "#%% md\n"
    }
   }
  },
  {
   "cell_type": "code",
   "execution_count": 12,
   "outputs": [],
   "source": [
    "# Convert columns to appropriate data type\n",
    "totalData['TAX CLASS AT TIME OF SALE'] = totalData['TAX CLASS AT TIME OF SALE'].astype('category')\n",
    "totalData['TAX CLASS AT PRESENT'] = totalData['TAX CLASS AT PRESENT'].astype('category')\n",
    "totalData['BOROUGH'] = totalData['BOROUGH'].astype('category')\n",
    "totalData['SALE DATE'] = pd.to_datetime(totalData['SALE DATE'], errors='coerce')"
   ],
   "metadata": {
    "collapsed": false,
    "pycharm": {
     "name": "#%%\n"
    }
   }
  },
  {
   "cell_type": "code",
   "execution_count": 13,
   "outputs": [
    {
     "data": {
      "text/plain": "Index(['TAX CLASS AT PRESENT', 'BUILDING CLASS AT PRESENT', 'APARTMENT NUMBER',\n       'RESIDENTIAL UNITS', 'COMMERCIAL UNITS', 'TOTAL UNITS',\n       'LAND SQUARE FEET', 'GROSS SQUARE FEET', 'YEAR BUILT'],\n      dtype='object')"
     },
     "execution_count": 13,
     "metadata": {},
     "output_type": "execute_result"
    }
   ],
   "source": [
    "# Columns with a Null value present\n",
    "totalData.columns[totalData.isnull().any()]"
   ],
   "metadata": {
    "collapsed": false,
    "pycharm": {
     "name": "#%%\n"
    }
   }
  },
  {
   "cell_type": "code",
   "execution_count": 14,
   "outputs": [
    {
     "data": {
      "text/plain": "LAND SQUARE FEET             69.339701\nGROSS SQUARE FEET            69.339701\nCOMMERCIAL UNITS             66.962848\nAPARTMENT NUMBER             65.546732\nRESIDENTIAL UNITS            37.424335\nTOTAL UNITS                  35.047482\nYEAR BUILT                   10.434831\nTAX CLASS AT PRESENT          0.016660\nBUILDING CLASS AT PRESENT     0.016660\ndtype: float64"
     },
     "execution_count": 14,
     "metadata": {},
     "output_type": "execute_result"
    }
   ],
   "source": [
    "# Percentage of null values in column\n",
    "missValues = totalData.isnull().sum()/len(totalData)\n",
    "missValues = missValues[missValues>0]*100\n",
    "missValues.sort_values(inplace=True, ascending=False)\n",
    "missValues"
   ],
   "metadata": {
    "collapsed": false,
    "pycharm": {
     "name": "#%%\n"
    }
   }
  },
  {
   "cell_type": "markdown",
   "source": [
    "The percentage of missing values in any of the features is not greater than 80% and thus cannot be removed immediately as they may provide significant insight house price prediction."
   ],
   "metadata": {
    "collapsed": false
   }
  },
  {
   "cell_type": "code",
   "execution_count": 15,
   "outputs": [
    {
     "data": {
      "text/plain": "<module 'seaborn' from 'C:\\\\Users\\\\Jade Watson\\\\anaconda3\\\\lib\\\\site-packages\\\\seaborn\\\\__init__.py'>"
     },
     "execution_count": 15,
     "metadata": {},
     "output_type": "execute_result"
    },
    {
     "data": {
      "text/plain": "<Figure size 432x288 with 1 Axes>",
      "image/png": "[encoded data removed]"
     },
     "metadata": {},
     "output_type": "display_data"
    }
   ],
   "source": [
    "# Setup missing values as a dataframe for easy plotting\n",
    "missValues=missValues.to_frame()\n",
    "# Column for the name and number of missing values\n",
    "missValues.columns=['Number']\n",
    "missValues.index.names=['Name']\n",
    "missValues['Name']=missValues.index\n",
    "# Plot\n",
    "sns.set(style='whitegrid', color_codes=True)\n",
    "sns.barplot(x='Name', y='Number', data=missValues)\n",
    "plt.xticks(rotation=90)\n",
    "sns"
   ],
   "metadata": {
    "collapsed": false,
    "pycharm": {
     "name": "#%%\n"
    }
   }
  },
  {
   "cell_type": "markdown",
   "source": [
    "### RQ1.2\n",
    "Land/Gross Square Feet have many missing values, however, these features will contribute to sale price prediction. Thus the missing values will be replaced with the mean of their respective Borough.\n",
    "\n",
    "To focus on housing sale price predictions, the commercial unit and total unit features will be dropped instead of being replaced to avoid sale price skewness and artificial outliers. Commercial properties such as office buildings and warehouses are more likely to have a higher sale price than houses. Consequently, since we are not focusing on commercial properties, address and apartment number will be removed.\n",
    "\n",
    "Records with missing Residential Unit information will be dropped as this feature is likely to contribute to sale price prediction.\n",
    "\n",
    "Features such as Year Built, Tax Class at Present, and Building Class at Present are minimal missing data and are not likely to contribute to sale price and thus the empty rows will be removed."
   ],
   "metadata": {
    "collapsed": false,
    "pycharm": {
     "name": "#%% md\n"
    }
   }
  },
  {
   "cell_type": "code",
   "execution_count": 16,
   "outputs": [],
   "source": [
    "del totalData['COMMERCIAL UNITS']\n",
    "del totalData['TOTAL UNITS']\n",
    "del totalData['ADDRESS']\n",
    "del totalData['APARTMENT NUMBER']"
   ],
   "metadata": {
    "collapsed": false,
    "pycharm": {
     "name": "#%%\n"
    }
   }
  },
  {
   "cell_type": "code",
   "execution_count": 17,
   "outputs": [],
   "source": [
    "# remove listings with missing values in Residential Unit, Tax Class at Present, and Building Class at Present\n",
    "totalData = totalData.dropna(axis=0,subset=['RESIDENTIAL UNITS','TAX CLASS AT PRESENT','BUILDING CLASS AT PRESENT','YEAR BUILT'])"
   ],
   "metadata": {
    "collapsed": false,
    "pycharm": {
     "name": "#%%\n"
    }
   }
  },
  {
   "cell_type": "code",
   "execution_count": 18,
   "outputs": [],
   "source": [
    "# Calculate mean of Land/Gross Square Feet for each borough\n",
    "borough1Mean = totalData[totalData['BOROUGH'] == selectedBorough1Number]['LAND SQUARE FEET'].mean()\n",
    "borough2Mean = totalData[totalData['BOROUGH'] == selectedBorough2Number]['LAND SQUARE FEET'].mean()\n",
    "gross1Mean = totalData[totalData['BOROUGH'] == selectedBorough1Number]['GROSS SQUARE FEET'].mean()\n",
    "gross2Mean = totalData[totalData['BOROUGH'] == selectedBorough2Number]['GROSS SQUARE FEET'].mean()\n",
    "# In each borough, add mean values to the listings with no information\n",
    "totalDataTemp1 = totalData[totalData['BOROUGH'] == selectedBorough1Number]\n",
    "totalDataTemp2 = totalData[totalData['BOROUGH'] == selectedBorough2Number]\n",
    "totalDataTemp1['LAND SQUARE FEET'] = totalDataTemp1['LAND SQUARE FEET'].fillna(borough1Mean)\n",
    "totalDataTemp2['LAND SQUARE FEET'] = totalDataTemp2['LAND SQUARE FEET'].fillna(borough2Mean)\n",
    "totalDataTemp1['GROSS SQUARE FEET'] = totalDataTemp1['GROSS SQUARE FEET'].fillna(gross1Mean)\n",
    "totalDataTemp2['GROSS SQUARE FEET'] = totalDataTemp2['GROSS SQUARE FEET'].fillna(gross2Mean)\n",
    "# Overwrite current total data will all null values filled in\n",
    "totalData = pd.concat([totalDataTemp1, totalDataTemp2])"
   ],
   "metadata": {
    "collapsed": false,
    "pycharm": {
     "name": "#%%\n"
    }
   }
  },
  {
   "cell_type": "markdown",
   "source": [
    "Cleaning and filtering of the data is done. The raw features of data are now ready to be analyzed."
   ],
   "metadata": {
    "collapsed": false
   }
  },
  {
   "cell_type": "code",
   "execution_count": 19,
   "outputs": [
    {
     "data": {
      "text/plain": "             BLOCK          LOT      ZIP CODE  RESIDENTIAL UNITS  \\\ncount  9581.000000  9581.000000   9581.000000        9581.000000   \nmean   2456.424590   716.479699  10223.397766           4.649723   \nstd    1733.702637   924.875640    218.719023          90.623860   \nmin       8.000000     1.000000  10001.000000           0.000000   \n25%    1057.000000    37.000000  10019.000000           1.000000   \n50%    1845.000000   146.000000  10065.000000           1.000000   \n75%    4052.000000  1198.000000  10465.000000           2.000000   \nmax    5955.000000  9116.000000  10475.000000        8764.000000   \n\n       LAND SQUARE FEET  GROSS SQUARE FEET   YEAR BUILT   SALE PRICE   \ncount      9.581000e+03       9.581000e+03  9581.000000  9.581000e+03  \nmean       3.306740e+04       3.939388e+04  1956.585012  2.339233e+06  \nstd        3.833994e+05       1.380703e+05    41.360713  1.714940e+07  \nmin        0.000000e+00       0.000000e+00  1111.000000  0.000000e+00  \n25%        2.500000e+03       2.406000e+03  1920.000000  0.000000e+00  \n50%        8.615968e+03       1.740266e+04  1952.000000  5.850000e+05  \n75%        8.615968e+03       5.720204e+04  1998.000000  1.525000e+06  \nmax        6.777433e+06       8.942176e+06  2021.000000  9.780904e+08  ",
      "text/html": "<div>\n<style scoped>\n    .dataframe tbody tr th:only-of-type {\n        vertical-align: middle;\n    }\n\n    .dataframe tbody tr th {\n        vertical-align: top;\n    }\n\n    .dataframe thead th {\n        text-align: right;\n    }\n</style>\n<table border=\"1\" class=\"dataframe\">\n  <thead>\n    <tr style=\"text-align: right;\">\n      <th></th>\n      <th>BLOCK</th>\n      <th>LOT</th>\n      <th>ZIP CODE</th>\n      <th>RESIDENTIAL UNITS</th>\n      <th>LAND SQUARE FEET</th>\n      <th>GROSS SQUARE FEET</th>\n      <th>YEAR BUILT</th>\n      <th>SALE PRICE</th>\n    </tr>\n  </thead>\n  <tbody>\n    <tr>\n      <th>count</th>\n      <td>9581.000000</td>\n      <td>9581.000000</td>\n      <td>9581.000000</td>\n      <td>9581.000000</td>\n      <td>9.581000e+03</td>\n      <td>9.581000e+03</td>\n      <td>9581.000000</td>\n      <td>9.581000e+03</td>\n    </tr>\n    <tr>\n      <th>mean</th>\n      <td>2456.424590</td>\n      <td>716.479699</td>\n      <td>10223.397766</td>\n      <td>4.649723</td>\n      <td>3.306740e+04</td>\n      <td>3.939388e+04</td>\n      <td>1956.585012</td>\n      <td>2.339233e+06</td>\n    </tr>\n    <tr>\n      <th>std</th>\n      <td>1733.702637</td>\n      <td>924.875640</td>\n      <td>218.719023</td>\n      <td>90.623860</td>\n      <td>3.833994e+05</td>\n      <td>1.380703e+05</td>\n      <td>41.360713</td>\n      <td>1.714940e+07</td>\n    </tr>\n    <tr>\n      <th>min</th>\n      <td>8.000000</td>\n      <td>1.000000</td>\n      <td>10001.000000</td>\n      <td>0.000000</td>\n      <td>0.000000e+00</td>\n      <td>0.000000e+00</td>\n      <td>1111.000000</td>\n      <td>0.000000e+00</td>\n    </tr>\n    <tr>\n      <th>25%</th>\n      <td>1057.000000</td>\n      <td>37.000000</td>\n      <td>10019.000000</td>\n      <td>1.000000</td>\n      <td>2.500000e+03</td>\n      <td>2.406000e+03</td>\n      <td>1920.000000</td>\n      <td>0.000000e+00</td>\n    </tr>\n    <tr>\n      <th>50%</th>\n      <td>1845.000000</td>\n      <td>146.000000</td>\n      <td>10065.000000</td>\n      <td>1.000000</td>\n      <td>8.615968e+03</td>\n      <td>1.740266e+04</td>\n      <td>1952.000000</td>\n      <td>5.850000e+05</td>\n    </tr>\n    <tr>\n      <th>75%</th>\n      <td>4052.000000</td>\n      <td>1198.000000</td>\n      <td>10465.000000</td>\n      <td>2.000000</td>\n      <td>8.615968e+03</td>\n      <td>5.720204e+04</td>\n      <td>1998.000000</td>\n      <td>1.525000e+06</td>\n    </tr>\n    <tr>\n      <th>max</th>\n      <td>5955.000000</td>\n      <td>9116.000000</td>\n      <td>10475.000000</td>\n      <td>8764.000000</td>\n      <td>6.777433e+06</td>\n      <td>8.942176e+06</td>\n      <td>2021.000000</td>\n      <td>9.780904e+08</td>\n    </tr>\n  </tbody>\n</table>\n</div>"
     },
     "execution_count": 19,
     "metadata": {},
     "output_type": "execute_result"
    }
   ],
   "source": [
    "# Statistical analysis of numerical values\n",
    "numericData = totalData.select_dtypes(include=[np.number])\n",
    "numericData.describe()"
   ],
   "metadata": {
    "collapsed": false,
    "pycharm": {
     "name": "#%%\n"
    }
   }
  },
  {
   "cell_type": "markdown",
   "source": [
    "### RQ1.2...\n",
    "It is evident that the mean sale price for new york housing based off of the Bronx and Manhattan Boroughs is 2,339,233 dollars with a range of 0 - 978,090,400 dollars. According to the glossary, a 0 dollar sale price indicates a transfer of ownership without a cash consideration. This heavily influences the distribution of sale price over 2020. For this reason, all sale prices of 0 will be dropped as they do not contribute to an accurate prediction of future housing sale price."
   ],
   "metadata": {
    "collapsed": false,
    "pycharm": {
     "name": "#%% md\n"
    }
   }
  },
  {
   "cell_type": "code",
   "execution_count": 20,
   "outputs": [],
   "source": [
    "totalData = totalData[totalData[' SALE PRICE '] > 0]"
   ],
   "metadata": {
    "collapsed": false,
    "pycharm": {
     "name": "#%%\n"
    }
   }
  },
  {
   "cell_type": "markdown",
   "source": [
    "To find if or what features contribute to house price prediction, a correlation analysis is performed."
   ],
   "metadata": {
    "collapsed": false
   }
  },
  {
   "cell_type": "code",
   "execution_count": 21,
   "outputs": [
    {
     "data": {
      "text/plain": " SALE PRICE          1.000000\nGROSS SQUARE FEET    0.118372\nRESIDENTIAL UNITS    0.030599\nLAND SQUARE FEET    -0.003855\nYEAR BUILT          -0.013224\nLOT                 -0.027256\nZIP CODE            -0.093752\nBLOCK               -0.096776\nName:  SALE PRICE , dtype: float64"
     },
     "execution_count": 21,
     "metadata": {},
     "output_type": "execute_result"
    }
   ],
   "source": [
    "# numeric correlation\n",
    "corr = totalData.corr()\n",
    "corr[' SALE PRICE '].sort_values(ascending = False)"
   ],
   "metadata": {
    "collapsed": false,
    "pycharm": {
     "name": "#%%\n"
    }
   }
  },
  {
   "cell_type": "markdown",
   "source": [
    "### RQ1.2...\n",
    "It is evident that Gross Square Feet and Residential Units are the two features that contribute to Sale Price. However, both do not heavily contribute to Sale Price as indicated by the numerical value. The strongest correlation is represented by 1. These features will be further investigated below."
   ],
   "metadata": {
    "collapsed": false
   }
  },
  {
   "cell_type": "markdown",
   "source": [
    "### Investigate and Visualize Data Features"
   ],
   "metadata": {
    "collapsed": false,
    "pycharm": {
     "name": "#%% md\n"
    }
   }
  },
  {
   "cell_type": "code",
   "execution_count": 22,
   "outputs": [
    {
     "data": {
      "text/plain": "<Figure size 432x288 with 1 Axes>",
      "image/png": "[encoded data removed]"
     },
     "metadata": {},
     "output_type": "display_data"
    }
   ],
   "source": [
    "# Histogram of Sale Price\n",
    "totalData.hist(column=[' SALE PRICE '],range=[0,40000000])\n",
    "plt.xlabel(\"Price\")\n",
    "plt.ylabel('Frequency')\n",
    "plt.show()"
   ],
   "metadata": {
    "collapsed": false,
    "pycharm": {
     "name": "#%%\n"
    }
   }
  },
  {
   "cell_type": "code",
   "execution_count": 23,
   "outputs": [
    {
     "data": {
      "text/plain": "33.216356301057765"
     },
     "execution_count": 23,
     "metadata": {},
     "output_type": "execute_result"
    }
   ],
   "source": [
    "# Skewness\n",
    "totalData[' SALE PRICE '].skew()"
   ],
   "metadata": {
    "collapsed": false,
    "pycharm": {
     "name": "#%%\n"
    }
   }
  },
  {
   "cell_type": "markdown",
   "source": [
    "## RQ1.2...\n",
    " It is evident that the majority of house prices lies  0-15,000,000 dollars. Sale Price is highly right skewed and therefore applying a log transform will give more accurate results."
   ],
   "metadata": {
    "collapsed": false
   }
  },
  {
   "cell_type": "code",
   "execution_count": 24,
   "outputs": [
    {
     "name": "stdout",
     "output_type": "stream",
     "text": [
      "-3.4887094299155406\n"
     ]
    },
    {
     "data": {
      "text/plain": "<AxesSubplot:xlabel=' SALE PRICE ', ylabel='Density'>"
     },
     "execution_count": 24,
     "metadata": {},
     "output_type": "execute_result"
    },
    {
     "data": {
      "text/plain": "<Figure size 432x288 with 1 Axes>",
      "image/png": "[encoded data removed]"
     },
     "metadata": {},
     "output_type": "display_data"
    }
   ],
   "source": [
    "houseSales = np.log(totalData[' SALE PRICE '])\n",
    "print(houseSales.skew())\n",
    "sns.distplot(houseSales)"
   ],
   "metadata": {
    "collapsed": false,
    "pycharm": {
     "name": "#%%\n"
    }
   }
  },
  {
   "cell_type": "code",
   "execution_count": 25,
   "outputs": [
    {
     "data": {
      "text/plain": "<AxesSubplot:xlabel='GROSS SQUARE FEET'>"
     },
     "execution_count": 25,
     "metadata": {},
     "output_type": "execute_result"
    },
    {
     "data": {
      "text/plain": "<Figure size 720x720 with 1 Axes>",
      "image/png": "[encoded data removed]"
     },
     "metadata": {},
     "output_type": "display_data"
    }
   ],
   "source": [
    "# Boxplot of Gross Square Feet\n",
    "plt.figure(figsize=(10,10))\n",
    "sns.boxplot(x='GROSS SQUARE FEET', data=totalData,showfliers=False)"
   ],
   "metadata": {
    "collapsed": false,
    "pycharm": {
     "name": "#%%\n"
    }
   }
  },
  {
   "cell_type": "markdown",
   "source": [
    "## RQ1.2...\n",
    "The boxplot illustrates the distribution of gross square feet. It is evident that the median gross square footage is 27,000. This indicates that the expected square footage for New York house is 27,000 square feet. However, a large outlier is shown at just less than 140,000 square feet. This could possible indicate that the houses with larger square footage are more expensive."
   ],
   "metadata": {
    "collapsed": false
   }
  },
  {
   "cell_type": "code",
   "execution_count": 26,
   "outputs": [
    {
     "data": {
      "text/plain": "[(0.0, 60.0)]"
     },
     "execution_count": 26,
     "metadata": {},
     "output_type": "execute_result"
    },
    {
     "data": {
      "text/plain": "<Figure size 720x720 with 1 Axes>",
      "image/png": "[encoded data removed]"
     },
     "metadata": {},
     "output_type": "display_data"
    }
   ],
   "source": [
    "plt.figure(figsize=(10,10))\n",
    "resUnitPlot = sns.regplot(x='RESIDENTIAL UNITS', y=' SALE PRICE ', data=totalData, fit_reg=False, scatter_kws={'alpha':0.3},)\n",
    "resUnitPlot.set(xlim=(0,60))"
   ],
   "metadata": {
    "collapsed": false,
    "pycharm": {
     "name": "#%%\n"
    }
   }
  },
  {
   "cell_type": "markdown",
   "source": [
    "## Q1.2...\n",
    "It is evident that the majority of residential units is between 0-10. The frequency of residential units decreases as the number of units increases. I was surprised by this result because intuitively a house is considered 1 residential unit. Thus, a fraction of the data includes apartment buildings or listings wiht more than one residential unit."
   ],
   "metadata": {
    "collapsed": false,
    "pycharm": {
     "name": "#%% md\n"
    }
   }
  },
  {
   "cell_type": "markdown",
   "source": [
    "Investigate categorical data"
   ],
   "metadata": {
    "collapsed": false
   }
  },
  {
   "cell_type": "code",
   "execution_count": 27,
   "outputs": [
    {
     "data": {
      "text/plain": "        BOROUGH             NEIGHBORHOOD          BUILDING CLASS CATEGORY  \\\ncount    6385.0                     6385                             6385   \nunique      2.0                       75                               32   \ntop         1.0  UPPER WEST SIDE (59-79)  13 CONDOS - ELEVATOR APARTMENTS   \nfreq     3631.0                      364                             2796   \nfirst       NaN                      NaN                              NaN   \nlast        NaN                      NaN                              NaN   \n\n       TAX CLASS AT PRESENT BUILDING CLASS AT PRESENT  \\\ncount                  6385                      6385   \nunique                    9                       106   \ntop                       2                        R4   \nfreq                   3201                      2827   \nfirst                   NaN                       NaN   \nlast                    NaN                       NaN   \n\n        TAX CLASS AT TIME OF SALE BUILDING CLASS AT TIME OF SALE  \\\ncount                      6385.0                           6385   \nunique                        3.0                            107   \ntop                           2.0                             R4   \nfreq                       3609.0                           2796   \nfirst                         NaN                            NaN   \nlast                          NaN                            NaN   \n\n                  SALE DATE  \ncount                  6385  \nunique                  276  \ntop     2020-02-28 00:00:00  \nfreq                     97  \nfirst   2020-01-02 00:00:00  \nlast    2020-12-31 00:00:00  ",
      "text/html": "<div>\n<style scoped>\n    .dataframe tbody tr th:only-of-type {\n        vertical-align: middle;\n    }\n\n    .dataframe tbody tr th {\n        vertical-align: top;\n    }\n\n    .dataframe thead th {\n        text-align: right;\n    }\n</style>\n<table border=\"1\" class=\"dataframe\">\n  <thead>\n    <tr style=\"text-align: right;\">\n      <th></th>\n      <th>BOROUGH</th>\n      <th>NEIGHBORHOOD</th>\n      <th>BUILDING CLASS CATEGORY</th>\n      <th>TAX CLASS AT PRESENT</th>\n      <th>BUILDING CLASS AT PRESENT</th>\n      <th>TAX CLASS AT TIME OF SALE</th>\n      <th>BUILDING CLASS AT TIME OF SALE</th>\n      <th>SALE DATE</th>\n    </tr>\n  </thead>\n  <tbody>\n    <tr>\n      <th>count</th>\n      <td>6385.0</td>\n      <td>6385</td>\n      <td>6385</td>\n      <td>6385</td>\n      <td>6385</td>\n      <td>6385.0</td>\n      <td>6385</td>\n      <td>6385</td>\n    </tr>\n    <tr>\n      <th>unique</th>\n      <td>2.0</td>\n      <td>75</td>\n      <td>32</td>\n      <td>9</td>\n      <td>106</td>\n      <td>3.0</td>\n      <td>107</td>\n      <td>276</td>\n    </tr>\n    <tr>\n      <th>top</th>\n      <td>1.0</td>\n      <td>UPPER WEST SIDE (59-79)</td>\n      <td>13 CONDOS - ELEVATOR APARTMENTS</td>\n      <td>2</td>\n      <td>R4</td>\n      <td>2.0</td>\n      <td>R4</td>\n      <td>2020-02-28 00:00:00</td>\n    </tr>\n    <tr>\n      <th>freq</th>\n      <td>3631.0</td>\n      <td>364</td>\n      <td>2796</td>\n      <td>3201</td>\n      <td>2827</td>\n      <td>3609.0</td>\n      <td>2796</td>\n      <td>97</td>\n    </tr>\n    <tr>\n      <th>first</th>\n      <td>NaN</td>\n      <td>NaN</td>\n      <td>NaN</td>\n      <td>NaN</td>\n      <td>NaN</td>\n      <td>NaN</td>\n      <td>NaN</td>\n      <td>2020-01-02 00:00:00</td>\n    </tr>\n    <tr>\n      <th>last</th>\n      <td>NaN</td>\n      <td>NaN</td>\n      <td>NaN</td>\n      <td>NaN</td>\n      <td>NaN</td>\n      <td>NaN</td>\n      <td>NaN</td>\n      <td>2020-12-31 00:00:00</td>\n    </tr>\n  </tbody>\n</table>\n</div>"
     },
     "execution_count": 27,
     "metadata": {},
     "output_type": "execute_result"
    }
   ],
   "source": [
    "catData = totalData.select_dtypes(exclude=[np.number])\n",
    "catData.describe()"
   ],
   "metadata": {
    "collapsed": false,
    "pycharm": {
     "name": "#%%\n"
    }
   }
  },
  {
   "cell_type": "code",
   "execution_count": 28,
   "outputs": [
    {
     "data": {
      "text/plain": "                       SALE PRICE \nTAX CLASS AT PRESENT              \n1                         610000.0\n1A                        360000.0\n1B                        437500.0\n1C                       1800000.0\n2                        1680113.0\n2A                        900000.0\n2B                       2300000.0\n2C                       2167500.0\n4                        3800000.0",
      "text/html": "<div>\n<style scoped>\n    .dataframe tbody tr th:only-of-type {\n        vertical-align: middle;\n    }\n\n    .dataframe tbody tr th {\n        vertical-align: top;\n    }\n\n    .dataframe thead th {\n        text-align: right;\n    }\n</style>\n<table border=\"1\" class=\"dataframe\">\n  <thead>\n    <tr style=\"text-align: right;\">\n      <th></th>\n      <th>SALE PRICE</th>\n    </tr>\n    <tr>\n      <th>TAX CLASS AT PRESENT</th>\n      <th></th>\n    </tr>\n  </thead>\n  <tbody>\n    <tr>\n      <th>1</th>\n      <td>610000.0</td>\n    </tr>\n    <tr>\n      <th>1A</th>\n      <td>360000.0</td>\n    </tr>\n    <tr>\n      <th>1B</th>\n      <td>437500.0</td>\n    </tr>\n    <tr>\n      <th>1C</th>\n      <td>1800000.0</td>\n    </tr>\n    <tr>\n      <th>2</th>\n      <td>1680113.0</td>\n    </tr>\n    <tr>\n      <th>2A</th>\n      <td>900000.0</td>\n    </tr>\n    <tr>\n      <th>2B</th>\n      <td>2300000.0</td>\n    </tr>\n    <tr>\n      <th>2C</th>\n      <td>2167500.0</td>\n    </tr>\n    <tr>\n      <th>4</th>\n      <td>3800000.0</td>\n    </tr>\n  </tbody>\n</table>\n</div>"
     },
     "execution_count": 28,
     "metadata": {},
     "output_type": "execute_result"
    }
   ],
   "source": [
    "# TAX CLASS AT PRESENT\n",
    "pivot = totalData.pivot_table(index='TAX CLASS AT PRESENT', values=' SALE PRICE ', aggfunc=np.median)\n",
    "pivot"
   ],
   "metadata": {
    "collapsed": false,
    "pycharm": {
     "name": "#%%\n"
    }
   }
  },
  {
   "cell_type": "code",
   "execution_count": 29,
   "outputs": [
    {
     "data": {
      "text/plain": "<AxesSubplot:xlabel='TAX CLASS AT PRESENT'>"
     },
     "execution_count": 29,
     "metadata": {},
     "output_type": "execute_result"
    },
    {
     "data": {
      "text/plain": "<Figure size 432x288 with 1 Axes>",
      "image/png": "[encoded data removed]"
     },
     "metadata": {},
     "output_type": "display_data"
    }
   ],
   "source": [
    "pivot.plot(kind='bar', color='black')"
   ],
   "metadata": {
    "collapsed": false,
    "pycharm": {
     "name": "#%%\n"
    }
   }
  },
  {
   "cell_type": "markdown",
   "source": [
    "## Q1.2...\n",
    "Tax Class at Present represents the use of the property. For example, 4 describes commercial use such as offices or factories whereas 1 describes family homes. The hypothesis that commercial buildings such as warehouses and office buildings cost more than residential homes is proven. This is due to the required space and/land required for commercial buildings"
   ],
   "metadata": {
    "collapsed": false,
    "pycharm": {
     "name": "#%% md\n"
    }
   }
  },
  {
   "cell_type": "markdown",
   "source": [
    "To see if multi-correlation between features exists, a heatmap is generated."
   ],
   "metadata": {
    "collapsed": false
   }
  },
  {
   "cell_type": "code",
   "execution_count": 30,
   "outputs": [
    {
     "data": {
      "text/plain": "<AxesSubplot:>"
     },
     "execution_count": 30,
     "metadata": {},
     "output_type": "execute_result"
    },
    {
     "data": {
      "text/plain": "<Figure size 432x288 with 2 Axes>",
      "image/png": "[encoded data removed]"
     },
     "metadata": {},
     "output_type": "display_data"
    }
   ],
   "source": [
    "# Correlation Visualization\n",
    "sns.heatmap(corr)"
   ],
   "metadata": {
    "collapsed": false,
    "pycharm": {
     "name": "#%%\n"
    }
   }
  },
  {
   "cell_type": "markdown",
   "source": [
    "## RQ1.3\n",
    "The shades of brown indicate high correlation. The following features are correlated, however, are not strongly correlated with Sales Price.\n",
    "\n",
    "- Block and Zip Code\n",
    "- Residential Units, Gross Square Feet, and Land Square Feet\n",
    "\n",
    "Zip code and block are correlated because they describe the location of the property. Since they are negatively correlated with sale price these columns will be removed. As mentioned above during the analysis of of gross square feet, more land is required for an increase in the number of residential units."
   ],
   "metadata": {
    "collapsed": false
   }
  },
  {
   "cell_type": "code",
   "execution_count": 31,
   "outputs": [],
   "source": [
    "# drop insignificant columns according to the given glossary\n",
    "del totalData['BLOCK']\n",
    "del totalData['ZIP CODE']\n",
    "del totalData['LOT']\n",
    "del totalData['SALE DATE']\n",
    "del totalData['BUILDING CLASS AT PRESENT']\n",
    "del totalData['BUILDING CLASS AT TIME OF SALE']\n",
    "del totalData['NEIGHBORHOOD']\n",
    "#del totalData['YEAR BUILT']"
   ],
   "metadata": {
    "collapsed": false,
    "pycharm": {
     "name": "#%%\n"
    }
   }
  },
  {
   "cell_type": "code",
   "execution_count": 32,
   "outputs": [
    {
     "name": "stdout",
     "output_type": "stream",
     "text": [
      "<class 'pandas.core.frame.DataFrame'>\n",
      "Int64Index: 6385 entries, 1 to 11962\n",
      "Data columns (total 9 columns):\n",
      " #   Column                     Non-Null Count  Dtype   \n",
      "---  ------                     --------------  -----   \n",
      " 0   BOROUGH                    6385 non-null   category\n",
      " 1   BUILDING CLASS CATEGORY    6385 non-null   object  \n",
      " 2   TAX CLASS AT PRESENT       6385 non-null   category\n",
      " 3   RESIDENTIAL UNITS          6385 non-null   float64 \n",
      " 4   LAND SQUARE FEET           6385 non-null   float64 \n",
      " 5   GROSS SQUARE FEET          6385 non-null   float64 \n",
      " 6   YEAR BUILT                 6385 non-null   float64 \n",
      " 7   TAX CLASS AT TIME OF SALE  6385 non-null   category\n",
      " 8    SALE PRICE                6385 non-null   float64 \n",
      "dtypes: category(3), float64(5), object(1)\n",
      "memory usage: 368.5+ KB\n"
     ]
    }
   ],
   "source": [
    "totalData.info()"
   ],
   "metadata": {
    "collapsed": false,
    "pycharm": {
     "name": "#%%\n"
    }
   }
  },
  {
   "cell_type": "code",
   "execution_count": 33,
   "outputs": [
    {
     "data": {
      "text/plain": "Index(['RESIDENTIAL UNITS', 'LAND SQUARE FEET', 'GROSS SQUARE FEET',\n       'YEAR BUILT', ' SALE PRICE '],\n      dtype='object')"
     },
     "execution_count": 33,
     "metadata": {},
     "output_type": "execute_result"
    }
   ],
   "source": [
    "numData = totalData.select_dtypes(include=[np.number])\n",
    "numData.columns"
   ],
   "metadata": {
    "collapsed": false,
    "pycharm": {
     "name": "#%%\n"
    }
   }
  },
  {
   "cell_type": "markdown",
   "source": [
    "### Transform Numerical and Categorical Data"
   ],
   "metadata": {
    "collapsed": false,
    "pycharm": {
     "name": "#%% md\n"
    }
   }
  },
  {
   "cell_type": "code",
   "execution_count": 34,
   "outputs": [],
   "source": [
    "#transform the numeric features using log(x + 1)\n",
    "from scipy.stats import skew\n",
    "skewed = totalData[numData.columns].apply(lambda x: skew(x.dropna().astype(float)))\n",
    "skewed = skewed[skewed > 0.75]\n",
    "skewed = skewed.index\n",
    "totalData[skewed] = np.log1p(totalData[skewed])"
   ],
   "metadata": {
    "collapsed": false,
    "pycharm": {
     "name": "#%%\n"
    }
   }
  },
  {
   "cell_type": "code",
   "execution_count": 35,
   "outputs": [],
   "source": [
    "scaler = StandardScaler()\n",
    "scaler.fit(totalData[numData.columns])\n",
    "scaled = scaler.transform(totalData[numData.columns])\n",
    "\n",
    "for i, col in enumerate(numData.columns):\n",
    "    totalData[col] = scaled[:,i]"
   ],
   "metadata": {
    "collapsed": false,
    "pycharm": {
     "name": "#%%\n"
    }
   }
  },
  {
   "cell_type": "code",
   "execution_count": 36,
   "outputs": [
    {
     "name": "stdout",
     "output_type": "stream",
     "text": [
      "<class 'pandas.core.frame.DataFrame'>\n",
      "Int64Index: 6385 entries, 1 to 11962\n",
      "Data columns (total 47 columns):\n",
      " #   Column                                                              Non-Null Count  Dtype\n",
      "---  ------                                                              --------------  -----\n",
      " 0   BOROUGH_1.0                                                         6385 non-null   uint8\n",
      " 1   BOROUGH_2.0                                                         6385 non-null   uint8\n",
      " 2   BUILDING CLASS CATEGORY_01 ONE FAMILY DWELLINGS                     6385 non-null   uint8\n",
      " 3   BUILDING CLASS CATEGORY_02 TWO FAMILY DWELLINGS                     6385 non-null   uint8\n",
      " 4   BUILDING CLASS CATEGORY_03 THREE FAMILY DWELLINGS                   6385 non-null   uint8\n",
      " 5   BUILDING CLASS CATEGORY_04 TAX CLASS 1 CONDOS                       6385 non-null   uint8\n",
      " 6   BUILDING CLASS CATEGORY_05 TAX CLASS 1 VACANT LAND                  6385 non-null   uint8\n",
      " 7   BUILDING CLASS CATEGORY_06 TAX CLASS 1 - OTHER                      6385 non-null   uint8\n",
      " 8   BUILDING CLASS CATEGORY_07 RENTALS - WALKUP APARTMENTS              6385 non-null   uint8\n",
      " 9   BUILDING CLASS CATEGORY_08 RENTALS - ELEVATOR APARTMENTS            6385 non-null   uint8\n",
      " 10  BUILDING CLASS CATEGORY_11 SPECIAL CONDO BILLING LOTS               6385 non-null   uint8\n",
      " 11  BUILDING CLASS CATEGORY_12 CONDOS - WALKUP APARTMENTS               6385 non-null   uint8\n",
      " 12  BUILDING CLASS CATEGORY_13 CONDOS - ELEVATOR APARTMENTS             6385 non-null   uint8\n",
      " 13  BUILDING CLASS CATEGORY_14 RENTALS - 4-10 UNIT                      6385 non-null   uint8\n",
      " 14  BUILDING CLASS CATEGORY_15 CONDOS - 2-10 UNIT RESIDENTIAL           6385 non-null   uint8\n",
      " 15  BUILDING CLASS CATEGORY_16 CONDOS - 2-10 UNIT WITH COMMERCIAL UNIT  6385 non-null   uint8\n",
      " 16  BUILDING CLASS CATEGORY_21 OFFICE BUILDINGS                         6385 non-null   uint8\n",
      " 17  BUILDING CLASS CATEGORY_22 STORE BUILDINGS                          6385 non-null   uint8\n",
      " 18  BUILDING CLASS CATEGORY_25 LUXURY HOTELS                            6385 non-null   uint8\n",
      " 19  BUILDING CLASS CATEGORY_26 OTHER HOTELS                             6385 non-null   uint8\n",
      " 20  BUILDING CLASS CATEGORY_27 FACTORIES                                6385 non-null   uint8\n",
      " 21  BUILDING CLASS CATEGORY_29 COMMERCIAL GARAGES                       6385 non-null   uint8\n",
      " 22  BUILDING CLASS CATEGORY_30 WAREHOUSES                               6385 non-null   uint8\n",
      " 23  BUILDING CLASS CATEGORY_31 COMMERCIAL VACANT LAND                   6385 non-null   uint8\n",
      " 24  BUILDING CLASS CATEGORY_32 HOSPITAL AND HEALTH FACILITIES           6385 non-null   uint8\n",
      " 25  BUILDING CLASS CATEGORY_33 EDUCATIONAL FACILITIES                   6385 non-null   uint8\n",
      " 26  BUILDING CLASS CATEGORY_34 THEATRES                                 6385 non-null   uint8\n",
      " 27  BUILDING CLASS CATEGORY_35 INDOOR PUBLIC AND CULTURAL FACILITIES    6385 non-null   uint8\n",
      " 28  BUILDING CLASS CATEGORY_36 OUTDOOR RECREATIONAL FACILITIES          6385 non-null   uint8\n",
      " 29  BUILDING CLASS CATEGORY_37 RELIGIOUS FACILITIES                     6385 non-null   uint8\n",
      " 30  BUILDING CLASS CATEGORY_38 ASYLUMS AND HOMES                        6385 non-null   uint8\n",
      " 31  BUILDING CLASS CATEGORY_40 SELECTED GOVERNMENTAL FACILITIES         6385 non-null   uint8\n",
      " 32  BUILDING CLASS CATEGORY_41 TAX CLASS 4 - OTHER                      6385 non-null   uint8\n",
      " 33  BUILDING CLASS CATEGORY_42 CONDO CULTURAL/MEDICAL/EDUCATIONAL/ETC   6385 non-null   uint8\n",
      " 34  TAX CLASS AT PRESENT_1                                              6385 non-null   uint8\n",
      " 35  TAX CLASS AT PRESENT_1A                                             6385 non-null   uint8\n",
      " 36  TAX CLASS AT PRESENT_1B                                             6385 non-null   uint8\n",
      " 37  TAX CLASS AT PRESENT_1C                                             6385 non-null   uint8\n",
      " 38  TAX CLASS AT PRESENT_1D                                             6385 non-null   uint8\n",
      " 39  TAX CLASS AT PRESENT_2                                              6385 non-null   uint8\n",
      " 40  TAX CLASS AT PRESENT_2A                                             6385 non-null   uint8\n",
      " 41  TAX CLASS AT PRESENT_2B                                             6385 non-null   uint8\n",
      " 42  TAX CLASS AT PRESENT_2C                                             6385 non-null   uint8\n",
      " 43  TAX CLASS AT PRESENT_4                                              6385 non-null   uint8\n",
      " 44  TAX CLASS AT TIME OF SALE_1.0                                       6385 non-null   uint8\n",
      " 45  TAX CLASS AT TIME OF SALE_2.0                                       6385 non-null   uint8\n",
      " 46  TAX CLASS AT TIME OF SALE_4.0                                       6385 non-null   uint8\n",
      "dtypes: uint8(47)\n",
      "memory usage: 342.9 KB\n"
     ]
    }
   ],
   "source": [
    "# One hot encoding categorical columns\n",
    "oneHotFeatures = ['BOROUGH','BUILDING CLASS CATEGORY','TAX CLASS AT PRESENT','TAX CLASS AT TIME OF SALE']\n",
    "oneHotEncoded = pd.get_dummies(totalData[oneHotFeatures])\n",
    "oneHotEncoded.info(verbose=True, memory_usage=True, null_counts=True)"
   ],
   "metadata": {
    "collapsed": false,
    "pycharm": {
     "name": "#%%\n"
    }
   }
  },
  {
   "cell_type": "code",
   "execution_count": 37,
   "outputs": [],
   "source": [
    "# Replacing categorical columns with dummies\n",
    "new = totalData.drop(oneHotFeatures,axis=1)\n",
    "new = pd.concat([new,oneHotEncoded],axis=1)"
   ],
   "metadata": {
    "collapsed": false,
    "pycharm": {
     "name": "#%%\n"
    }
   }
  },
  {
   "cell_type": "code",
   "execution_count": 38,
   "outputs": [
    {
     "data": {
      "text/plain": "((6385, 51), (6385,))"
     },
     "execution_count": 38,
     "metadata": {},
     "output_type": "execute_result"
    }
   ],
   "source": [
    "# Setting up for dataset split\n",
    "YNew = new[' SALE PRICE ']\n",
    "XNew = new.drop(' SALE PRICE ', axis=1)\n",
    "XNew.shape , YNew.shape"
   ],
   "metadata": {
    "collapsed": false,
    "pycharm": {
     "name": "#%%\n"
    }
   }
  },
  {
   "cell_type": "markdown",
   "source": [
    "## RQ1.4\n",
    " In this section I will provide a summary of my analysis above. To begin, I filtered all the missing values accordingly and created a new variable called totalData that stores the filtered data. Next, I looked at the sale price feature as it is the feature of interest. A summary of statistics, distribution and skewness is provided. Since it was highly right skewed I transformed the sale price data using log. In addition, I investigated the number of residential units, and gross square feet since those features had the highest correlation with sale price. Next, I determined if multi-collinearity exists. I found that residential units, land square feet, and gross square feet are highly correlated implying that larger properties require more space and are therefore more expensive. Lastly, I transformed both numeric and categorical data to provide the most accurate prediction. To transform the numeric data, I normalized the data using the logarithmic function. To transform the categorical data, I used the hot encoder method. Overall, I created a new variable called new that includes the optimal dataset for regression analysis."
   ],
   "metadata": {
    "collapsed": false
   }
  },
  {
   "cell_type": "markdown",
   "source": [
    "### Split Dataset for Testing and Training"
   ],
   "metadata": {
    "collapsed": false,
    "pycharm": {
     "name": "#%% md\n"
    }
   }
  },
  {
   "cell_type": "code",
   "execution_count": 39,
   "outputs": [
    {
     "data": {
      "text/plain": "((5746, 51), (5746,))"
     },
     "execution_count": 39,
     "metadata": {},
     "output_type": "execute_result"
    }
   ],
   "source": [
    "# Splitting dataset\n",
    "XTrain ,XTest, YTrain , YTest = train_test_split(XNew, YNew, test_size = 0.10)\n",
    "# Training set\n",
    "XTrain.shape , YTrain.shape"
   ],
   "metadata": {
    "collapsed": false,
    "pycharm": {
     "name": "#%%\n"
    }
   }
  },
  {
   "cell_type": "markdown",
   "source": [
    "RQ1.1: The data is split into a testing and training set. 10% of the 2020 listing pricing are used for testing, and the other 90% is used for training. I decided not to use 2018 and 2019 data for testing or training because 2020 provides the most recent data and a more accurate representation of New York housing price and thus would provide a more accurate prediction."
   ],
   "metadata": {
    "collapsed": false
   }
  },
  {
   "cell_type": "code",
   "execution_count": 40,
   "outputs": [
    {
     "data": {
      "text/plain": "((639, 51), (639,))"
     },
     "execution_count": 40,
     "metadata": {},
     "output_type": "execute_result"
    }
   ],
   "source": [
    "# Testing set\n",
    "XTest.shape, YTest.shape"
   ],
   "metadata": {
    "collapsed": false,
    "pycharm": {
     "name": "#%%\n"
    }
   }
  },
  {
   "cell_type": "markdown",
   "source": [
    "### Prediction using Regression Models"
   ],
   "metadata": {
    "collapsed": false,
    "pycharm": {
     "name": "#%% md\n"
    }
   }
  },
  {
   "cell_type": "code",
   "execution_count": 41,
   "outputs": [],
   "source": [
    "def rmse(y_test,y_pred):\n",
    "    return np.sqrt(mean_squared_error(y_test,y_pred))"
   ],
   "metadata": {
    "collapsed": false,
    "pycharm": {
     "name": "#%%\n"
    }
   }
  },
  {
   "cell_type": "code",
   "execution_count": 42,
   "outputs": [
    {
     "data": {
      "text/plain": "0.8488099670707836"
     },
     "execution_count": 42,
     "metadata": {},
     "output_type": "execute_result"
    }
   ],
   "source": [
    "# Random Forest Regressor\n",
    "rfRegr = RandomForestRegressor()\n",
    "rfRegr.fit(XTrain, YTrain)\n",
    "YPredRf = rfRegr.predict(XTest)\n",
    "rmse(YTest,YPredRf)"
   ],
   "metadata": {
    "collapsed": false,
    "pycharm": {
     "name": "#%%\n"
    }
   }
  },
  {
   "cell_type": "code",
   "execution_count": 43,
   "outputs": [
    {
     "data": {
      "text/plain": "0.8302963494991957"
     },
     "execution_count": 43,
     "metadata": {},
     "output_type": "execute_result"
    }
   ],
   "source": [
    "# Ridge Regression\n",
    "ridge = Ridge(alpha=0.01, normalize=True)\n",
    "ridge.fit(XTrain, YTrain)\n",
    "YPredRidge = ridge.predict(XTest)\n",
    "rmse(YTest,YPredRidge)"
   ],
   "metadata": {
    "collapsed": false,
    "pycharm": {
     "name": "#%%\n"
    }
   }
  },
  {
   "cell_type": "markdown",
   "source": [
    "## Part 2\n",
    " I decided to use a random forest regressor and a ridge regressor. I choose to use a random forest regressor because it provides higher accuracy through cross validation. In addition, I used a ridge regressor because there is a degree of multi-collinearity between the aforementioned features. Since the percentage of correlation between features was too low to create a new feature, it increases the multi-collinearity of the data. Overall, the Ridge Regressor works best for this dataset."
   ],
   "metadata": {
    "collapsed": false,
    "pycharm": {
     "name": "#%% md\n"
    }
   }
  }
 ],
 "metadata": {
  "kernelspec": {
   "display_name": "Python 3",
   "language": "python",
   "name": "python3"
  },
  "language_info": {
   "codemirror_mode": {
    "name": "ipython",
    "version": 2
   },
   "file_extension": ".py",
   "mimetype": "text/x-python",
   "name": "python",
   "nbconvert_exporter": "python",
   "pygments_lexer": "ipython2",
   "version": "2.7.6"
  }
 },
 "nbformat": 4,
 "nbformat_minor": 0
}