{
 "cells": [
  {
   "cell_type": "markdown",
   "source": [
    "## Exercise 2: Employee Turn Over Data\n",
    "### Jade Watson: 20052115"
   ],
   "metadata": {
    "collapsed": false,
    "pycharm": {
     "name": "#%% md\n"
    }
   }
  },
  {
   "cell_type": "code",
   "execution_count": 1,
   "outputs": [],
   "source": [
    "import pandas as pd\n",
    "import seaborn as sns\n",
    "import matplotlib.pyplot as plt\n",
    "%matplotlib inline\n",
    "import warnings\n",
    "warnings.filterwarnings(\"ignore\")\n",
    "\n",
    "from sklearn.model_selection import StratifiedKFold\n",
    "from sklearn.tree import DecisionTreeClassifier\n",
    "from sklearn.metrics import accuracy_score\n",
    "from sklearn.model_selection import train_test_split, GridSearchCV\n",
    "\n",
    "from catboost import CatBoostClassifier"
   ],
   "metadata": {
    "collapsed": false,
    "pycharm": {
     "name": "#%%\n"
    }
   }
  },
  {
   "cell_type": "markdown",
   "source": [
    "## Data Exploration and Visualization"
   ],
   "metadata": {
    "collapsed": false,
    "pycharm": {
     "name": "#%% md\n"
    }
   }
  },
  {
   "cell_type": "code",
   "execution_count": 2,
   "outputs": [
    {
     "data": {
      "text/plain": "(14999, 10)"
     },
     "execution_count": 2,
     "metadata": {},
     "output_type": "execute_result"
    }
   ],
   "source": [
    "employeeTurnOver = pd.read_csv('Employee_turn_over_data.csv')\n",
    "employeeTurnOver.shape"
   ],
   "metadata": {
    "collapsed": false,
    "pycharm": {
     "name": "#%%\n"
    }
   }
  },
  {
   "cell_type": "code",
   "execution_count": 3,
   "outputs": [
    {
     "data": {
      "text/plain": "   satisfaction score  last evaluation  number project  average montly hours  \\\n0                0.38             0.53               2                   157   \n1                0.80             0.86               5                   262   \n2                0.11             0.88               7                   272   \n3                0.72             0.87               5                   223   \n4                0.37             0.52               2                   159   \n\n   time spend company  work accident  left  promotion last 5years job role  \\\n0                   3              0     1                      0    sales   \n1                   6              0     1                      0    sales   \n2                   4              0     1                      0    sales   \n3                   5              0     1                      0    sales   \n4                   3              0     1                      0    sales   \n\n   salary  \n0     low  \n1  medium  \n2  medium  \n3     low  \n4     low  ",
      "text/html": "<div>\n<style scoped>\n    .dataframe tbody tr th:only-of-type {\n        vertical-align: middle;\n    }\n\n    .dataframe tbody tr th {\n        vertical-align: top;\n    }\n\n    .dataframe thead th {\n        text-align: right;\n    }\n</style>\n<table border=\"1\" class=\"dataframe\">\n  <thead>\n    <tr style=\"text-align: right;\">\n      <th></th>\n      <th>satisfaction score</th>\n      <th>last evaluation</th>\n      <th>number project</th>\n      <th>average montly hours</th>\n      <th>time spend company</th>\n      <th>work accident</th>\n      <th>left</th>\n      <th>promotion last 5years</th>\n      <th>job role</th>\n      <th>salary</th>\n    </tr>\n  </thead>\n  <tbody>\n    <tr>\n      <th>0</th>\n      <td>0.38</td>\n      <td>0.53</td>\n      <td>2</td>\n      <td>157</td>\n      <td>3</td>\n      <td>0</td>\n      <td>1</td>\n      <td>0</td>\n      <td>sales</td>\n      <td>low</td>\n    </tr>\n    <tr>\n      <th>1</th>\n      <td>0.80</td>\n      <td>0.86</td>\n      <td>5</td>\n      <td>262</td>\n      <td>6</td>\n      <td>0</td>\n      <td>1</td>\n      <td>0</td>\n      <td>sales</td>\n      <td>medium</td>\n    </tr>\n    <tr>\n      <th>2</th>\n      <td>0.11</td>\n      <td>0.88</td>\n      <td>7</td>\n      <td>272</td>\n      <td>4</td>\n      <td>0</td>\n      <td>1</td>\n      <td>0</td>\n      <td>sales</td>\n      <td>medium</td>\n    </tr>\n    <tr>\n      <th>3</th>\n      <td>0.72</td>\n      <td>0.87</td>\n      <td>5</td>\n      <td>223</td>\n      <td>5</td>\n      <td>0</td>\n      <td>1</td>\n      <td>0</td>\n      <td>sales</td>\n      <td>low</td>\n    </tr>\n    <tr>\n      <th>4</th>\n      <td>0.37</td>\n      <td>0.52</td>\n      <td>2</td>\n      <td>159</td>\n      <td>3</td>\n      <td>0</td>\n      <td>1</td>\n      <td>0</td>\n      <td>sales</td>\n      <td>low</td>\n    </tr>\n  </tbody>\n</table>\n</div>"
     },
     "execution_count": 3,
     "metadata": {},
     "output_type": "execute_result"
    }
   ],
   "source": [
    "employeeTurnOver.head()"
   ],
   "metadata": {
    "collapsed": false,
    "pycharm": {
     "name": "#%%\n"
    }
   }
  },
  {
   "cell_type": "code",
   "execution_count": 4,
   "outputs": [
    {
     "data": {
      "text/plain": "3008"
     },
     "execution_count": 4,
     "metadata": {},
     "output_type": "execute_result"
    }
   ],
   "source": [
    "# Checking for Duplicates\n",
    "sum(employeeTurnOver.duplicated(employeeTurnOver.columns))"
   ],
   "metadata": {
    "collapsed": false,
    "pycharm": {
     "name": "#%%\n"
    }
   }
  },
  {
   "cell_type": "code",
   "execution_count": 5,
   "outputs": [
    {
     "data": {
      "text/plain": "0"
     },
     "execution_count": 5,
     "metadata": {},
     "output_type": "execute_result"
    }
   ],
   "source": [
    "# Remove duplicates\n",
    "employeeTurnOver = employeeTurnOver.drop_duplicates(employeeTurnOver.columns, keep='last')\n",
    "sum(employeeTurnOver.duplicated(employeeTurnOver.columns))"
   ],
   "metadata": {
    "collapsed": false,
    "pycharm": {
     "name": "#%%\n"
    }
   }
  },
  {
   "cell_type": "code",
   "execution_count": 6,
   "outputs": [
    {
     "name": "stdout",
     "output_type": "stream",
     "text": [
      "<class 'pandas.core.frame.DataFrame'>\n",
      "Int64Index: 11991 entries, 783 to 14998\n",
      "Data columns (total 10 columns):\n",
      " #   Column                 Non-Null Count  Dtype  \n",
      "---  ------                 --------------  -----  \n",
      " 0   satisfaction score     11991 non-null  float64\n",
      " 1   last evaluation        11991 non-null  float64\n",
      " 2   number project         11991 non-null  int64  \n",
      " 3   average montly hours   11991 non-null  int64  \n",
      " 4   time spend company     11991 non-null  int64  \n",
      " 5   work accident          11991 non-null  int64  \n",
      " 6   left                   11991 non-null  int64  \n",
      " 7   promotion last 5years  11991 non-null  int64  \n",
      " 8   job role               11991 non-null  object \n",
      " 9   salary                 11991 non-null  object \n",
      "dtypes: float64(2), int64(6), object(2)\n",
      "memory usage: 1.0+ MB\n"
     ]
    }
   ],
   "source": [
    "employeeTurnOver.info()"
   ],
   "metadata": {
    "collapsed": false,
    "pycharm": {
     "name": "#%%\n"
    }
   }
  },
  {
   "cell_type": "code",
   "execution_count": 7,
   "outputs": [
    {
     "data": {
      "text/plain": "(11991, 10)"
     },
     "execution_count": 7,
     "metadata": {},
     "output_type": "execute_result"
    }
   ],
   "source": [
    "employeeTurnOver.shape"
   ],
   "metadata": {
    "collapsed": false,
    "pycharm": {
     "name": "#%%\n"
    }
   }
  },
  {
   "cell_type": "markdown",
   "source": [
    "There are no missing values in the data. This is evident because each column has 11991 non null values which is the size of the dataset."
   ],
   "metadata": {
    "collapsed": false,
    "pycharm": {
     "name": "#%% md\n"
    }
   }
  },
  {
   "cell_type": "code",
   "execution_count": 8,
   "outputs": [],
   "source": [
    "# Transform Columns to a more appropriate data type\n",
    "employeeTurnOver['job role'] = employeeTurnOver['job role'].astype('category')\n",
    "employeeTurnOver['salary'] = employeeTurnOver['salary'].astype('category')"
   ],
   "metadata": {
    "collapsed": false,
    "pycharm": {
     "name": "#%%\n"
    }
   }
  },
  {
   "cell_type": "code",
   "execution_count": 9,
   "outputs": [
    {
     "data": {
      "text/plain": "       satisfaction score  last evaluation  number project  \\\ncount        11991.000000     11991.000000    11991.000000   \nmean             0.629658         0.716683        3.802852   \nstd              0.241070         0.168343        1.163238   \nmin              0.090000         0.360000        2.000000   \n25%              0.480000         0.570000        3.000000   \n50%              0.660000         0.720000        4.000000   \n75%              0.820000         0.860000        5.000000   \nmax              1.000000         1.000000        7.000000   \n\n       average montly hours  time spend company  work accident          left  \\\ncount          11991.000000        11991.000000   11991.000000  11991.000000   \nmean             200.473522            3.364857       0.154282      0.166041   \nstd               48.727813            1.330240       0.361234      0.372133   \nmin               96.000000            2.000000       0.000000      0.000000   \n25%              157.000000            3.000000       0.000000      0.000000   \n50%              200.000000            3.000000       0.000000      0.000000   \n75%              243.000000            4.000000       0.000000      0.000000   \nmax              310.000000           10.000000       1.000000      1.000000   \n\n       promotion last 5years  \ncount           11991.000000  \nmean                0.016929  \nstd                 0.129012  \nmin                 0.000000  \n25%                 0.000000  \n50%                 0.000000  \n75%                 0.000000  \nmax                 1.000000  ",
      "text/html": "<div>\n<style scoped>\n    .dataframe tbody tr th:only-of-type {\n        vertical-align: middle;\n    }\n\n    .dataframe tbody tr th {\n        vertical-align: top;\n    }\n\n    .dataframe thead th {\n        text-align: right;\n    }\n</style>\n<table border=\"1\" class=\"dataframe\">\n  <thead>\n    <tr style=\"text-align: right;\">\n      <th></th>\n      <th>satisfaction score</th>\n      <th>last evaluation</th>\n      <th>number project</th>\n      <th>average montly hours</th>\n      <th>time spend company</th>\n      <th>work accident</th>\n      <th>left</th>\n      <th>promotion last 5years</th>\n    </tr>\n  </thead>\n  <tbody>\n    <tr>\n      <th>count</th>\n      <td>11991.000000</td>\n      <td>11991.000000</td>\n      <td>11991.000000</td>\n      <td>11991.000000</td>\n      <td>11991.000000</td>\n      <td>11991.000000</td>\n      <td>11991.000000</td>\n      <td>11991.000000</td>\n    </tr>\n    <tr>\n      <th>mean</th>\n      <td>0.629658</td>\n      <td>0.716683</td>\n      <td>3.802852</td>\n      <td>200.473522</td>\n      <td>3.364857</td>\n      <td>0.154282</td>\n      <td>0.166041</td>\n      <td>0.016929</td>\n    </tr>\n    <tr>\n      <th>std</th>\n      <td>0.241070</td>\n      <td>0.168343</td>\n      <td>1.163238</td>\n      <td>48.727813</td>\n      <td>1.330240</td>\n      <td>0.361234</td>\n      <td>0.372133</td>\n      <td>0.129012</td>\n    </tr>\n    <tr>\n      <th>min</th>\n      <td>0.090000</td>\n      <td>0.360000</td>\n      <td>2.000000</td>\n      <td>96.000000</td>\n      <td>2.000000</td>\n      <td>0.000000</td>\n      <td>0.000000</td>\n      <td>0.000000</td>\n    </tr>\n    <tr>\n      <th>25%</th>\n      <td>0.480000</td>\n      <td>0.570000</td>\n      <td>3.000000</td>\n      <td>157.000000</td>\n      <td>3.000000</td>\n      <td>0.000000</td>\n      <td>0.000000</td>\n      <td>0.000000</td>\n    </tr>\n    <tr>\n      <th>50%</th>\n      <td>0.660000</td>\n      <td>0.720000</td>\n      <td>4.000000</td>\n      <td>200.000000</td>\n      <td>3.000000</td>\n      <td>0.000000</td>\n      <td>0.000000</td>\n      <td>0.000000</td>\n    </tr>\n    <tr>\n      <th>75%</th>\n      <td>0.820000</td>\n      <td>0.860000</td>\n      <td>5.000000</td>\n      <td>243.000000</td>\n      <td>4.000000</td>\n      <td>0.000000</td>\n      <td>0.000000</td>\n      <td>0.000000</td>\n    </tr>\n    <tr>\n      <th>max</th>\n      <td>1.000000</td>\n      <td>1.000000</td>\n      <td>7.000000</td>\n      <td>310.000000</td>\n      <td>10.000000</td>\n      <td>1.000000</td>\n      <td>1.000000</td>\n      <td>1.000000</td>\n    </tr>\n  </tbody>\n</table>\n</div>"
     },
     "execution_count": 9,
     "metadata": {},
     "output_type": "execute_result"
    }
   ],
   "source": [
    "employeeTurnOver.describe()"
   ],
   "metadata": {
    "collapsed": false,
    "pycharm": {
     "name": "#%%\n"
    }
   }
  },
  {
   "cell_type": "markdown",
   "source": [
    "I am interested to see if number hours per month has an affect on an employee leaving. In particular, do employees in the third quearter (75%) of hours per month leave. The hours range from 243-310 hours."
   ],
   "metadata": {
    "collapsed": false,
    "pycharm": {
     "name": "#%% md\n"
    }
   }
  },
  {
   "cell_type": "code",
   "execution_count": 10,
   "outputs": [
    {
     "data": {
      "text/plain": "0    10000\n1     1991\nName: left, dtype: int64"
     },
     "execution_count": 10,
     "metadata": {},
     "output_type": "execute_result"
    }
   ],
   "source": [
    "employeeTurnOver['left'].value_counts()"
   ],
   "metadata": {
    "collapsed": false,
    "pycharm": {
     "name": "#%%\n"
    }
   }
  },
  {
   "cell_type": "code",
   "execution_count": 11,
   "outputs": [
    {
     "data": {
      "text/plain": "<AxesSubplot:xlabel='if an employee has left the company', ylabel='number of employees'>"
     },
     "execution_count": 11,
     "metadata": {},
     "output_type": "execute_result"
    },
    {
     "data": {
      "text/plain": "<Figure size 432x288 with 1 Axes>",
      "image/png": "[encoded data removed]"
     },
     "metadata": {
      "needs_background": "light"
     },
     "output_type": "display_data"
    }
   ],
   "source": [
    "employeeTurnOver['left'].value_counts().plot.bar(xlabel='if an employee has left the company',ylabel='number of employees')"
   ],
   "metadata": {
    "collapsed": false,
    "pycharm": {
     "name": "#%%\n"
    }
   }
  },
  {
   "cell_type": "markdown",
   "source": [
    "A zero indicates the employee currently works at the company and a one represents the employee has left the company. It is evident that 1991 employees have left. This is approximately 19% of employees. I want to investigate why the 19% of employees left. To do so, I investigate some of the other features such as salary, job role, and promotion."
   ],
   "metadata": {
    "collapsed": false
   }
  },
  {
   "cell_type": "code",
   "execution_count": 12,
   "outputs": [
    {
     "data": {
      "text/plain": "<AxesSubplot:xlabel='Salary Type'>"
     },
     "execution_count": 12,
     "metadata": {},
     "output_type": "execute_result"
    },
    {
     "data": {
      "text/plain": "<Figure size 432x288 with 1 Axes>",
      "image/png": "[encoded data removed]"
     },
     "metadata": {
      "needs_background": "light"
     },
     "output_type": "display_data"
    }
   ],
   "source": [
    "employeeTurnOver['salary'].value_counts(normalize=True).plot.bar(xlabel='Salary Type')"
   ],
   "metadata": {
    "collapsed": false,
    "pycharm": {
     "name": "#%%\n"
    }
   }
  },
  {
   "cell_type": "markdown",
   "source": [
    "It is evident that approximately 48% of employees receive a low salary, 43% receive a medium salary, and 9% receive a high salary."
   ],
   "metadata": {
    "collapsed": false,
    "pycharm": {
     "name": "#%% md\n"
    }
   }
  },
  {
   "cell_type": "code",
   "execution_count": 13,
   "outputs": [
    {
     "data": {
      "text/plain": "<AxesSubplot:xlabel='Job Role'>"
     },
     "execution_count": 13,
     "metadata": {},
     "output_type": "execute_result"
    },
    {
     "data": {
      "text/plain": "<Figure size 432x288 with 1 Axes>",
      "image/png": "[encoded data removed]"
     },
     "metadata": {
      "needs_background": "light"
     },
     "output_type": "display_data"
    }
   ],
   "source": [
    "employeeTurnOver['job role'].value_counts(normalize=True).plot.bar(xlabel='Job Role')"
   ],
   "metadata": {
    "collapsed": false,
    "pycharm": {
     "name": "#%%\n"
    }
   }
  },
  {
   "cell_type": "markdown",
   "source": [
    "Majority of the employees work in sales and the least in management. I suspect that there is a correlation between job type and salary. This will be further investigated below."
   ],
   "metadata": {
    "collapsed": false,
    "pycharm": {
     "name": "#%% md\n"
    }
   }
  },
  {
   "cell_type": "code",
   "execution_count": 14,
   "outputs": [
    {
     "data": {
      "text/plain": "0    0.983071\n1    0.016929\nName: promotion last 5years, dtype: float64"
     },
     "execution_count": 14,
     "metadata": {},
     "output_type": "execute_result"
    }
   ],
   "source": [
    "employeeTurnOver['promotion last 5years'].value_counts(normalize=True)"
   ],
   "metadata": {
    "collapsed": false,
    "pycharm": {
     "name": "#%%\n"
    }
   }
  },
  {
   "cell_type": "markdown",
   "source": [
    "It is evident that 1.6% of people received a promotion within the last five years. This is an incredibly low rate over five years. I am curious to see if this contributions to the turnover rate of employees."
   ],
   "metadata": {
    "collapsed": false,
    "pycharm": {
     "name": "#%% md\n"
    }
   }
  },
  {
   "cell_type": "code",
   "execution_count": 15,
   "outputs": [
    {
     "data": {
      "text/plain": "<Figure size 432x288 with 1 Axes>",
      "image/png": "[encoded data removed]"
     },
     "metadata": {
      "needs_background": "light"
     },
     "output_type": "display_data"
    }
   ],
   "source": [
    "salary = pd.crosstab(employeeTurnOver['salary'],employeeTurnOver['left'])\n",
    "salary.div(salary.sum(1).astype(float),axis=0).plot(kind='bar',stacked=True)\n",
    "plt.show()"
   ],
   "metadata": {
    "collapsed": false,
    "pycharm": {
     "name": "#%%\n"
    }
   }
  },
  {
   "cell_type": "markdown",
   "source": [
    "We can see that employees with a lower salary tend to leave the company more often than employees with a higher salary."
   ],
   "metadata": {
    "collapsed": false,
    "pycharm": {
     "name": "#%% md\n"
    }
   }
  },
  {
   "cell_type": "code",
   "execution_count": 16,
   "outputs": [
    {
     "data": {
      "text/plain": "<Figure size 432x288 with 1 Axes>",
      "image/png": "[encoded data removed]"
     },
     "metadata": {
      "needs_background": "light"
     },
     "output_type": "display_data"
    },
    {
     "data": {
      "text/plain": "<Figure size 432x288 with 1 Axes>",
      "image/png": "[encoded data removed]"
     },
     "metadata": {
      "needs_background": "light"
     },
     "output_type": "display_data"
    },
    {
     "data": {
      "text/plain": "<AxesSubplot:xlabel='job role'>"
     },
     "execution_count": 16,
     "metadata": {},
     "output_type": "execute_result"
    },
    {
     "data": {
      "text/plain": "<Figure size 432x288 with 1 Axes>",
      "image/png": "[encoded data removed]"
     },
     "metadata": {
      "needs_background": "light"
     },
     "output_type": "display_data"
    }
   ],
   "source": [
    "promotion = pd.crosstab(employeeTurnOver['promotion last 5years'],employeeTurnOver['left'])\n",
    "hours = pd.crosstab(employeeTurnOver['average montly hours'],employeeTurnOver['left'])\n",
    "job = pd.crosstab(employeeTurnOver['job role'],employeeTurnOver['left'])\n",
    "\n",
    "promotion.div(promotion.sum(1).astype(float),axis=0).plot(kind='bar',stacked=True)\n",
    "hours.div(hours.sum(1).astype(float),axis=0).plot(kind='bar',stacked=True)\n",
    "plt.show()\n",
    "job.div(job.sum(1).astype(float),axis=0).plot(kind='bar',stacked=True)"
   ],
   "metadata": {
    "collapsed": false,
    "pycharm": {
     "name": "#%%\n"
    }
   }
  },
  {
   "cell_type": "markdown",
   "source": [
    "There are three plots above. The first plot demonstrates that employees who do not receive a promotion within five years leave more frequently than employees who do receive a promotion within five years. The second plot is heavily populated, however, provides great insight into the general trend of employees who work over 243 hours a month tend to leave the company. This proves my intial assumption above. The third plot illustrates the job role an employee took on if they left. This plot does not provide insight as to why the employee left because the percent of employees who left are similar in each job role."
   ],
   "metadata": {
    "collapsed": false,
    "pycharm": {
     "name": "#%% md\n"
    }
   }
  },
  {
   "cell_type": "code",
   "execution_count": 17,
   "outputs": [
    {
     "data": {
      "text/plain": "<AxesSubplot:>"
     },
     "execution_count": 17,
     "metadata": {},
     "output_type": "execute_result"
    },
    {
     "data": {
      "text/plain": "<Figure size 720x720 with 2 Axes>",
      "image/png": "[encoded data removed]"
     },
     "metadata": {
      "needs_background": "light"
     },
     "output_type": "display_data"
    }
   ],
   "source": [
    "corr = employeeTurnOver.corr()\n",
    "f, ax = plt.subplots(figsize=(10,10))\n",
    "sns.heatmap(corr,vmax=.8,square=True,cmap='BuPu',annot=True)"
   ],
   "metadata": {
    "collapsed": false,
    "pycharm": {
     "name": "#%%\n"
    }
   }
  },
  {
   "cell_type": "markdown",
   "source": [
    "It is evident that the highest correlation occurs between average monthly hours and number of projects. Number of projects is also correlated with last evaluation."
   ],
   "metadata": {
    "collapsed": false,
    "pycharm": {
     "name": "#%% md\n"
    }
   }
  },
  {
   "cell_type": "markdown",
   "source": [
    "## Bagging"
   ],
   "metadata": {
    "collapsed": false,
    "pycharm": {
     "name": "#%% md\n"
    }
   }
  },
  {
   "cell_type": "code",
   "execution_count": 18,
   "outputs": [],
   "source": [
    "employeeTurnOver = pd.get_dummies(employeeTurnOver)"
   ],
   "metadata": {
    "collapsed": false,
    "pycharm": {
     "name": "#%%\n"
    }
   }
  },
  {
   "cell_type": "code",
   "execution_count": 19,
   "outputs": [],
   "source": [
    "X = employeeTurnOver.drop('left',axis=1)\n",
    "y = employeeTurnOver.left"
   ],
   "metadata": {
    "collapsed": false,
    "pycharm": {
     "name": "#%%\n"
    }
   }
  },
  {
   "cell_type": "code",
   "execution_count": 20,
   "outputs": [
    {
     "name": "stdout",
     "output_type": "stream",
     "text": [
      "\n",
      "1 of kfold 10\n",
      "accuracy_score 0.9716666666666667\n",
      "\n",
      "2 of kfold 10\n",
      "accuracy_score 0.97581317764804\n",
      "\n",
      "3 of kfold 10\n",
      "accuracy_score 0.9674728940783986\n",
      "\n",
      "4 of kfold 10\n",
      "accuracy_score 0.9699749791492911\n",
      "\n",
      "5 of kfold 10\n",
      "accuracy_score 0.97581317764804\n",
      "\n",
      "6 of kfold 10\n",
      "accuracy_score 0.9649708090075062\n",
      "\n",
      "7 of kfold 10\n",
      "accuracy_score 0.9591326105087573\n",
      "\n",
      "8 of kfold 10\n",
      "accuracy_score 0.9649708090075062\n",
      "\n",
      "9 of kfold 10\n",
      "accuracy_score 0.9666388657214345\n",
      "\n",
      "10 of kfold 10\n",
      "accuracy_score 0.9674728940783986\n",
      "\n",
      " Mean Validation Accuracy 0.9683926883514038\n"
     ]
    }
   ],
   "source": [
    "iteration = 1\n",
    "mean = 0\n",
    "\n",
    "kf = StratifiedKFold(n_splits=10,random_state=1,shuffle=True)\n",
    "for train_index,test_index in kf.split(X,y):\n",
    "    print('\\n{} of kfold {}'.format(iteration,kf.n_splits))\n",
    "    xtr,xvl, ytr, yvl = X.iloc[train_index,:],X.iloc[test_index,:], y.iloc[train_index], y.iloc[test_index]\n",
    "    #ytr,yvl = y[train_index],y[test_index]\n",
    "    model = DecisionTreeClassifier()\n",
    "    model.fit(xtr, ytr)\n",
    "    pred_test = model.predict(xvl)\n",
    "    score = accuracy_score(yvl,pred_test)\n",
    "    mean += score\n",
    "    print ('accuracy_score',score)\n",
    "    iteration+=1\n",
    "print ('\\n Mean Validation Accuracy',mean/(iteration-1))"
   ],
   "metadata": {
    "collapsed": false,
    "pycharm": {
     "name": "#%%\n"
    }
   }
  },
  {
   "cell_type": "markdown",
   "source": [
    "I decided to split my data into a test and training set after my initial boosting classification because I wanted to experiment with the tuning of the hyper-parameters on the training set. Prior to the split, I prepared the inputs such that all categorical variables, job role and salary, are transformed into dummy variables. This turns each category of the categorical variables into a new feature that indicates type using 0 and 1. This makes it easier to compare during classification.\n",
    "\n",
    "The bagging model is setup such that the inputs X and y undergo 10 K fold cross validations. The train and test values for both X and y at index rows are obtained using the .loc function. These will then be used for fitting of the model. The bagging model I decided to use is the DecisionTreeClassifier. The model is then fitted according to the inputted X training vectors and y target values. Next, I analyze the accuracy of the model by comparing the target values with the test prediction. The results are printed above. I setup the bagging model in this way because I want to explore if tuning different hyper-parameters results in a better accuracy.\n",
    "\n",
    "The mean validation accuracy is 0.9698. To boost the model's performance, I explore the different hyper parameters below."
   ],
   "metadata": {
    "collapsed": false
   }
  },
  {
   "cell_type": "code",
   "execution_count": 21,
   "outputs": [],
   "source": [
    "X_train, X_test, y_train, y_test = train_test_split(X, y, test_size=0.20)"
   ],
   "metadata": {
    "collapsed": false,
    "pycharm": {
     "name": "#%%\n"
    }
   }
  },
  {
   "cell_type": "markdown",
   "source": [
    "### Hyperparameter Tuning"
   ],
   "metadata": {
    "collapsed": false,
    "pycharm": {
     "name": "#%% md\n"
    }
   }
  },
  {
   "cell_type": "code",
   "execution_count": 22,
   "outputs": [
    {
     "name": "stdout",
     "output_type": "stream",
     "text": [
      "{'ccp_alpha': 0.0, 'class_weight': None, 'criterion': 'gini', 'max_depth': None, 'max_features': None, 'max_leaf_nodes': None, 'min_impurity_decrease': 0.0, 'min_impurity_split': None, 'min_samples_leaf': 1, 'min_samples_split': 2, 'min_weight_fraction_leaf': 0.0, 'random_state': None, 'splitter': 'best'}\n"
     ]
    }
   ],
   "source": [
    "# Create base model\n",
    "model = DecisionTreeClassifier()\n",
    "print(model.get_params())"
   ],
   "metadata": {
    "collapsed": false,
    "pycharm": {
     "name": "#%%\n"
    }
   }
  },
  {
   "cell_type": "markdown",
   "source": [
    "There are a few parameters we can consider exploring. These are printed above. I choose to tune the maximum depth, minimum number of leaves, and criterion."
   ],
   "metadata": {
    "collapsed": false,
    "pycharm": {
     "name": "#%% md\n"
    }
   }
  },
  {
   "cell_type": "code",
   "execution_count": 23,
   "outputs": [
    {
     "name": "stdout",
     "output_type": "stream",
     "text": [
      " Results from Grid Search \n",
      "\n",
      " The best estimator across ALL searched params:\n",
      " DecisionTreeClassifier(max_depth=10, min_samples_leaf=5)\n",
      "\n",
      " The best score across ALL searched params:\n",
      " 0.979045037531276\n",
      "\n",
      " The best parameters across ALL searched params:\n",
      " {'criterion': 'gini', 'max_depth': 10, 'min_samples_leaf': 5}\n"
     ]
    }
   ],
   "source": [
    "parameters = {'max_depth': [2, 3, 5, 10],\n",
    "              'min_samples_leaf': [5, 10, 20, 50, 100],\n",
    "              'criterion': ['gini','entropy']}\n",
    "model = DecisionTreeClassifier()\n",
    "\n",
    "grid = GridSearchCV(estimator=model, param_grid = parameters, cv = 2, n_jobs=-1)\n",
    "grid.fit(X_train, y_train)\n",
    "\n",
    "print(\" Results from Grid Search \" )\n",
    "print(\"\\n The best estimator across ALL searched params:\\n\", grid.best_estimator_)\n",
    "print(\"\\n The best score across ALL searched params:\\n\", grid.best_score_)\n",
    "print(\"\\n The best parameters across ALL searched params:\\n\", grid.best_params_)"
   ],
   "metadata": {
    "collapsed": false,
    "pycharm": {
     "name": "#%%\n"
    }
   }
  },
  {
   "cell_type": "markdown",
   "source": [
    "To explore the effects of each, I set different values to each variable to be used in the model (DecisionTreeClassifier). I used GridSearchCV to generate candidates from parameter values that could possibly result in a better accuracy. The results are then fitted training dataset. I decided to run it on the training dataset to print out optimal values of parameters to be used on the test dataset.\n",
    "\n",
    "The best accuracy obtained is 0.9764 which is worst than the accuracy without tuning the parameters. Overall, the best parameters from the defined above are a gini criterion, maximum depth of 10, and a minimum of 10 sample leaves."
   ],
   "metadata": {
    "collapsed": false
   }
  },
  {
   "cell_type": "markdown",
   "source": [
    "## Boosting"
   ],
   "metadata": {
    "collapsed": false
   }
  },
  {
   "cell_type": "code",
   "execution_count": 24,
   "outputs": [
    {
     "name": "stdout",
     "output_type": "stream",
     "text": [
      "\n",
      "1 of kfold 10\n",
      "Learning rate set to 0.5\n",
      "0:\tlearn: 0.2011723\ttotal: 158ms\tremaining: 1.42s\n",
      "1:\tlearn: 0.1295626\ttotal: 170ms\tremaining: 678ms\n",
      "2:\tlearn: 0.1090707\ttotal: 178ms\tremaining: 414ms\n",
      "3:\tlearn: 0.0968638\ttotal: 186ms\tremaining: 279ms\n",
      "4:\tlearn: 0.0913542\ttotal: 194ms\tremaining: 194ms\n",
      "5:\tlearn: 0.0801056\ttotal: 202ms\tremaining: 135ms\n",
      "6:\tlearn: 0.0777949\ttotal: 211ms\tremaining: 90.3ms\n",
      "7:\tlearn: 0.0743679\ttotal: 224ms\tremaining: 56ms\n",
      "8:\tlearn: 0.0693490\ttotal: 236ms\tremaining: 26.2ms\n",
      "9:\tlearn: 0.0668821\ttotal: 243ms\tremaining: 0us\n",
      "accuracy_score 0.9791666666666666\n",
      "\n",
      "2 of kfold 10\n",
      "Learning rate set to 0.5\n",
      "0:\tlearn: 0.1937389\ttotal: 13.3ms\tremaining: 120ms\n",
      "1:\tlearn: 0.1412360\ttotal: 23.9ms\tremaining: 95.7ms\n",
      "2:\tlearn: 0.1089174\ttotal: 36.1ms\tremaining: 84.3ms\n",
      "3:\tlearn: 0.0934885\ttotal: 48.6ms\tremaining: 72.8ms\n",
      "4:\tlearn: 0.0873729\ttotal: 58.8ms\tremaining: 58.8ms\n",
      "5:\tlearn: 0.0818365\ttotal: 71.5ms\tremaining: 47.7ms\n",
      "6:\tlearn: 0.0786969\ttotal: 82.5ms\tremaining: 35.3ms\n",
      "7:\tlearn: 0.0754549\ttotal: 95.4ms\tremaining: 23.8ms\n",
      "8:\tlearn: 0.0736905\ttotal: 107ms\tremaining: 11.9ms\n",
      "9:\tlearn: 0.0705817\ttotal: 119ms\tremaining: 0us\n",
      "accuracy_score 0.987489574645538\n",
      "\n",
      "3 of kfold 10\n",
      "Learning rate set to 0.5\n",
      "0:\tlearn: 0.1937998\ttotal: 7.87ms\tremaining: 70.8ms\n",
      "1:\tlearn: 0.1376898\ttotal: 16.9ms\tremaining: 67.4ms\n",
      "2:\tlearn: 0.1045679\ttotal: 24.2ms\tremaining: 56.4ms\n",
      "3:\tlearn: 0.0921984\ttotal: 31.2ms\tremaining: 46.8ms\n",
      "4:\tlearn: 0.0797790\ttotal: 39ms\tremaining: 39ms\n",
      "5:\tlearn: 0.0767618\ttotal: 47.5ms\tremaining: 31.7ms\n",
      "6:\tlearn: 0.0717393\ttotal: 55.3ms\tremaining: 23.7ms\n",
      "7:\tlearn: 0.0676862\ttotal: 62ms\tremaining: 15.5ms\n",
      "8:\tlearn: 0.0657015\ttotal: 68.6ms\tremaining: 7.62ms\n",
      "9:\tlearn: 0.0635725\ttotal: 75.4ms\tremaining: 0us\n",
      "accuracy_score 0.9799833194328608\n",
      "\n",
      "4 of kfold 10\n",
      "Learning rate set to 0.5\n",
      "0:\tlearn: 0.2007169\ttotal: 7.97ms\tremaining: 71.7ms\n",
      "1:\tlearn: 0.1276516\ttotal: 16.6ms\tremaining: 66.3ms\n",
      "2:\tlearn: 0.1078123\ttotal: 23.8ms\tremaining: 55.4ms\n",
      "3:\tlearn: 0.0957637\ttotal: 30.4ms\tremaining: 45.6ms\n",
      "4:\tlearn: 0.0905153\ttotal: 37.5ms\tremaining: 37.5ms\n",
      "5:\tlearn: 0.0796953\ttotal: 50.4ms\tremaining: 33.6ms\n",
      "6:\tlearn: 0.0765327\ttotal: 60.3ms\tremaining: 25.8ms\n",
      "7:\tlearn: 0.0709834\ttotal: 71.8ms\tremaining: 18ms\n",
      "8:\tlearn: 0.0692473\ttotal: 80.5ms\tremaining: 8.94ms\n",
      "9:\tlearn: 0.0658491\ttotal: 87.6ms\tremaining: 0us\n",
      "accuracy_score 0.9799833194328608\n",
      "\n",
      "5 of kfold 10\n",
      "Learning rate set to 0.5\n",
      "0:\tlearn: 0.2023435\ttotal: 8.57ms\tremaining: 77.2ms\n",
      "1:\tlearn: 0.1303147\ttotal: 17.3ms\tremaining: 69.1ms\n",
      "2:\tlearn: 0.1100240\ttotal: 28.5ms\tremaining: 66.5ms\n",
      "3:\tlearn: 0.0961241\ttotal: 40.5ms\tremaining: 60.8ms\n",
      "4:\tlearn: 0.0899448\ttotal: 50ms\tremaining: 50ms\n",
      "5:\tlearn: 0.0793648\ttotal: 58.8ms\tremaining: 39.2ms\n",
      "6:\tlearn: 0.0772786\ttotal: 70.4ms\tremaining: 30.2ms\n",
      "7:\tlearn: 0.0736106\ttotal: 82.5ms\tremaining: 20.6ms\n",
      "8:\tlearn: 0.0702529\ttotal: 91.5ms\tremaining: 10.2ms\n",
      "9:\tlearn: 0.0682364\ttotal: 120ms\tremaining: 0us\n",
      "accuracy_score 0.9841534612176814\n",
      "\n",
      "6 of kfold 10\n",
      "Learning rate set to 0.5\n",
      "0:\tlearn: 0.1926904\ttotal: 17.7ms\tremaining: 159ms\n",
      "1:\tlearn: 0.1370870\ttotal: 34.4ms\tremaining: 138ms\n",
      "2:\tlearn: 0.1046523\ttotal: 46.8ms\tremaining: 109ms\n",
      "3:\tlearn: 0.0925593\ttotal: 59.7ms\tremaining: 89.5ms\n",
      "4:\tlearn: 0.0844229\ttotal: 77.3ms\tremaining: 77.3ms\n",
      "5:\tlearn: 0.0773915\ttotal: 89.3ms\tremaining: 59.5ms\n",
      "6:\tlearn: 0.0746383\ttotal: 101ms\tremaining: 43.5ms\n",
      "7:\tlearn: 0.0700797\ttotal: 126ms\tremaining: 31.5ms\n",
      "8:\tlearn: 0.0687508\ttotal: 137ms\tremaining: 15.2ms\n",
      "9:\tlearn: 0.0657646\ttotal: 150ms\tremaining: 0us\n",
      "accuracy_score 0.981651376146789\n",
      "\n",
      "7 of kfold 10\n",
      "Learning rate set to 0.5\n",
      "0:\tlearn: 0.1901166\ttotal: 10.7ms\tremaining: 96.1ms\n",
      "1:\tlearn: 0.1359097\ttotal: 22.8ms\tremaining: 91.2ms\n",
      "2:\tlearn: 0.1025919\ttotal: 33.6ms\tremaining: 78.5ms\n",
      "3:\tlearn: 0.0878941\ttotal: 44.7ms\tremaining: 67ms\n",
      "4:\tlearn: 0.0821273\ttotal: 55.4ms\tremaining: 55.4ms\n",
      "5:\tlearn: 0.0768747\ttotal: 67.8ms\tremaining: 45.2ms\n",
      "6:\tlearn: 0.0718099\ttotal: 100ms\tremaining: 42.8ms\n",
      "7:\tlearn: 0.0693702\ttotal: 111ms\tremaining: 27.9ms\n",
      "8:\tlearn: 0.0674163\ttotal: 123ms\tremaining: 13.7ms\n",
      "9:\tlearn: 0.0651989\ttotal: 135ms\tremaining: 0us\n",
      "accuracy_score 0.9833194328607172\n",
      "\n",
      "8 of kfold 10\n",
      "Learning rate set to 0.5\n",
      "0:\tlearn: 0.1914957\ttotal: 11.3ms\tremaining: 102ms\n",
      "1:\tlearn: 0.1411737\ttotal: 23.3ms\tremaining: 93.2ms\n",
      "2:\tlearn: 0.1054832\ttotal: 35.1ms\tremaining: 82ms\n",
      "3:\tlearn: 0.0947652\ttotal: 48.4ms\tremaining: 72.6ms\n",
      "4:\tlearn: 0.0867385\ttotal: 61.1ms\tremaining: 61.1ms\n",
      "5:\tlearn: 0.0826779\ttotal: 73.4ms\tremaining: 48.9ms\n",
      "6:\tlearn: 0.0775947\ttotal: 101ms\tremaining: 43.2ms\n",
      "7:\tlearn: 0.0737354\ttotal: 113ms\tremaining: 28.2ms\n",
      "8:\tlearn: 0.0722237\ttotal: 126ms\tremaining: 14ms\n",
      "9:\tlearn: 0.0689402\ttotal: 137ms\tremaining: 0us\n",
      "accuracy_score 0.9708090075062552\n",
      "\n",
      "9 of kfold 10\n",
      "Learning rate set to 0.5\n",
      "0:\tlearn: 0.2011640\ttotal: 9.27ms\tremaining: 83.4ms\n",
      "1:\tlearn: 0.1290551\ttotal: 21.7ms\tremaining: 86.7ms\n",
      "2:\tlearn: 0.1078314\ttotal: 30.6ms\tremaining: 71.4ms\n",
      "3:\tlearn: 0.0942124\ttotal: 44.8ms\tremaining: 67.2ms\n",
      "4:\tlearn: 0.0881522\ttotal: 56.2ms\tremaining: 56.2ms\n",
      "5:\tlearn: 0.0773312\ttotal: 65ms\tremaining: 43.3ms\n",
      "6:\tlearn: 0.0749544\ttotal: 72.7ms\tremaining: 31.2ms\n",
      "7:\tlearn: 0.0722085\ttotal: 91.2ms\tremaining: 22.8ms\n",
      "8:\tlearn: 0.0690271\ttotal: 104ms\tremaining: 11.6ms\n",
      "9:\tlearn: 0.0677125\ttotal: 116ms\tremaining: 0us\n",
      "accuracy_score 0.981651376146789\n",
      "\n",
      "10 of kfold 10\n",
      "Learning rate set to 0.5\n",
      "0:\tlearn: 0.1990854\ttotal: 10.5ms\tremaining: 94.1ms\n",
      "1:\tlearn: 0.1303224\ttotal: 19.1ms\tremaining: 76.4ms\n",
      "2:\tlearn: 0.1049125\ttotal: 31.8ms\tremaining: 74.1ms\n",
      "3:\tlearn: 0.0951151\ttotal: 47.5ms\tremaining: 71.2ms\n",
      "4:\tlearn: 0.0850322\ttotal: 61.3ms\tremaining: 61.3ms\n",
      "5:\tlearn: 0.0786750\ttotal: 73.2ms\tremaining: 48.8ms\n",
      "6:\tlearn: 0.0762053\ttotal: 86.3ms\tremaining: 37ms\n",
      "7:\tlearn: 0.0718157\ttotal: 96.9ms\tremaining: 24.2ms\n",
      "8:\tlearn: 0.0694649\ttotal: 108ms\tremaining: 12ms\n",
      "9:\tlearn: 0.0669026\ttotal: 119ms\tremaining: 0us\n",
      "accuracy_score 0.9791492910758965\n",
      "\n",
      " Mean Validation Accuracy 0.9807356825132054\n"
     ]
    }
   ],
   "source": [
    "iteration = 1\n",
    "mean = 0\n",
    "\n",
    "kf = StratifiedKFold(n_splits=10,random_state=1,shuffle=True)\n",
    "for train_index,test_index in kf.split(X,y):\n",
    "    print('\\n{} of kfold {}'.format(iteration,kf.n_splits))\n",
    "    xtr,xvl, ytr, yvl = X.iloc[train_index,:],X.iloc[test_index,:], y.iloc[train_index], y.iloc[test_index]\n",
    "    model = CatBoostClassifier(iterations=10)\n",
    "    model.fit(xtr, ytr)\n",
    "    pred_test = model.predict(xvl)\n",
    "    score = accuracy_score(yvl,pred_test)\n",
    "    mean += score\n",
    "    print ('accuracy_score',score)\n",
    "    iteration+=1\n",
    "print ('\\n Mean Validation Accuracy',mean/(iteration-1))"
   ],
   "metadata": {
    "collapsed": false,
    "pycharm": {
     "name": "#%%\n"
    }
   }
  },
  {
   "cell_type": "markdown",
   "source": [
    "The preparation of the inputs was explained in the bagging model. The boosting model is setup in the exact same way such that the inputs X and y undergo 10 K fold cross validations. The train and test values for both X and y at index rows are obtained using the .loc function. These will then be used for fitting of the model. The boosting model I decided to use is the CatBoostClassifier. The model is then fitted according to the inputted X training vectors and y target values. Next, I analyze the accuracy of the model by comparing the target values with the test prediction. The results are printed above. I setup the boosting model in this way because I want to explore if tuning different hyper-parameters results in a better accuracy.\n",
    "\n",
    "The mean validation accuracy is 0.9807. To boost the model's performance, I explore the different hyper parameters below."
   ],
   "metadata": {
    "collapsed": false
   }
  },
  {
   "cell_type": "markdown",
   "source": [
    "### Hyperparameter Tuning"
   ],
   "metadata": {
    "collapsed": false
   }
  },
  {
   "cell_type": "code",
   "execution_count": 25,
   "outputs": [
    {
     "name": "stdout",
     "output_type": "stream",
     "text": [
      "0:\tlearn: 0.5220315\ttotal: 27.4ms\tremaining: 6.81s\n",
      "1:\tlearn: 0.4033230\ttotal: 60.1ms\tremaining: 7.45s\n",
      "2:\tlearn: 0.3167118\ttotal: 92.3ms\tremaining: 7.6s\n",
      "3:\tlearn: 0.2568938\ttotal: 112ms\tremaining: 6.91s\n",
      "4:\tlearn: 0.2097909\ttotal: 146ms\tremaining: 7.16s\n",
      "5:\tlearn: 0.1791175\ttotal: 177ms\tremaining: 7.21s\n",
      "6:\tlearn: 0.1557661\ttotal: 198ms\tremaining: 6.88s\n",
      "7:\tlearn: 0.1384734\ttotal: 219ms\tremaining: 6.61s\n",
      "8:\tlearn: 0.1248329\ttotal: 245ms\tremaining: 6.57s\n",
      "9:\tlearn: 0.1146095\ttotal: 276ms\tremaining: 6.63s\n",
      "10:\tlearn: 0.1080536\ttotal: 296ms\tremaining: 6.42s\n",
      "11:\tlearn: 0.1015186\ttotal: 315ms\tremaining: 6.24s\n",
      "12:\tlearn: 0.0959807\ttotal: 336ms\tremaining: 6.12s\n",
      "13:\tlearn: 0.0922060\ttotal: 349ms\tremaining: 5.89s\n",
      "14:\tlearn: 0.0889859\ttotal: 384ms\tremaining: 6.01s\n",
      "15:\tlearn: 0.0865785\ttotal: 423ms\tremaining: 6.18s\n",
      "16:\tlearn: 0.0837987\ttotal: 457ms\tremaining: 6.27s\n",
      "17:\tlearn: 0.0816200\ttotal: 496ms\tremaining: 6.39s\n",
      "18:\tlearn: 0.0803152\ttotal: 534ms\tremaining: 6.49s\n",
      "19:\tlearn: 0.0782824\ttotal: 577ms\tremaining: 6.64s\n",
      "20:\tlearn: 0.0762851\ttotal: 629ms\tremaining: 6.86s\n",
      "21:\tlearn: 0.0752417\ttotal: 651ms\tremaining: 6.74s\n",
      "22:\tlearn: 0.0734935\ttotal: 672ms\tremaining: 6.63s\n",
      "23:\tlearn: 0.0718388\ttotal: 699ms\tremaining: 6.58s\n",
      "24:\tlearn: 0.0704172\ttotal: 735ms\tremaining: 6.62s\n",
      "25:\tlearn: 0.0693121\ttotal: 774ms\tremaining: 6.67s\n",
      "26:\tlearn: 0.0683248\ttotal: 796ms\tremaining: 6.57s\n",
      "27:\tlearn: 0.0676513\ttotal: 818ms\tremaining: 6.48s\n",
      "28:\tlearn: 0.0670922\ttotal: 838ms\tremaining: 6.39s\n",
      "29:\tlearn: 0.0662538\ttotal: 861ms\tremaining: 6.31s\n",
      "30:\tlearn: 0.0651139\ttotal: 881ms\tremaining: 6.22s\n",
      "31:\tlearn: 0.0641466\ttotal: 918ms\tremaining: 6.25s\n",
      "32:\tlearn: 0.0637286\ttotal: 947ms\tremaining: 6.22s\n",
      "33:\tlearn: 0.0628689\ttotal: 968ms\tremaining: 6.15s\n",
      "34:\tlearn: 0.0621617\ttotal: 991ms\tremaining: 6.08s\n",
      "35:\tlearn: 0.0615818\ttotal: 1.01s\tremaining: 6.01s\n",
      "36:\tlearn: 0.0608466\ttotal: 1.03s\tremaining: 5.94s\n",
      "37:\tlearn: 0.0603540\ttotal: 1.05s\tremaining: 5.87s\n",
      "38:\tlearn: 0.0598992\ttotal: 1.07s\tremaining: 5.81s\n",
      "39:\tlearn: 0.0595574\ttotal: 1.1s\tremaining: 5.75s\n",
      "40:\tlearn: 0.0588903\ttotal: 1.12s\tremaining: 5.69s\n",
      "41:\tlearn: 0.0584388\ttotal: 1.14s\tremaining: 5.64s\n",
      "42:\tlearn: 0.0577355\ttotal: 1.16s\tremaining: 5.58s\n",
      "43:\tlearn: 0.0573336\ttotal: 1.18s\tremaining: 5.53s\n",
      "44:\tlearn: 0.0567108\ttotal: 1.2s\tremaining: 5.47s\n",
      "45:\tlearn: 0.0561311\ttotal: 1.22s\tremaining: 5.41s\n",
      "46:\tlearn: 0.0558134\ttotal: 1.24s\tremaining: 5.36s\n",
      "47:\tlearn: 0.0553769\ttotal: 1.26s\tremaining: 5.3s\n",
      "48:\tlearn: 0.0551114\ttotal: 1.28s\tremaining: 5.25s\n",
      "49:\tlearn: 0.0546744\ttotal: 1.31s\tremaining: 5.25s\n",
      "50:\tlearn: 0.0542166\ttotal: 1.33s\tremaining: 5.21s\n",
      "51:\tlearn: 0.0537982\ttotal: 1.35s\tremaining: 5.16s\n",
      "52:\tlearn: 0.0533481\ttotal: 1.37s\tremaining: 5.11s\n",
      "53:\tlearn: 0.0526277\ttotal: 1.39s\tremaining: 5.06s\n",
      "54:\tlearn: 0.0523418\ttotal: 1.42s\tremaining: 5.02s\n",
      "55:\tlearn: 0.0518769\ttotal: 1.47s\tremaining: 5.08s\n",
      "56:\tlearn: 0.0516969\ttotal: 1.49s\tremaining: 5.04s\n",
      "57:\tlearn: 0.0512762\ttotal: 1.51s\tremaining: 4.99s\n",
      "58:\tlearn: 0.0506096\ttotal: 1.53s\tremaining: 4.95s\n",
      "59:\tlearn: 0.0499454\ttotal: 1.55s\tremaining: 4.9s\n",
      "60:\tlearn: 0.0493128\ttotal: 1.57s\tremaining: 4.86s\n",
      "61:\tlearn: 0.0487212\ttotal: 1.59s\tremaining: 4.81s\n",
      "62:\tlearn: 0.0484861\ttotal: 1.6s\tremaining: 4.77s\n",
      "63:\tlearn: 0.0480789\ttotal: 1.63s\tremaining: 4.72s\n",
      "64:\tlearn: 0.0478414\ttotal: 1.64s\tremaining: 4.68s\n",
      "65:\tlearn: 0.0471631\ttotal: 1.66s\tremaining: 4.64s\n",
      "66:\tlearn: 0.0468666\ttotal: 1.68s\tremaining: 4.6s\n",
      "67:\tlearn: 0.0464555\ttotal: 1.7s\tremaining: 4.56s\n",
      "68:\tlearn: 0.0459137\ttotal: 1.73s\tremaining: 4.53s\n",
      "69:\tlearn: 0.0457305\ttotal: 1.74s\tremaining: 4.48s\n",
      "70:\tlearn: 0.0455050\ttotal: 1.76s\tremaining: 4.45s\n",
      "71:\tlearn: 0.0451545\ttotal: 1.78s\tremaining: 4.41s\n",
      "72:\tlearn: 0.0447788\ttotal: 1.8s\tremaining: 4.37s\n",
      "73:\tlearn: 0.0442200\ttotal: 1.82s\tremaining: 4.33s\n",
      "74:\tlearn: 0.0435191\ttotal: 1.84s\tremaining: 4.29s\n",
      "75:\tlearn: 0.0431971\ttotal: 1.86s\tremaining: 4.26s\n",
      "76:\tlearn: 0.0429605\ttotal: 1.88s\tremaining: 4.23s\n",
      "77:\tlearn: 0.0426633\ttotal: 1.91s\tremaining: 4.21s\n",
      "78:\tlearn: 0.0423021\ttotal: 1.93s\tremaining: 4.18s\n",
      "79:\tlearn: 0.0419821\ttotal: 1.96s\tremaining: 4.16s\n",
      "80:\tlearn: 0.0414946\ttotal: 1.98s\tremaining: 4.12s\n",
      "81:\tlearn: 0.0411671\ttotal: 2s\tremaining: 4.09s\n",
      "82:\tlearn: 0.0408441\ttotal: 2.01s\tremaining: 4.05s\n",
      "83:\tlearn: 0.0406817\ttotal: 2.03s\tremaining: 4.02s\n",
      "84:\tlearn: 0.0405302\ttotal: 2.05s\tremaining: 3.99s\n",
      "85:\tlearn: 0.0404279\ttotal: 2.07s\tremaining: 3.95s\n",
      "86:\tlearn: 0.0399989\ttotal: 2.09s\tremaining: 3.92s\n",
      "87:\tlearn: 0.0396497\ttotal: 2.11s\tremaining: 3.89s\n",
      "88:\tlearn: 0.0394970\ttotal: 2.19s\tremaining: 3.96s\n",
      "89:\tlearn: 0.0391967\ttotal: 2.21s\tremaining: 3.93s\n",
      "90:\tlearn: 0.0389868\ttotal: 2.23s\tremaining: 3.9s\n",
      "91:\tlearn: 0.0388201\ttotal: 2.25s\tremaining: 3.87s\n",
      "92:\tlearn: 0.0385523\ttotal: 2.27s\tremaining: 3.83s\n",
      "93:\tlearn: 0.0384395\ttotal: 2.29s\tremaining: 3.8s\n",
      "94:\tlearn: 0.0378200\ttotal: 2.31s\tremaining: 3.77s\n",
      "95:\tlearn: 0.0374888\ttotal: 2.34s\tremaining: 3.76s\n",
      "96:\tlearn: 0.0371333\ttotal: 2.36s\tremaining: 3.73s\n",
      "97:\tlearn: 0.0369866\ttotal: 2.38s\tremaining: 3.7s\n",
      "98:\tlearn: 0.0367682\ttotal: 2.41s\tremaining: 3.68s\n",
      "99:\tlearn: 0.0364938\ttotal: 2.43s\tremaining: 3.65s\n",
      "100:\tlearn: 0.0362319\ttotal: 2.45s\tremaining: 3.62s\n",
      "101:\tlearn: 0.0358842\ttotal: 2.47s\tremaining: 3.59s\n",
      "102:\tlearn: 0.0357293\ttotal: 2.49s\tremaining: 3.56s\n",
      "103:\tlearn: 0.0354657\ttotal: 2.51s\tremaining: 3.53s\n",
      "104:\tlearn: 0.0352433\ttotal: 2.54s\tremaining: 3.51s\n",
      "105:\tlearn: 0.0349965\ttotal: 2.56s\tremaining: 3.48s\n",
      "106:\tlearn: 0.0347670\ttotal: 2.58s\tremaining: 3.45s\n",
      "107:\tlearn: 0.0345104\ttotal: 2.61s\tremaining: 3.43s\n",
      "108:\tlearn: 0.0344209\ttotal: 2.63s\tremaining: 3.4s\n",
      "109:\tlearn: 0.0342756\ttotal: 2.65s\tremaining: 3.37s\n",
      "110:\tlearn: 0.0340693\ttotal: 2.67s\tremaining: 3.34s\n",
      "111:\tlearn: 0.0338967\ttotal: 2.68s\tremaining: 3.31s\n",
      "112:\tlearn: 0.0336382\ttotal: 2.7s\tremaining: 3.28s\n",
      "113:\tlearn: 0.0335099\ttotal: 2.72s\tremaining: 3.25s\n",
      "114:\tlearn: 0.0334196\ttotal: 2.75s\tremaining: 3.23s\n",
      "115:\tlearn: 0.0332715\ttotal: 2.77s\tremaining: 3.2s\n",
      "116:\tlearn: 0.0331329\ttotal: 2.79s\tremaining: 3.17s\n",
      "117:\tlearn: 0.0329746\ttotal: 2.81s\tremaining: 3.14s\n",
      "118:\tlearn: 0.0328599\ttotal: 2.83s\tremaining: 3.11s\n",
      "119:\tlearn: 0.0326355\ttotal: 2.84s\tremaining: 3.08s\n",
      "120:\tlearn: 0.0324995\ttotal: 2.86s\tremaining: 3.05s\n",
      "121:\tlearn: 0.0323884\ttotal: 2.88s\tremaining: 3.02s\n",
      "122:\tlearn: 0.0322589\ttotal: 2.9s\tremaining: 3s\n",
      "123:\tlearn: 0.0319731\ttotal: 2.92s\tremaining: 2.97s\n",
      "124:\tlearn: 0.0318701\ttotal: 2.94s\tremaining: 2.94s\n",
      "125:\tlearn: 0.0316494\ttotal: 2.96s\tremaining: 2.92s\n",
      "126:\tlearn: 0.0313678\ttotal: 2.98s\tremaining: 2.89s\n",
      "127:\tlearn: 0.0311688\ttotal: 3s\tremaining: 2.86s\n",
      "128:\tlearn: 0.0310874\ttotal: 3.02s\tremaining: 2.84s\n",
      "129:\tlearn: 0.0308292\ttotal: 3.05s\tremaining: 2.81s\n",
      "130:\tlearn: 0.0306895\ttotal: 3.07s\tremaining: 2.79s\n",
      "131:\tlearn: 0.0304542\ttotal: 3.09s\tremaining: 2.76s\n",
      "132:\tlearn: 0.0302956\ttotal: 3.15s\tremaining: 2.77s\n",
      "133:\tlearn: 0.0302087\ttotal: 3.17s\tremaining: 2.75s\n",
      "134:\tlearn: 0.0301135\ttotal: 3.19s\tremaining: 2.72s\n",
      "135:\tlearn: 0.0299519\ttotal: 3.21s\tremaining: 2.69s\n",
      "136:\tlearn: 0.0297322\ttotal: 3.23s\tremaining: 2.67s\n",
      "137:\tlearn: 0.0296419\ttotal: 3.25s\tremaining: 2.64s\n",
      "138:\tlearn: 0.0294908\ttotal: 3.27s\tremaining: 2.61s\n",
      "139:\tlearn: 0.0294317\ttotal: 3.29s\tremaining: 2.59s\n",
      "140:\tlearn: 0.0293394\ttotal: 3.31s\tremaining: 2.56s\n",
      "141:\tlearn: 0.0292354\ttotal: 3.34s\tremaining: 2.54s\n",
      "142:\tlearn: 0.0289067\ttotal: 3.35s\tremaining: 2.51s\n",
      "143:\tlearn: 0.0288584\ttotal: 3.38s\tremaining: 2.48s\n",
      "144:\tlearn: 0.0285725\ttotal: 3.4s\tremaining: 2.46s\n",
      "145:\tlearn: 0.0282405\ttotal: 3.42s\tremaining: 2.44s\n",
      "146:\tlearn: 0.0279707\ttotal: 3.45s\tremaining: 2.42s\n",
      "147:\tlearn: 0.0277370\ttotal: 3.47s\tremaining: 2.39s\n",
      "148:\tlearn: 0.0275421\ttotal: 3.49s\tremaining: 2.36s\n",
      "149:\tlearn: 0.0275011\ttotal: 3.51s\tremaining: 2.34s\n",
      "150:\tlearn: 0.0273210\ttotal: 3.53s\tremaining: 2.31s\n",
      "151:\tlearn: 0.0272051\ttotal: 3.56s\tremaining: 2.3s\n",
      "152:\tlearn: 0.0271054\ttotal: 3.59s\tremaining: 2.27s\n",
      "153:\tlearn: 0.0270674\ttotal: 3.61s\tremaining: 2.25s\n",
      "154:\tlearn: 0.0269545\ttotal: 3.63s\tremaining: 2.22s\n",
      "155:\tlearn: 0.0269202\ttotal: 3.65s\tremaining: 2.2s\n",
      "156:\tlearn: 0.0268260\ttotal: 3.67s\tremaining: 2.17s\n",
      "157:\tlearn: 0.0267491\ttotal: 3.69s\tremaining: 2.15s\n",
      "158:\tlearn: 0.0266733\ttotal: 3.71s\tremaining: 2.12s\n",
      "159:\tlearn: 0.0266077\ttotal: 3.73s\tremaining: 2.1s\n",
      "160:\tlearn: 0.0263873\ttotal: 3.76s\tremaining: 2.08s\n",
      "161:\tlearn: 0.0261050\ttotal: 3.78s\tremaining: 2.05s\n",
      "162:\tlearn: 0.0259728\ttotal: 3.8s\tremaining: 2.03s\n",
      "163:\tlearn: 0.0259435\ttotal: 3.82s\tremaining: 2s\n",
      "164:\tlearn: 0.0257491\ttotal: 3.84s\tremaining: 1.98s\n",
      "165:\tlearn: 0.0254953\ttotal: 3.86s\tremaining: 1.95s\n",
      "166:\tlearn: 0.0253757\ttotal: 3.9s\tremaining: 1.94s\n",
      "167:\tlearn: 0.0252184\ttotal: 3.92s\tremaining: 1.91s\n",
      "168:\tlearn: 0.0251264\ttotal: 3.95s\tremaining: 1.89s\n",
      "169:\tlearn: 0.0250863\ttotal: 3.97s\tremaining: 1.87s\n",
      "170:\tlearn: 0.0249813\ttotal: 3.99s\tremaining: 1.84s\n",
      "171:\tlearn: 0.0249513\ttotal: 4.01s\tremaining: 1.82s\n",
      "172:\tlearn: 0.0246641\ttotal: 4.03s\tremaining: 1.79s\n",
      "173:\tlearn: 0.0246193\ttotal: 4.05s\tremaining: 1.77s\n",
      "174:\tlearn: 0.0245567\ttotal: 4.07s\tremaining: 1.74s\n",
      "175:\tlearn: 0.0243048\ttotal: 4.09s\tremaining: 1.72s\n",
      "176:\tlearn: 0.0241891\ttotal: 4.11s\tremaining: 1.69s\n",
      "177:\tlearn: 0.0238980\ttotal: 4.14s\tremaining: 1.67s\n",
      "178:\tlearn: 0.0238764\ttotal: 4.17s\tremaining: 1.66s\n",
      "179:\tlearn: 0.0238426\ttotal: 4.2s\tremaining: 1.63s\n",
      "180:\tlearn: 0.0237776\ttotal: 4.24s\tremaining: 1.62s\n",
      "181:\tlearn: 0.0236036\ttotal: 4.28s\tremaining: 1.6s\n",
      "182:\tlearn: 0.0235029\ttotal: 4.31s\tremaining: 1.58s\n",
      "183:\tlearn: 0.0234581\ttotal: 4.33s\tremaining: 1.55s\n",
      "184:\tlearn: 0.0233338\ttotal: 4.35s\tremaining: 1.53s\n",
      "185:\tlearn: 0.0231970\ttotal: 4.42s\tremaining: 1.52s\n",
      "186:\tlearn: 0.0230676\ttotal: 4.5s\tremaining: 1.51s\n",
      "187:\tlearn: 0.0229981\ttotal: 4.58s\tremaining: 1.51s\n",
      "188:\tlearn: 0.0228640\ttotal: 4.64s\tremaining: 1.5s\n",
      "189:\tlearn: 0.0227783\ttotal: 4.67s\tremaining: 1.48s\n",
      "190:\tlearn: 0.0226420\ttotal: 4.7s\tremaining: 1.45s\n",
      "191:\tlearn: 0.0224922\ttotal: 4.72s\tremaining: 1.43s\n",
      "192:\tlearn: 0.0224788\ttotal: 4.73s\tremaining: 1.4s\n",
      "193:\tlearn: 0.0224551\ttotal: 4.75s\tremaining: 1.37s\n",
      "194:\tlearn: 0.0224116\ttotal: 4.78s\tremaining: 1.35s\n",
      "195:\tlearn: 0.0223454\ttotal: 4.81s\tremaining: 1.32s\n",
      "196:\tlearn: 0.0222106\ttotal: 4.86s\tremaining: 1.31s\n",
      "197:\tlearn: 0.0221638\ttotal: 4.91s\tremaining: 1.29s\n",
      "198:\tlearn: 0.0220803\ttotal: 4.93s\tremaining: 1.26s\n",
      "199:\tlearn: 0.0220354\ttotal: 4.96s\tremaining: 1.24s\n",
      "200:\tlearn: 0.0217658\ttotal: 4.98s\tremaining: 1.21s\n",
      "201:\tlearn: 0.0215303\ttotal: 5s\tremaining: 1.19s\n",
      "202:\tlearn: 0.0215004\ttotal: 5.03s\tremaining: 1.16s\n",
      "203:\tlearn: 0.0213672\ttotal: 5.05s\tremaining: 1.14s\n",
      "204:\tlearn: 0.0213065\ttotal: 5.07s\tremaining: 1.11s\n",
      "205:\tlearn: 0.0212272\ttotal: 5.09s\tremaining: 1.09s\n",
      "206:\tlearn: 0.0211810\ttotal: 5.11s\tremaining: 1.06s\n",
      "207:\tlearn: 0.0211688\ttotal: 5.12s\tremaining: 1.03s\n",
      "208:\tlearn: 0.0210972\ttotal: 5.14s\tremaining: 1.01s\n",
      "209:\tlearn: 0.0210436\ttotal: 5.17s\tremaining: 985ms\n",
      "210:\tlearn: 0.0209796\ttotal: 5.19s\tremaining: 960ms\n",
      "211:\tlearn: 0.0208037\ttotal: 5.21s\tremaining: 934ms\n",
      "212:\tlearn: 0.0207228\ttotal: 5.23s\tremaining: 909ms\n",
      "213:\tlearn: 0.0206764\ttotal: 5.25s\tremaining: 884ms\n",
      "214:\tlearn: 0.0205901\ttotal: 5.27s\tremaining: 858ms\n",
      "215:\tlearn: 0.0205149\ttotal: 5.29s\tremaining: 833ms\n",
      "216:\tlearn: 0.0204195\ttotal: 5.31s\tremaining: 808ms\n",
      "217:\tlearn: 0.0203606\ttotal: 5.33s\tremaining: 783ms\n",
      "218:\tlearn: 0.0202480\ttotal: 5.35s\tremaining: 758ms\n",
      "219:\tlearn: 0.0202362\ttotal: 5.37s\tremaining: 733ms\n",
      "220:\tlearn: 0.0202070\ttotal: 5.39s\tremaining: 708ms\n",
      "221:\tlearn: 0.0200926\ttotal: 5.43s\tremaining: 685ms\n",
      "222:\tlearn: 0.0198563\ttotal: 5.45s\tremaining: 660ms\n",
      "223:\tlearn: 0.0198071\ttotal: 5.47s\tremaining: 635ms\n",
      "224:\tlearn: 0.0197498\ttotal: 5.49s\tremaining: 610ms\n",
      "225:\tlearn: 0.0197054\ttotal: 5.51s\tremaining: 585ms\n",
      "226:\tlearn: 0.0196678\ttotal: 5.54s\tremaining: 561ms\n",
      "227:\tlearn: 0.0196184\ttotal: 5.55s\tremaining: 536ms\n",
      "228:\tlearn: 0.0195525\ttotal: 5.58s\tremaining: 511ms\n",
      "229:\tlearn: 0.0195013\ttotal: 5.59s\tremaining: 487ms\n",
      "230:\tlearn: 0.0194160\ttotal: 5.61s\tremaining: 462ms\n",
      "231:\tlearn: 0.0193610\ttotal: 5.63s\tremaining: 437ms\n",
      "232:\tlearn: 0.0193014\ttotal: 5.65s\tremaining: 412ms\n",
      "233:\tlearn: 0.0192459\ttotal: 5.67s\tremaining: 388ms\n",
      "234:\tlearn: 0.0191628\ttotal: 5.69s\tremaining: 363ms\n",
      "235:\tlearn: 0.0191167\ttotal: 5.71s\tremaining: 339ms\n",
      "236:\tlearn: 0.0188641\ttotal: 5.73s\tremaining: 314ms\n",
      "237:\tlearn: 0.0188176\ttotal: 5.75s\tremaining: 290ms\n",
      "238:\tlearn: 0.0187192\ttotal: 5.77s\tremaining: 265ms\n",
      "239:\tlearn: 0.0186888\ttotal: 5.79s\tremaining: 241ms\n",
      "240:\tlearn: 0.0186403\ttotal: 5.81s\tremaining: 217ms\n",
      "241:\tlearn: 0.0185103\ttotal: 5.83s\tremaining: 193ms\n",
      "242:\tlearn: 0.0183922\ttotal: 5.85s\tremaining: 168ms\n",
      "243:\tlearn: 0.0183371\ttotal: 5.87s\tremaining: 144ms\n",
      "244:\tlearn: 0.0181950\ttotal: 5.89s\tremaining: 120ms\n",
      "245:\tlearn: 0.0181321\ttotal: 5.91s\tremaining: 96.1ms\n",
      "246:\tlearn: 0.0180640\ttotal: 5.93s\tremaining: 72ms\n",
      "247:\tlearn: 0.0179700\ttotal: 5.95s\tremaining: 48ms\n",
      "248:\tlearn: 0.0178529\ttotal: 5.97s\tremaining: 24ms\n",
      "249:\tlearn: 0.0178369\ttotal: 5.99s\tremaining: 0us\n",
      " Results from Grid Search \n",
      "\n",
      " The best estimator across ALL searched params:\n",
      " <catboost.core.CatBoostClassifier object at 0x000001C086A70910>\n",
      "\n",
      " The best score across ALL searched params:\n",
      " 0.9817556296914095\n",
      "\n",
      " The best parameters across ALL searched params:\n",
      " {'depth': 10, 'iterations': 250, 'l2_leaf_reg': 5, 'learning_rate': 0.1}\n"
     ]
    }
   ],
   "source": [
    "parameters = {'learning_rate': [0.01, 0.1, 1.0],\n",
    "              'iterations': [10, 50, 100, 250],\n",
    "              'depth': [4, 6, 10],\n",
    "              'l2_leaf_reg': [1, 3, 5, 7, 9]}\n",
    "model = CatBoostClassifier(iterations=10)\n",
    "\n",
    "grid = GridSearchCV(estimator=model, param_grid = parameters, cv = 2, n_jobs=-1)\n",
    "grid.fit(X_train, y_train)\n",
    "\n",
    "print(\" Results from Grid Search \" )\n",
    "print(\"\\n The best estimator across ALL searched params:\\n\", grid.best_estimator_)\n",
    "print(\"\\n The best score across ALL searched params:\\n\", grid.best_score_)\n",
    "print(\"\\n The best parameters across ALL searched params:\\n\", grid.best_params_)"
   ],
   "metadata": {
    "collapsed": false,
    "pycharm": {
     "name": "#%%\n"
    }
   }
  },
  {
   "cell_type": "markdown",
   "source": [
    "There are a few boosting parameters we could consider exploring different:\n",
    "- number of trees\n",
    "- learning rate\n",
    "- tree depth\n",
    "- regularizar\n",
    "- random strength\n",
    "- bagging temperatures\n",
    "- border count\n",
    "\n",
    "I decided to explore: number of trees, learning rate, tree depth, and regularizar. To explore the effects of each, I set different values to each variable to be used in the model (CatBoostClassifier). I used GridSearchCV to generate candidates from parameter values that could possibly result in a better accuracy. The results are then fitted using training dataset. I decided to test it on the training dataset to print out optimal values of parameters to be used during testing. I found that increasing the number of trees resulted in a longer runtime, however, did not affect the accuracy to much and for this reason, when using the test dataset, I would keep the number of trees to the minimal value that provides the mean accuracy.\n",
    "\n",
    "The best accuracy obtained is 0.9818 which is worst than the accuracy without tuning the parameters. I belive it is due to tuning the number of leaves for the reason I explained above. Overall, the best parameters are a tree depth of 4, 250 trees, a 3 twelve leaf regulizar, and a 0.1 learning rate."
   ],
   "metadata": {
    "collapsed": false
   }
  },
  {
   "cell_type": "markdown",
   "source": [
    "## Summary"
   ],
   "metadata": {
    "collapsed": false,
    "pycharm": {
     "name": "#%% md\n"
    }
   }
  },
  {
   "cell_type": "markdown",
   "source": [
    "Throughout the process, I have been commenting on my findings and analyzed the results. In this section, I am summarizing the results and concluding which model with what parameters performs the best.\n",
    "\n",
    "Bagging without tuning any of the parameters result in a mean accuracy 0.969. A list of the accuracy at each K fold is printed in the Bagging section. After tuning the hyper parameters to the optimal value an accuracy of 0.9764 is reached. The optimal value of each parameter is a gini criterion, maximum depth of 10, and a minimum of 10 sample leaves. Notice tuning the hyper parameters resulted in a lower performance accuracy.\n",
    "\n",
    "Boosting with original parameters produces a mean accuracy of 0.980. After tuning the hyper parameters to the optimal value an accuracy of 0.981 is reached. The optimal value of each parameter is a tree depth of 4, 250 trees, a 3 twelve leaf regulizar, and a 0.1 learning rate.\n",
    "\n",
    "In conclusion, the bagging model (DecisionTreeClassifier) performed better than the boosting model (CatBoostClassifier). Overall, the best model performance comes from a dfecision tree classifier with no tuning of hyper parameters."
   ],
   "metadata": {
    "collapsed": false,
    "pycharm": {
     "name": "#%% md\n"
    }
   }
  }
 ],
 "metadata": {
  "kernelspec": {
   "display_name": "Python 3",
   "language": "python",
   "name": "python3"
  },
  "language_info": {
   "codemirror_mode": {
    "name": "ipython",
    "version": 2
   },
   "file_extension": ".py",
   "mimetype": "text/x-python",
   "name": "python",
   "nbconvert_exporter": "python",
   "pygments_lexer": "ipython2",
   "version": "2.7.6"
  }
 },
 "nbformat": 4,
 "nbformat_minor": 0
}