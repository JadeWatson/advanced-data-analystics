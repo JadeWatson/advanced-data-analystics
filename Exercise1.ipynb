{
 "cells": [
  {
   "cell_type": "code",
   "execution_count": 7,
   "metadata": {
    "collapsed": true
   },
   "outputs": [
    {
     "name": "stdout",
     "output_type": "stream",
     "text": [
      "<class 'pandas.core.frame.DataFrame'>\n",
      "RangeIndex: 12333 entries, 0 to 12332\n",
      "Data columns (total 18 columns):\n",
      " #   Column                          Non-Null Count  Dtype  \n",
      "---  ------                          --------------  -----  \n",
      " 0   id                              12333 non-null  int64  \n",
      " 1   name                            12328 non-null  object \n",
      " 2   host_id                         12333 non-null  int64  \n",
      " 3   host_name                       12331 non-null  object \n",
      " 4   neighbourhood_group             0 non-null      float64\n",
      " 5   neighbourhood                   12333 non-null  object \n",
      " 6   latitude                        12333 non-null  float64\n",
      " 7   longitude                       12333 non-null  float64\n",
      " 8   room_type                       12333 non-null  object \n",
      " 9   price                           12333 non-null  int64  \n",
      " 10  minimum_nights                  12333 non-null  int64  \n",
      " 11  number_of_reviews               12333 non-null  int64  \n",
      " 12  last_review                     9678 non-null   object \n",
      " 13  reviews_per_month               9678 non-null   float64\n",
      " 14  calculated_host_listings_count  12333 non-null  int64  \n",
      " 15  availability_365                12333 non-null  int64  \n",
      " 16  number_of_reviews_ltm           12333 non-null  int64  \n",
      " 17  license                         242 non-null    object \n",
      "dtypes: float64(4), int64(8), object(6)\n",
      "memory usage: 1.7+ MB\n",
      "None\n",
      "count    12333.000000\n",
      "mean       125.621747\n",
      "std        261.253110\n",
      "min          0.000000\n",
      "25%         52.000000\n",
      "50%         85.000000\n",
      "75%        130.000000\n",
      "max      13294.000000\n",
      "Name: price, dtype: float64\n"
     ]
    },
    {
     "data": {
      "text/plain": "<Figure size 432x288 with 1 Axes>",
      "image/png": "[encoded data removed]"
     },
     "metadata": {
      "needs_background": "light"
     },
     "output_type": "display_data"
    },
    {
     "data": {
      "text/plain": "<Figure size 432x288 with 1 Axes>",
      "image/png": "[encoded data removed]"
     },
     "metadata": {
      "needs_background": "light"
     },
     "output_type": "display_data"
    }
   ],
   "source": [
    "# Statistical Analysis\n",
    "import pandas as pd\n",
    "import matplotlib.pyplot as plt\n",
    "# Read data\n",
    "houses = pd.read_csv('listings.csv')\n",
    "print(houses.info())\n",
    "# Statistical Measures\n",
    "print(houses.price.describe())\n",
    "# Boxplot\n",
    "houses.boxplot('price')\n",
    "plt.ylabel('Frequency')\n",
    "# Histogram\n",
    "houses.hist(column=['price'], range=[0,1250])\n",
    "plt.xlabel(\"price\")\n",
    "plt.ylabel('Frequency')\n",
    "plt.show()"
   ]
  },
  {
   "cell_type": "markdown",
   "source": [
    "A statistical summary of the price for housing listings in Montreal is illustrated using three different methods. The first method displays a numeric summary of the count, mean, standard deviation, min, first/second/third percentile, and max price values. It is evident that housing prices range from 0-13,294 dollars with an the average price of 126 dollars. It is interesting that the average price is almost in the third quarter, indicating that the average price tends to be on the more expensive side of the price spectrum.\n",
    "\n",
    "The second method illustrates a boxplot. Generally, a boxplot is used to compare different categories/columns to see how they effect the price individually, however, a boxplot also clearly shows the outliers. I decided to use a boxplot to explore the outliers and visualize how tightly grouped the data is. Without numeric values, the price data is tightly group with about 2500 listings with a similar price listing.\n",
    "\n",
    "The third method used is a histogram to show the probability distribution of prices. It is evident that all listings range from 0-1200 dollars roughly. The majority of listings range from 0-370 dollars. In conclusion, the three methods provide a numerical and graphical statistical summary of the listing prices. Method 1 provides exact values of a statistical analysis whereas method 2 and 3 provide a visual of a statistical summary."
   ],
   "metadata": {
    "collapsed": false,
    "pycharm": {
     "name": "#%% md\n"
    }
   }
  },
  {
   "cell_type": "markdown",
   "source": [
    "Next, a statistical test will be performed involving list room type and list price. The null hypothesis (H0) is that room type does not effect the price of a listing. We wish to determine if room type effects the listing price. The five questions for selecting a statistical method are used:\n",
    "\n",
    " 1. How many variables do you have? Two variables.\n",
    " 2. What is your statistical objective? Comparison.\n",
    " 3. What scales of measurement do the variables use? Price/dollars.\n",
    " 4. Are there dependent and independent variables? price: dependent variable, room type: independent variable\n",
    " 5. Are the samples auto-correlated? No.\n",
    "\n",
    "Firstly, there are two variables to compare: room type and list price. Second, there is one independent variable (room type). There are four different room types: entire home/apt, private room, hotel room, and shared room. Since there are four types of room types, it has a four level factor. As result, one-way parametric ANOVA will be used. The ANOVA test requires the parameters to be independent, population distribution to be normal, and samples to have equal variance. As mentioned above, room type is the independent variable, thus we need to prove normality and homogeneity of variance. The results are printed and interpreted below."
   ],
   "metadata": {
    "collapsed": false,
    "pycharm": {
     "name": "#%% md\n"
    }
   }
  },
  {
   "cell_type": "code",
   "execution_count": 3,
   "outputs": [
    {
     "name": "stdout",
     "output_type": "stream",
     "text": [
      "                    sum_sq       df          F        PR(>F)\n",
      "C(room_type)  1.055006e+07      3.0  52.165479  1.699530e-33\n",
      "Residual      8.311482e+08  12329.0        NaN           NaN\n",
      "ShapiroResult(statistic=0.20892226696014404, pvalue=0.0)\n"
     ]
    },
    {
     "name": "stderr",
     "output_type": "stream",
     "text": [
      "C:\\Users\\Jade Watson\\anaconda3\\lib\\site-packages\\scipy\\stats\\morestats.py:1760: UserWarning: p-value may not be accurate for N > 5000.\n",
      "  warnings.warn(\"p-value may not be accurate for N > 5000.\")\n"
     ]
    },
    {
     "data": {
      "text/plain": "<Figure size 432x288 with 1 Axes>",
      "image/png": "[encoded data removed]"
     },
     "metadata": {
      "needs_background": "light"
     },
     "output_type": "display_data"
    },
    {
     "name": "stdout",
     "output_type": "stream",
     "text": [
      "256.9460208151679 2.0578891378350037e-55\n"
     ]
    }
   ],
   "source": [
    "import statsmodels.api as sm\n",
    "from statsmodels.formula.api import ols\n",
    "import matplotlib.pyplot as plt\n",
    "import scipy.stats as stats\n",
    "\n",
    "# Ordinary least squares (ols) model\n",
    "model = ols('price ~ C(room_type)' , data =houses).fit()\n",
    "# ANOVA output\n",
    "aov_table = sm.stats.anova_lm(model, typ=2)\n",
    "print(aov_table)\n",
    "\n",
    "# Normality Check\n",
    "# Shapiro Check\n",
    "print(stats.shapiro(model.resid))\n",
    "# Visual Check\n",
    "plt.hist(model.resid, bins='auto', histtype='bar', ec='k', range=[-200,200])\n",
    "plt.xlabel(\"Residuals\")\n",
    "plt.ylabel('Frequency')\n",
    "plt.show()\n",
    "\n",
    "# Homegeneity of Variance\n",
    "# Bartlett's test\n",
    "w, pvalue = stats.bartlett(houses['price'][houses['room_type']== 'Entire home/apt'], houses['price'][houses['room_type'] == 'Private room'], houses['price'][houses['room_type'] == 'Hotel room'],houses['price'][houses['room_type']=='Shared room'])\n",
    "print(w, pvalue)"
   ],
   "metadata": {
    "collapsed": false,
    "pycharm": {
     "name": "#%%\n"
    }
   }
  },
  {
   "cell_type": "markdown",
   "source": [
    "Upon completion of the ANOVA test, we obtain a statistic of 52.2 and p value of 1.7e-33. Since p < 0.05, we conclude that there is a statistically significant difference between the room type and their effects on price. For this reason, the null hypothesis is rejected and indeed room type does have an effect on price of the listing (H1).\n",
    "\n",
    "The histogram illustrates a normal distributions and suggests that the residuals are approximately normally distributed. To check, I used the Shapiro-Wilk test. However, N>5000 results in an inaccurate p-value, and thus, I cannot conclude if the data is normally distributed from this test. As the data is drawn from normal distribution, I used Bartlett's test to check homogeneity of variances. The null hypothesis for the Barlett's test is samples from populations have equal variances. Since p<0.05, the null hypothesis is rejected and therefore it is possible that the population does not have equal variances. In this is the case, one way ANOVA may not be the best statistical test to use, however, still suffices as it meets most of the parameter requirements compared to other tests."
   ],
   "metadata": {
    "collapsed": false
   }
  },
  {
   "cell_type": "markdown",
   "source": [
    "A statistical test will now be performed between listing neighbourhood and list price. The null hypothesis (H0) is the neighbourhood does not effect the listing price. We wish to determine if the neighbourhood effects the listing price. Similar to the above, I will use the five questions to determine which statistical test to use.\n",
    "\n",
    " 1. How many variables do you have? Two variables.\n",
    " 2. What is your statistical objective? Comparison.\n",
    " 3. What scales of measurement do the variables use? Price.\n",
    " 4. Are there dependent and independent variables? price: dependent variable, neighbourhood: independent variable\n",
    " 5. Are the samples auto-correlated? No.\n",
    "\n",
    "Similarly, there are two variables to compare: neighbourhood and list price. Second, there is one independent variable (neighbourhood). There are multiple (more than two categories) different neighbourhoods. As result, one-way parametric ANOVA will be used. As mentioned above, neighbourhood is the independent variable, thus we need to prove normality and homogeneity of variance. The results are printed and interpreted below."
   ],
   "metadata": {
    "collapsed": false,
    "pycharm": {
     "name": "#%% md\n"
    }
   }
  },
  {
   "cell_type": "code",
   "execution_count": 31,
   "outputs": [
    {
     "name": "stdout",
     "output_type": "stream",
     "text": [
      "                        sum_sq       df         F   PR(>F)\n",
      "C(neighbourhood)  4.978999e+06     31.0  2.361245  0.00003\n",
      "Residual          8.367193e+08  12301.0       NaN      NaN\n",
      "ShapiroResult(statistic=0.2242862582206726, pvalue=0.0)\n"
     ]
    },
    {
     "name": "stderr",
     "output_type": "stream",
     "text": [
      "C:\\Users\\Jade Watson\\anaconda3\\lib\\site-packages\\scipy\\stats\\morestats.py:1760: UserWarning: p-value may not be accurate for N > 5000.\n",
      "  warnings.warn(\"p-value may not be accurate for N > 5000.\")\n"
     ]
    },
    {
     "data": {
      "text/plain": "<Figure size 432x288 with 1 Axes>",
      "image/png": "[encoded data removed]"
     },
     "metadata": {
      "needs_background": "light"
     },
     "output_type": "display_data"
    },
    {
     "data": {
      "text/plain": "Text(0, 0.5, 'residuals')"
     },
     "execution_count": 31,
     "metadata": {},
     "output_type": "execute_result"
    },
    {
     "data": {
      "text/plain": "<Figure size 432x288 with 1 Axes>",
      "image/png": "[encoded data removed]"
     },
     "metadata": {
      "needs_background": "light"
     },
     "output_type": "display_data"
    }
   ],
   "source": [
    "import statsmodels.api as sm\n",
    "from statsmodels.formula.api import ols\n",
    "import matplotlib.pyplot as plt\n",
    "import scipy.stats as stats\n",
    "from bioinfokit.analys import stat\n",
    "\n",
    "model2 = ols('price ~ C(neighbourhood)', data =houses).fit()\n",
    "aov_table2 = sm.stats.anova_lm(model2, typ=2)\n",
    "print(aov_table2)\n",
    "\n",
    "# Normality Check\n",
    "# Numerical Check\n",
    "print(stats.shapiro(model2.resid))\n",
    "# Visual Check\n",
    "plt.hist(model2.resid, bins='auto', histtype='bar', ec='k', range=[-200,200])\n",
    "plt.xlabel(\"Residuals\")\n",
    "plt.ylabel('Frequency')\n",
    "plt.show()\n",
    "\n",
    "# Homegeneity of Variance\n",
    "#stat.bartlett(df = houses, xfac_var = 'neighbourhood', res_var = 'price')\n",
    "# visual check\n",
    "x = model2.fittedvalues\n",
    "y = model2.resid\n",
    "plt.scatter(x,y, alpha = 0.5)\n",
    "plt.xlabel('fitted value')\n",
    "plt.ylabel('residuals')"
   ],
   "metadata": {
    "collapsed": false,
    "pycharm": {
     "name": "#%%\n"
    }
   }
  },
  {
   "cell_type": "markdown",
   "source": [
    "Upon completion of the ANOVA test, we obtain a statistic of 2.3612 and p value of 0.00003. Since p < 0.05, we conclude that there is a statistically significant difference between the neighbourhood and their effects on price. For this reason, the null hypothesis is rejected and indeed neighbourhood does have an effect on price of the listing (H1).\n",
    "\n",
    "The histogram illustrates a normal distributions and suggests that the residuals are approximately normally distributed. To check, I used the Shapiro-Wilk test. However, N>5000 results in an inaccurate p-value, and thus, I cannot conclude if the data is normally distributed from this test. As the data is drawn from normal distribution, I tried to use Bartlett's test to check homogeneity of variances, however, I couldn't figure out how to define the variable self. Instead I checked the assumption using a scatter plot. The null hypothesis for the Barlett's test is samples from populations have equal variances. We wish to see the points distributed around 0, forming a constant line of best fit. It is evident that the majority points are plotted around 0 and thus have equal variances. As a result, the parameter assumptions are verified and one-way ANOVA test is the ideal statistical test."
   ],
   "metadata": {
    "collapsed": false,
    "pycharm": {
     "name": "#%% md\n"
    }
   }
  },
  {
   "cell_type": "markdown",
   "source": [
    "A correlation analysis is performed between listing availability and reviews per month. It would be interesting to analyze the correlation between these two attributes because it will demonstrate if peer review influences how often a host keeps a listing available. For example, if a listing has lots of reviews per month, it may peek other consumer's interest in the listing and therefore the host may increase availability."
   ],
   "metadata": {
    "collapsed": false,
    "pycharm": {
     "name": "#%% md\n"
    }
   }
  },
  {
   "cell_type": "code",
   "execution_count": 16,
   "outputs": [
    {
     "data": {
      "text/plain": "0.13367802740832957"
     },
     "execution_count": 16,
     "metadata": {},
     "output_type": "execute_result"
    }
   ],
   "source": [
    "# Pearson Correlation between availability and reviews per month\n",
    "import pandas as pd\n",
    "houses = pd.read_csv('listings.csv')\n",
    "houses['availability_365'].corr(houses['reviews_per_month'])"
   ],
   "metadata": {
    "collapsed": false,
    "pycharm": {
     "name": "#%%\n"
    }
   }
  },
  {
   "cell_type": "markdown",
   "source": [
    "The correlation between availability and reviews per month is 0.133. The strongest correlation is 1.0 which occurs when the same attributes are selected. In conclusion, 0.133 indicates a weak positive correlation between the two. This means that the two attributes do influence one another, however, have a very minimal influence. Therefore, availability of a listing does not increase if the number of reviews per month increases."
   ],
   "metadata": {
    "collapsed": false,
    "pycharm": {
     "name": "#%% md\n"
    }
   }
  },
  {
   "cell_type": "markdown",
   "source": [
    "A correlation is performed between the number of reviews and the number of host listings. It would be interesting to analyze the correlation between these two attributes because it will demonstrate if a popular host with lots of listings obtains more comments than a host with less listings. This could indicate that a consumer is more likely to rent a place from a more popular host."
   ],
   "metadata": {
    "collapsed": false,
    "pycharm": {
     "name": "#%% md\n"
    }
   }
  },
  {
   "cell_type": "code",
   "execution_count": 19,
   "outputs": [
    {
     "data": {
      "text/plain": "-0.03473666553445677"
     },
     "execution_count": 19,
     "metadata": {},
     "output_type": "execute_result"
    }
   ],
   "source": [
    "# Pearson Correlation between number of reviews and number of host listings\n",
    "import pandas as pd\n",
    "houses = pd.read_csv('listings.csv')\n",
    "#houses.corr(method='pearson')\n",
    "houses['number_of_reviews'].corr(houses['calculated_host_listings_count'])"
   ],
   "metadata": {
    "collapsed": false,
    "pycharm": {
     "name": "#%%\n"
    }
   }
  },
  {
   "cell_type": "markdown",
   "source": [
    "The correlation between number of reviews and calculated host listings is -0.035. This indicates a weak negative correlation and thus the two attributes do not influence one another. To be more clear, a host with less listings may achieve the same or more number of reviews as a host with more listings."
   ],
   "metadata": {
    "collapsed": false,
    "pycharm": {
     "name": "#%% md\n"
    }
   }
  }
 ],
 "metadata": {
  "kernelspec": {
   "display_name": "Python 3",
   "language": "python",
   "name": "python3"
  },
  "language_info": {
   "codemirror_mode": {
    "name": "ipython",
    "version": 2
   },
   "file_extension": ".py",
   "mimetype": "text/x-python",
   "name": "python",
   "nbconvert_exporter": "python",
   "pygments_lexer": "ipython2",
   "version": "2.7.6"
  }
 },
 "nbformat": 4,
 "nbformat_minor": 0
}